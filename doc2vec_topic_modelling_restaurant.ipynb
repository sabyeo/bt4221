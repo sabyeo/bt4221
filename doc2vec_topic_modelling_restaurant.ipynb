{
 "cells": [
  {
   "cell_type": "code",
   "execution_count": 1,
   "metadata": {},
   "outputs": [
    {
     "name": "stderr",
     "output_type": "stream",
     "text": [
      "[nltk_data] Downloading package stopwords to\n",
      "[nltk_data]     /Users/natalie/nltk_data...\n",
      "[nltk_data]   Package stopwords is already up-to-date!\n"
     ]
    }
   ],
   "source": [
    "import pandas as pd\n",
    "import numpy as np\n",
    "from nltk import RegexpTokenizer\n",
    "from nltk.corpus import stopwords\n",
    "\n",
    "import nltk\n",
    "nltk.download('stopwords')\n",
    "\n",
    "import gensim\n",
    "\n",
    "from sklearn.cluster import KMeans\n",
    "from sklearn import metrics\n",
    "import pylab as pl\n",
    "\n",
    "import matplotlib.pyplot as plt\n",
    "from sklearn.decomposition import PCA\n",
    "\n",
    "import warnings\n",
    "warnings.filterwarnings('ignore')\n",
    "\n",
    "import emoji\n",
    "import regex as re\n",
    "from nltk.tokenize import word_tokenize\n",
    "from nltk.stem import PorterStemmer\n",
    "from nltk.corpus import wordnet\n",
    "from nltk.stem import WordNetLemmatizer\n",
    "\n",
    "from sklearn.metrics import silhouette_samples, silhouette_score\n",
    "from sklearn.metrics import pairwise_distances"
   ]
  },
  {
   "attachments": {},
   "cell_type": "markdown",
   "metadata": {},
   "source": [
    "# Data "
   ]
  },
  {
   "cell_type": "code",
   "execution_count": 2,
   "metadata": {},
   "outputs": [
    {
     "data": {
      "text/html": [
       "<div>\n",
       "<style scoped>\n",
       "    .dataframe tbody tr th:only-of-type {\n",
       "        vertical-align: middle;\n",
       "    }\n",
       "\n",
       "    .dataframe tbody tr th {\n",
       "        vertical-align: top;\n",
       "    }\n",
       "\n",
       "    .dataframe thead th {\n",
       "        text-align: right;\n",
       "    }\n",
       "</style>\n",
       "<table border=\"1\" class=\"dataframe\">\n",
       "  <thead>\n",
       "    <tr style=\"text-align: right;\">\n",
       "      <th></th>\n",
       "      <th>url</th>\n",
       "      <th>name</th>\n",
       "      <th>neighbourhood</th>\n",
       "      <th>price</th>\n",
       "      <th>categories</th>\n",
       "      <th>review</th>\n",
       "      <th>user</th>\n",
       "      <th>date</th>\n",
       "      <th>cleaned_price</th>\n",
       "      <th>cleaned_categories</th>\n",
       "      <th>...</th>\n",
       "      <th>Western</th>\n",
       "      <th>Recommended</th>\n",
       "      <th>Sustainable</th>\n",
       "      <th>Novel</th>\n",
       "      <th>Desserts</th>\n",
       "      <th>Bites</th>\n",
       "      <th>Supper</th>\n",
       "      <th>Breakfast &amp; Brunch</th>\n",
       "      <th>Halal</th>\n",
       "      <th>region</th>\n",
       "    </tr>\n",
       "  </thead>\n",
       "  <tbody>\n",
       "    <tr>\n",
       "      <th>0</th>\n",
       "      <td>https://www.burpple.com/bedok-85-market?bp_ref...</td>\n",
       "      <td>85 Fengshan Centre</td>\n",
       "      <td>Bedok</td>\n",
       "      <td>~$5/pax</td>\n",
       "      <td>['Hawker Food', 'Supper', 'Cheap &amp; Good']</td>\n",
       "      <td>\\nFish Ball Minced Meat Noodle\\nFishball, meat...</td>\n",
       "      <td>Triffany Lim</td>\n",
       "      <td>21m ago</td>\n",
       "      <td>5.0</td>\n",
       "      <td>['Local Delights', 'Supper', 'Value']</td>\n",
       "      <td>...</td>\n",
       "      <td>0</td>\n",
       "      <td>0</td>\n",
       "      <td>0</td>\n",
       "      <td>0</td>\n",
       "      <td>0</td>\n",
       "      <td>0</td>\n",
       "      <td>1</td>\n",
       "      <td>0</td>\n",
       "      <td>0</td>\n",
       "      <td>East</td>\n",
       "    </tr>\n",
       "    <tr>\n",
       "      <th>1</th>\n",
       "      <td>https://www.burpple.com/bedok-85-market?bp_ref...</td>\n",
       "      <td>85 Fengshan Centre</td>\n",
       "      <td>Bedok</td>\n",
       "      <td>~$5/pax</td>\n",
       "      <td>['Hawker Food', 'Supper', 'Cheap &amp; Good']</td>\n",
       "      <td>\\nOrh lua\\nThere are a couple of stores, but g...</td>\n",
       "      <td>Ally Tan</td>\n",
       "      <td>Jul 30 at 4:12pm</td>\n",
       "      <td>5.0</td>\n",
       "      <td>['Local Delights', 'Supper', 'Value']</td>\n",
       "      <td>...</td>\n",
       "      <td>0</td>\n",
       "      <td>0</td>\n",
       "      <td>0</td>\n",
       "      <td>0</td>\n",
       "      <td>0</td>\n",
       "      <td>0</td>\n",
       "      <td>1</td>\n",
       "      <td>0</td>\n",
       "      <td>0</td>\n",
       "      <td>East</td>\n",
       "    </tr>\n",
       "  </tbody>\n",
       "</table>\n",
       "<p>2 rows × 44 columns</p>\n",
       "</div>"
      ],
      "text/plain": [
       "                                                 url                name  \\\n",
       "0  https://www.burpple.com/bedok-85-market?bp_ref...  85 Fengshan Centre   \n",
       "1  https://www.burpple.com/bedok-85-market?bp_ref...  85 Fengshan Centre   \n",
       "\n",
       "  neighbourhood    price                                 categories  \\\n",
       "0         Bedok  ~$5/pax  ['Hawker Food', 'Supper', 'Cheap & Good']   \n",
       "1         Bedok  ~$5/pax  ['Hawker Food', 'Supper', 'Cheap & Good']   \n",
       "\n",
       "                                              review          user  \\\n",
       "0  \\nFish Ball Minced Meat Noodle\\nFishball, meat...  Triffany Lim   \n",
       "1  \\nOrh lua\\nThere are a couple of stores, but g...      Ally Tan   \n",
       "\n",
       "               date  cleaned_price                     cleaned_categories  \\\n",
       "0           21m ago            5.0  ['Local Delights', 'Supper', 'Value']   \n",
       "1  Jul 30 at 4:12pm            5.0  ['Local Delights', 'Supper', 'Value']   \n",
       "\n",
       "   ... Western  Recommended  Sustainable  Novel  Desserts  Bites  Supper  \\\n",
       "0  ...       0            0            0      0         0      0       1   \n",
       "1  ...       0            0            0      0         0      0       1   \n",
       "\n",
       "   Breakfast & Brunch  Halal  region  \n",
       "0                   0      0    East  \n",
       "1                   0      0    East  \n",
       "\n",
       "[2 rows x 44 columns]"
      ]
     },
     "execution_count": 2,
     "metadata": {},
     "output_type": "execute_result"
    }
   ],
   "source": [
    "data = pd.read_csv('scrape/restaurant-data/cleaned_restaurant_reviews.csv', index_col=0).reset_index(drop=True)\n",
    "data.head(2)"
   ]
  },
  {
   "attachments": {},
   "cell_type": "markdown",
   "metadata": {},
   "source": [
    "### Review Text Cleaning\n",
    "(to shift to eda code + run with translation)"
   ]
  },
  {
   "cell_type": "code",
   "execution_count": 3,
   "metadata": {},
   "outputs": [],
   "source": [
    "ps = PorterStemmer()\n",
    "lemmatizer = WordNetLemmatizer()"
   ]
  },
  {
   "cell_type": "code",
   "execution_count": 4,
   "metadata": {},
   "outputs": [],
   "source": [
    "def decontracted(phrase):\n",
    "    # specific\n",
    "    phrase = re.sub(r\"won\\'t\", \"will not\", phrase)\n",
    "    phrase = re.sub(r\"can\\'t\", \"can not\", phrase)\n",
    "    phrase = re.sub(r\"didn\\'t\", \"did not\", phrase)\n",
    "    phrase = re.sub(r\"don\\'t\", \"do not\", phrase)\n",
    "    phrase = re.sub(r\"o\\'clock\", \"clock\", phrase)\n",
    "    phrase = re.sub(r\"couldn\\'t\", \"could not\", phrase)\n",
    "    phrase = re.sub(r\"that\\'s\", \"that is\", phrase)       \n",
    "    phrase = re.sub(r\"go-around\", \"go around\", phrase)  \n",
    "    # general\n",
    "    phrase = re.sub(r\"\\'ve\", \" have\", phrase)\n",
    "    phrase = re.sub(r\"n\\'t\", \" not\", phrase)\n",
    "    phrase = re.sub(r\"\\'re\", \" are\", phrase)\n",
    "    #phrase = re.sub(r\"\\'s\", \" is\", phrase)\n",
    "    phrase = re.sub(r\"\\'d\", \" would\", phrase)\n",
    "    phrase = re.sub(r\"\\'ll\", \" will\", phrase)\n",
    "    phrase = re.sub(r\"\\'t\", \" not\", phrase)\n",
    "    phrase = re.sub(r\"\\'m\", \" am\", phrase)\n",
    "    return phrase"
   ]
  },
  {
   "cell_type": "code",
   "execution_count": 5,
   "metadata": {},
   "outputs": [],
   "source": [
    "def get_wordnet_pos(treebank_tag):\n",
    "    if treebank_tag.startswith('J'):\n",
    "        return wordnet.ADJ\n",
    "    elif treebank_tag.startswith('V'):\n",
    "        return wordnet.VERB\n",
    "    elif treebank_tag.startswith('N'):\n",
    "        return wordnet.NOUN\n",
    "    elif treebank_tag.startswith('R'):\n",
    "        return wordnet.ADV\n",
    "    else:\n",
    "        return None"
   ]
  },
  {
   "cell_type": "code",
   "execution_count": 6,
   "metadata": {},
   "outputs": [],
   "source": [
    "stopwords = nltk.corpus.stopwords.words('english')\n",
    "new_stopwords = ['address', 'note', 'tel', 'website', 'open', 'burpple']\n",
    "add_stopwords = set(['br', 'the', 'i', 'me', 'my', 'myself', 'we', 'our', 'ours', 'ourselves', 'you', \"you're\", \"you've\",\\\n",
    "    \"you'll\", \"you'd\", 'your', 'yours', 'yourself', 'yourselves', 'he', 'him', 'his', 'himself', \\\n",
    "    'she', \"she's\", 'her', 'hers', 'herself', 'it', \"it's\", 'its', 'itself', 'they', 'them', 'their',\\\n",
    "    'theirs', 'themselves', 'what', 'which', 'who', 'whom', 'this', 'that', \"that'll\", 'these', 'those', \\\n",
    "    'am', 'is', 'are', 'was', 'were', 'be', 'been', 'being', 'have', 'has', 'had', 'having', 'do', 'does', \\\n",
    "    'did', 'doing', 'a', 'an', 'the', 'and', 'but', 'if', 'or', 'because', 'as', 'until', 'while', 'of', \\\n",
    "    'at', 'by', 'for', 'with', 'about', 'against', 'between', 'into', 'through', 'during', 'before', 'after',\\\n",
    "    'above', 'below', 'to', 'from', 'up', 'down', 'in', 'out', 'on', 'off', 'over', 'under', 'again', 'further',\\\n",
    "    'then', 'once', 'here', 'there', 'when', 'where', 'why', 'how', 'all', 'any', 'both', 'each', 'few', 'more',\\\n",
    "    'most', 'other', 'some', 'such', 'only', 'own', 'same', 'so', 'than', 'too', 'very', \\\n",
    "    's', 't', 'can', 'will', 'just', 'don', \"don't\", 'should', \"should've\", 'now', 'd', 'll', 'm', 'o', 're', \\\n",
    "    've', 'y', 'ain', 'aren', \"aren't\", 'couldn', \"couldn't\", 'didn', \"didn't\", 'doesn', \"doesn't\", 'hadn',\\\n",
    "    \"hadn't\", 'hasn', \"hasn't\", 'haven', \"haven't\", 'isn', \"isn't\", 'ma', 'mightn', \"mightn't\", 'mustn',\\\n",
    "    \"mustn't\", 'needn', \"needn't\", 'shan', \"shan't\", 'shouldn', \"shouldn't\", 'wasn', \"wasn't\", 'weren', \"weren't\", \\\n",
    "    'won', \"won't\", 'wouldn', \"wouldn't\"])\n",
    "add_stopwords_2 =  ['n','s','m','i','1','2','3','4','5','6','7','8','9','10','one','two',\n",
    "    'it','in','ve','well','could','would','really','also','even',\n",
    "    'alway','always','still','never','much','thing','yet',\n",
    "    'said','asked','did','go','got','do','make','know','think','come','going',\n",
    "    'put','went','seem','order','ordered','give','eat','make','get']\n",
    "\n",
    "stopwords.extend(new_stopwords)\n",
    "stopwords.extend(add_stopwords)\n",
    "stopwords.extend(add_stopwords_2)"
   ]
  },
  {
   "cell_type": "code",
   "execution_count": 7,
   "metadata": {},
   "outputs": [
    {
     "name": "stdout",
     "output_type": "stream",
     "text": [
      "0\n",
      "1000\n",
      "2000\n",
      "3000\n",
      "4000\n",
      "5000\n",
      "6000\n",
      "7000\n",
      "8000\n",
      "9000\n",
      "10000\n",
      "11000\n",
      "12000\n",
      "13000\n",
      "14000\n",
      "15000\n",
      "16000\n",
      "17000\n",
      "18000\n",
      "19000\n",
      "20000\n",
      "21000\n",
      "22000\n",
      "23000\n",
      "24000\n",
      "25000\n",
      "26000\n",
      "27000\n",
      "28000\n"
     ]
    }
   ],
   "source": [
    "cleaned_review_list = []\n",
    "count = 0\n",
    "\n",
    "for review in data['review']:\n",
    "    # lower case\n",
    "    review = review.lower()\n",
    "\n",
    "    # deemojize\n",
    "    review = emoji.demojize(review)\n",
    "\n",
    "    # remove headers\n",
    "    review = ' '.join(review.split('\\n')[2:])\n",
    "\n",
    "    # remove location (pushpin or location:)\n",
    "    review = review.split('round_pushpin')[0]\n",
    "    review = review.split('location:')[0]\n",
    "\n",
    "    # clean punctuation\n",
    "    review = re.sub(r'[^\\w\\s]', '', review)\n",
    "\n",
    "    # tokenize\n",
    "    tokens = word_tokenize(review)\n",
    "\n",
    "    # remove stopwords and URLs\n",
    "    tokens = [word for word in tokens if word not in stopwords]\n",
    "    tokens = [word for word in tokens if 'http' not in word]\n",
    "    tokens = [word for word in tokens if 'www' not in word]\n",
    "\n",
    "    # decontraction\n",
    "    tokens = [decontracted(word) for word in tokens]\n",
    "\n",
    "    ### to add in translation code... shld translate each token\n",
    "\n",
    "    ### lemmatization\n",
    "    # POS tagging\n",
    "    tokens = [nltk.pos_tag([word]) for word in tokens]\n",
    "            \n",
    "    # lemmatization\n",
    "    tokens = [lemmatizer.lemmatize(word[0][0], get_wordnet_pos(word[0][1])) \n",
    "        if get_wordnet_pos(word[0][1])!=None else lemmatizer.lemmatize(word[0][0]) for word in tokens]\n",
    "    \n",
    "    ### WORD FREQUENCY\n",
    "    # modify count if POS tag is adjective\n",
    "    # new_tokens = []\n",
    "    # for token in tokens:\n",
    "    #     new_tokens.append(token)\n",
    "    #     word, pos = nltk.pos_tag([token])[0]\n",
    "    #     if pos == 'JJ' or pos == 'JJR' or pos == 'JJS' or pos == 'RB' or pos == 'RBR' or pos == 'RBS':  \n",
    "    #         new_tokens.append(token) ### ADD 1 MORE WORD OCCURENCE\n",
    "        #     if word in word_freq.keys():\n",
    "        #         word_freq[word] += 2 ### TO CHANGE THIS PARAMETER (double frequency for adjectivies)\n",
    "        #     else: \n",
    "        #         word_freq[word] = 2\n",
    "        # else:\n",
    "        #     if word in word_freq.keys():\n",
    "        #         word_freq[word] += 1 \n",
    "        #     else: \n",
    "        #         word_freq[word] = 1\n",
    "        \n",
    "    # concatenate tokens back\n",
    "    cleaned_review = \" \".join(tokens)\n",
    "    cleaned_review_list.append(cleaned_review)\n",
    "\n",
    "    if count%1000 == 0:\n",
    "        print(count)\n",
    "    count+=1"
   ]
  },
  {
   "cell_type": "code",
   "execution_count": 8,
   "metadata": {},
   "outputs": [],
   "source": [
    "# replace the old cleaned text\n",
    "data['cleaned_text'] = cleaned_review_list"
   ]
  },
  {
   "cell_type": "code",
   "execution_count": 9,
   "metadata": {},
   "outputs": [
    {
     "data": {
      "text/html": [
       "<div>\n",
       "<style scoped>\n",
       "    .dataframe tbody tr th:only-of-type {\n",
       "        vertical-align: middle;\n",
       "    }\n",
       "\n",
       "    .dataframe tbody tr th {\n",
       "        vertical-align: top;\n",
       "    }\n",
       "\n",
       "    .dataframe thead th {\n",
       "        text-align: right;\n",
       "    }\n",
       "</style>\n",
       "<table border=\"1\" class=\"dataframe\">\n",
       "  <thead>\n",
       "    <tr style=\"text-align: right;\">\n",
       "      <th></th>\n",
       "      <th>url</th>\n",
       "      <th>cleaned_text</th>\n",
       "    </tr>\n",
       "  </thead>\n",
       "  <tbody>\n",
       "    <tr>\n",
       "      <th>0</th>\n",
       "      <td>https://www.burpple.com/108-matcha-saro?bp_ref...</td>\n",
       "      <td>s850 strong matcha flavor soft serve topped wh...</td>\n",
       "    </tr>\n",
       "    <tr>\n",
       "      <th>1</th>\n",
       "      <td>https://www.burpple.com/136-hong-kong-street-f...</td>\n",
       "      <td>zhi char feast family love tze char lose count...</td>\n",
       "    </tr>\n",
       "    <tr>\n",
       "      <th>2</th>\n",
       "      <td>https://www.burpple.com/15-stamford?bp_ref=%2F...</td>\n",
       "      <td>four hand dinner chef alvin chef jay legendary...</td>\n",
       "    </tr>\n",
       "    <tr>\n",
       "      <th>3</th>\n",
       "      <td>https://www.burpple.com/25-degrees-singapore?b...</td>\n",
       "      <td>oh yesh loveeeee burger goooooood locate hotel...</td>\n",
       "    </tr>\n",
       "    <tr>\n",
       "      <th>4</th>\n",
       "      <td>https://www.burpple.com/46-mittsu?bp_ref=%2Ff%...</td>\n",
       "      <td>signature firebird koreaninspired sandwich fry...</td>\n",
       "    </tr>\n",
       "  </tbody>\n",
       "</table>\n",
       "</div>"
      ],
      "text/plain": [
       "                                                 url  \\\n",
       "0  https://www.burpple.com/108-matcha-saro?bp_ref...   \n",
       "1  https://www.burpple.com/136-hong-kong-street-f...   \n",
       "2  https://www.burpple.com/15-stamford?bp_ref=%2F...   \n",
       "3  https://www.burpple.com/25-degrees-singapore?b...   \n",
       "4  https://www.burpple.com/46-mittsu?bp_ref=%2Ff%...   \n",
       "\n",
       "                                        cleaned_text  \n",
       "0  s850 strong matcha flavor soft serve topped wh...  \n",
       "1  zhi char feast family love tze char lose count...  \n",
       "2  four hand dinner chef alvin chef jay legendary...  \n",
       "3  oh yesh loveeeee burger goooooood locate hotel...  \n",
       "4  signature firebird koreaninspired sandwich fry...  "
      ]
     },
     "execution_count": 9,
     "metadata": {},
     "output_type": "execute_result"
    }
   ],
   "source": [
    "# concatenate all the reviews for each restaurant\n",
    "restaurant_review_df = data[['url', 'cleaned_text']]\n",
    "restaurant_review_df = restaurant_review_df.groupby(['url'], as_index = False).agg({'cleaned_text': ' '.join})\n",
    "restaurant_review_df.head(5)"
   ]
  },
  {
   "cell_type": "code",
   "execution_count": 10,
   "metadata": {},
   "outputs": [
    {
     "data": {
      "text/html": [
       "<div>\n",
       "<style scoped>\n",
       "    .dataframe tbody tr th:only-of-type {\n",
       "        vertical-align: middle;\n",
       "    }\n",
       "\n",
       "    .dataframe tbody tr th {\n",
       "        vertical-align: top;\n",
       "    }\n",
       "\n",
       "    .dataframe thead th {\n",
       "        text-align: right;\n",
       "    }\n",
       "</style>\n",
       "<table border=\"1\" class=\"dataframe\">\n",
       "  <thead>\n",
       "    <tr style=\"text-align: right;\">\n",
       "      <th></th>\n",
       "      <th>url</th>\n",
       "      <th>name</th>\n",
       "      <th>neighbourhood</th>\n",
       "      <th>price</th>\n",
       "      <th>categories</th>\n",
       "      <th>user</th>\n",
       "      <th>date</th>\n",
       "      <th>cleaned_price</th>\n",
       "      <th>cleaned_categories</th>\n",
       "      <th>Healthy</th>\n",
       "      <th>...</th>\n",
       "      <th>Western</th>\n",
       "      <th>Recommended</th>\n",
       "      <th>Sustainable</th>\n",
       "      <th>Novel</th>\n",
       "      <th>Desserts</th>\n",
       "      <th>Bites</th>\n",
       "      <th>Supper</th>\n",
       "      <th>Breakfast &amp; Brunch</th>\n",
       "      <th>Halal</th>\n",
       "      <th>region</th>\n",
       "    </tr>\n",
       "  </thead>\n",
       "  <tbody>\n",
       "    <tr>\n",
       "      <th>0</th>\n",
       "      <td>https://www.burpple.com/108-matcha-saro?bp_ref...</td>\n",
       "      <td>108 Matcha Saro (Suntec City)</td>\n",
       "      <td>Promenade</td>\n",
       "      <td>~$10/pax</td>\n",
       "      <td>['Desserts', 'Ice Cream &amp; Yoghurt', 'Japanese']</td>\n",
       "      <td>Stefanny Stefanny</td>\n",
       "      <td>Nov 8 at 3:09pm</td>\n",
       "      <td>10.0</td>\n",
       "      <td>['Desserts', 'Desserts', 'Japanese']</td>\n",
       "      <td>0</td>\n",
       "      <td>...</td>\n",
       "      <td>0</td>\n",
       "      <td>0</td>\n",
       "      <td>0</td>\n",
       "      <td>0</td>\n",
       "      <td>1</td>\n",
       "      <td>0</td>\n",
       "      <td>0</td>\n",
       "      <td>0</td>\n",
       "      <td>0</td>\n",
       "      <td>South</td>\n",
       "    </tr>\n",
       "    <tr>\n",
       "      <th>1</th>\n",
       "      <td>https://www.burpple.com/136-hong-kong-street-f...</td>\n",
       "      <td>136 Hong Kong Street Fish Head Steamboat (Joo ...</td>\n",
       "      <td>Macpherson</td>\n",
       "      <td>~$15/pax</td>\n",
       "      <td>['Rainy Day Comforts', 'Hawker Food', 'Hot Pot...</td>\n",
       "      <td>Spoons Of Delights</td>\n",
       "      <td>3h ago</td>\n",
       "      <td>15.0</td>\n",
       "      <td>['Rainy Day Comforts', 'Local Delights', 'Chin...</td>\n",
       "      <td>0</td>\n",
       "      <td>...</td>\n",
       "      <td>0</td>\n",
       "      <td>0</td>\n",
       "      <td>0</td>\n",
       "      <td>0</td>\n",
       "      <td>0</td>\n",
       "      <td>0</td>\n",
       "      <td>0</td>\n",
       "      <td>0</td>\n",
       "      <td>0</td>\n",
       "      <td>East</td>\n",
       "    </tr>\n",
       "  </tbody>\n",
       "</table>\n",
       "<p>2 rows × 42 columns</p>\n",
       "</div>"
      ],
      "text/plain": [
       "                                                 url  \\\n",
       "0  https://www.burpple.com/108-matcha-saro?bp_ref...   \n",
       "1  https://www.burpple.com/136-hong-kong-street-f...   \n",
       "\n",
       "                                                name neighbourhood     price  \\\n",
       "0                      108 Matcha Saro (Suntec City)     Promenade  ~$10/pax   \n",
       "1  136 Hong Kong Street Fish Head Steamboat (Joo ...    Macpherson  ~$15/pax   \n",
       "\n",
       "                                          categories                user  \\\n",
       "0    ['Desserts', 'Ice Cream & Yoghurt', 'Japanese']   Stefanny Stefanny   \n",
       "1  ['Rainy Day Comforts', 'Hawker Food', 'Hot Pot...  Spoons Of Delights   \n",
       "\n",
       "              date  cleaned_price  \\\n",
       "0  Nov 8 at 3:09pm           10.0   \n",
       "1           3h ago           15.0   \n",
       "\n",
       "                                  cleaned_categories  Healthy  ...  Western  \\\n",
       "0               ['Desserts', 'Desserts', 'Japanese']        0  ...        0   \n",
       "1  ['Rainy Day Comforts', 'Local Delights', 'Chin...        0  ...        0   \n",
       "\n",
       "   Recommended  Sustainable  Novel  Desserts  Bites  Supper  \\\n",
       "0            0            0      0         1      0       0   \n",
       "1            0            0      0         0      0       0   \n",
       "\n",
       "   Breakfast & Brunch  Halal  region  \n",
       "0                   0      0   South  \n",
       "1                   0      0    East  \n",
       "\n",
       "[2 rows x 42 columns]"
      ]
     },
     "execution_count": 10,
     "metadata": {},
     "output_type": "execute_result"
    }
   ],
   "source": [
    "restaurant_characteristics_df = data.drop(['review', 'cleaned_text'], axis=1)\n",
    "restaurant_characteristics_df = restaurant_characteristics_df.groupby(['url'], as_index = False).first()\n",
    "restaurant_characteristics_df.head(2)"
   ]
  },
  {
   "cell_type": "code",
   "execution_count": 11,
   "metadata": {},
   "outputs": [],
   "source": [
    "restaurant_review_df = pd.merge(restaurant_review_df, restaurant_characteristics_df, on='url')"
   ]
  },
  {
   "attachments": {},
   "cell_type": "markdown",
   "metadata": {},
   "source": [
    "# Model"
   ]
  },
  {
   "cell_type": "code",
   "execution_count": 12,
   "metadata": {},
   "outputs": [],
   "source": [
    "tokenizer = RegexpTokenizer(r'\\w+')\n",
    "\n",
    "def nlp_clean(data):\n",
    "    new_data = []\n",
    "    for d in data:\n",
    "        new_str = d.lower()\n",
    "        dlist = tokenizer.tokenize(new_str)\n",
    "        new_data.append(dlist)\n",
    "    return new_data\n",
    "\n",
    "class LabeledLineSentence(object):\n",
    "    def __init__(self, doc_list, labels_list):\n",
    "        self.labels_list = labels_list\n",
    "        self.doc_list = doc_list\n",
    "    def __iter__(self):\n",
    "        for idx, doc in enumerate(self.doc_list):\n",
    "              yield gensim.models.doc2vec.TaggedDocument(doc, [self.labels_list[idx]])"
   ]
  },
  {
   "cell_type": "code",
   "execution_count": 13,
   "metadata": {},
   "outputs": [],
   "source": [
    "# tokenize reviews\n",
    "tokenized_reviews = nlp_clean(restaurant_review_df['cleaned_text'])"
   ]
  },
  {
   "attachments": {},
   "cell_type": "markdown",
   "metadata": {},
   "source": [
    "## Functions"
   ]
  },
  {
   "cell_type": "code",
   "execution_count": 14,
   "metadata": {},
   "outputs": [],
   "source": [
    "# doc2vec\n",
    "# word embeddings: calculate use frequency -> calculate cosine similarity -> group based on similar usage of words. (LDA just the first step)\n",
    "# vector size 1000 == randomly selecting 1000\n",
    "\n",
    "def doc2vec(tokenized_reviews, num_epochs): #, word_freq\n",
    "    it = LabeledLineSentence(tokenized_reviews, restaurant_review_df['url']) # label reviews with the restaurant url\n",
    "    model = gensim.models.Doc2Vec(vector_size=1000, min_count=5, alpha=0.025, min_alpha=0.025) #### TO TUNE\n",
    "    # model.build_vocab_from_freq(word_freq) #### TRY BUILD VOCAB FROM FREQ\n",
    "    model.build_vocab(it)\n",
    "    model.train(it, total_examples= model.corpus_count, epochs = num_epochs, start_alpha=0.002, end_alpha=-0.016)\n",
    "\n",
    "    # print(model.corpus_count) ## check the corpus\n",
    "    # print(len(model.docvecs)) # check doc2vec.\n",
    "\n",
    "    ### plot the accuracy of each epoch so we can see if its over or under-fitted\n",
    "    ### tweak learning rate and number of epochs\n",
    "    return it, model"
   ]
  },
  {
   "cell_type": "code",
   "execution_count": 15,
   "metadata": {},
   "outputs": [],
   "source": [
    "def optimise_epochs(tokenized_reviews):\n",
    "    range_epochs = range(2,11)\n",
    "    accuracy = []\n",
    "    for num_epoch in range_epochs:\n",
    "        it, model = doc2vec(tokenized_reviews, num_epoch)\n",
    "\n",
    "        kmeans = KMeans(n_clusters=5, init='k-means++', max_iter=100) ### ASSUME 5 clusters\n",
    "        X = kmeans.fit(model.dv.vectors)\n",
    "        silhouette_score_average = silhouette_score(model.dv.vectors, kmeans.predict(model.dv.vectors))\n",
    "        accuracy.append(silhouette_score_average)\n",
    "\n",
    "    plt.plot(list(range_epochs),accuracy)\n",
    "    plt.title('Silhouette Score For Each Epoch')\n",
    "    plt.show()"
   ]
  },
  {
   "cell_type": "code",
   "execution_count": 16,
   "metadata": {},
   "outputs": [],
   "source": [
    "def plot_silhouette(tokenized_reviews):\n",
    "    it, model = doc2vec(tokenized_reviews, 10)\n",
    "\n",
    "    kmeans = KMeans(n_clusters=5, init='k-means++', max_iter=100) ### ASSUME 5 clusters\n",
    "    X = kmeans.fit(model.dv.vectors)\n",
    "    silhouette_score_average = silhouette_score(model.dv.vectors, kmeans.predict(model.dv.vectors))\n",
    "    return silhouette_score_average"
   ]
  },
  {
   "cell_type": "code",
   "execution_count": 17,
   "metadata": {},
   "outputs": [],
   "source": [
    "def cosine_similarity_matrix(model):\n",
    "    similarity_df = pd.DataFrame()\n",
    "\n",
    "    for restaurant in it.labels_list:\n",
    "        similarity_list = []\n",
    "        for restaurant2 in it.labels_list:\n",
    "            similarity_list.append(model.docvecs.similarity(restaurant, restaurant2))\n",
    "        \n",
    "        similarity_df[restaurant] = similarity_list\n",
    "\n",
    "    similarity_df.index = list(it.labels_list)\n",
    "\n",
    "    return similarity_df"
   ]
  },
  {
   "cell_type": "code",
   "execution_count": 18,
   "metadata": {},
   "outputs": [],
   "source": [
    "def num_topics_elbow(model):\n",
    "    # get optimal number of topics\n",
    "    Sum_of_squared_distances = []\n",
    "    K = range(1,15)\n",
    "    for k in K:\n",
    "        kmeans = KMeans(n_clusters=k, init='k-means++', max_iter=100)\n",
    "        X = kmeans.fit(model.dv.vectors) ###using documnet vecter numbers. doctag_syn0 calls doc2vec that is trained earlier.\n",
    "        Sum_of_squared_distances.append(kmeans.inertia_)\n",
    "\n",
    "    plt.plot(K, Sum_of_squared_distances, 'bx-')\n",
    "    plt.xlabel('k')\n",
    "    plt.ylabel('Sum_of_squared_distances')\n",
    "    plt.title('Elbow Method For Optimal k')\n",
    "    plt.show()\n",
    "\n",
    "def num_topics_silhouette(model, min_topic, max_topic): # min topic should be the first elbow observed\n",
    "    ### K-means Accuracy (Silhouette Score) (assume minimum of 5 clusters)\n",
    "    accuracy = []\n",
    "    for k in range(min_topic,max_topic+1):\n",
    "        kmeans = KMeans(n_clusters=k, init='k-means++', max_iter=100)\n",
    "        X = kmeans.fit(model.dv.vectors) ###using documnet vecter numbers. doctag_syn0 calls doc2vec that is trained earlier.\n",
    "        silhouette_score_average = silhouette_score(model.dv.vectors, kmeans.predict(model.dv.vectors))\n",
    "        accuracy.append(silhouette_score_average)\n",
    "    x = list(range(min_topic,max_topic+1))\n",
    "    print(accuracy)\n",
    "    plt.plot(x,accuracy)\n",
    "    plt.title('Silhouette Score per K')\n",
    "    plt.show()\n"
   ]
  },
  {
   "cell_type": "code",
   "execution_count": 19,
   "metadata": {},
   "outputs": [],
   "source": [
    "def pca_plot(model):\n",
    "    l = kmeans.fit_predict(model.dv.vectors)\n",
    "    pca = PCA(n_components=2).fit(model.dv.vectors)\n",
    "    datapoint = pca.transform(model.dv.vectors)\n",
    "\n",
    "    plt.figure\n",
    "    label1 = [\"#FF6961\", \"#FFB480\", \"#F8F38D\", \"#42D6A4\", \"#08CAD1\", \"#59ADF6\", \"#9D94FF\", \"#C780E8\"]\n",
    "    #label1 = [\"#FF355E\", \"#FD5B78\", \"#FF6037\", \"#FF9966\", \"#FF9933\", \"#FFCC33\", \"#FFFF66\", \"#CCFF00\", \"#66FF66\", \"#AAF0D1\", \"#16D0CB\", \"#50BFE6\", \"#9C27B0\", \"#EE34D2\", \"#FF00CC\"]\n",
    "    color = [label1[i] for i in labels]\n",
    "    plt.scatter(datapoint[:, 0], datapoint[:, 1], c=color)\n",
    "\n",
    "    centroids = kmeans.cluster_centers_\n",
    "    centroidpoint = pca.transform(centroids)\n",
    "    plt.scatter(centroidpoint[:, 0], centroidpoint[:, 1], marker='^', s=150, c='#000000')\n",
    "    plt.show()"
   ]
  },
  {
   "cell_type": "code",
   "execution_count": 20,
   "metadata": {},
   "outputs": [],
   "source": [
    "def nearest_restaurants_to_centroid(model):\n",
    "    # label each restaurant under 1 of the topics\n",
    "    restaurant_review_df['topics'] = labels\n",
    "\n",
    "    # count of restaurants under each topic\n",
    "    print(restaurant_review_df['topics'].value_counts())\n",
    "\n",
    "    distances = pairwise_distances(kmeans.cluster_centers_, model.dv.vectors, metric='euclidean')\n",
    "    closest_indexes = [np.argpartition(i, 10)[:10] for i in distances] # for each centroid, get the 10 nearest restaurants\n",
    "\n",
    "    interpret_df = pd.DataFrame(columns=['topics', 'url', 'name', 'cleaned_text'])\n",
    "    for idx in closest_indexes:\n",
    "        interpret_df = interpret_df.append(restaurant_review_df[['url', 'name', 'cleaned_text', 'topics']].iloc[idx])\n",
    "\n",
    "    interpret_df = interpret_df.sort_values(['topics'])\n",
    "    return interpret_df"
   ]
  },
  {
   "attachments": {},
   "cell_type": "markdown",
   "metadata": {},
   "source": [
    "## Model 1\n",
    "Base model"
   ]
  },
  {
   "attachments": {},
   "cell_type": "markdown",
   "metadata": {},
   "source": [
    "#### Train Model"
   ]
  },
  {
   "cell_type": "code",
   "execution_count": 21,
   "metadata": {},
   "outputs": [
    {
     "data": {
      "image/png": "[encoded data removed]",
      "text/plain": [
       "<Figure size 640x480 with 1 Axes>"
      ]
     },
     "metadata": {},
     "output_type": "display_data"
    }
   ],
   "source": [
    "# identify optimal number of epochs\n",
    "# plot k means silhouette score for each doc2vec epoch\n",
    "optimise_epochs(tokenized_reviews)"
   ]
  },
  {
   "cell_type": "code",
   "execution_count": 22,
   "metadata": {},
   "outputs": [],
   "source": [
    "it, model1 = doc2vec(tokenized_reviews, 3) ### Change number of epochs accordingly"
   ]
  },
  {
   "attachments": {},
   "cell_type": "markdown",
   "metadata": {},
   "source": [
    "### Similarity Matrix"
   ]
  },
  {
   "cell_type": "code",
   "execution_count": 23,
   "metadata": {},
   "outputs": [
    {
     "data": {
      "text/html": [
       "<div>\n",
       "<style scoped>\n",
       "    .dataframe tbody tr th:only-of-type {\n",
       "        vertical-align: middle;\n",
       "    }\n",
       "\n",
       "    .dataframe tbody tr th {\n",
       "        vertical-align: top;\n",
       "    }\n",
       "\n",
       "    .dataframe thead th {\n",
       "        text-align: right;\n",
       "    }\n",
       "</style>\n",
       "<table border=\"1\" class=\"dataframe\">\n",
       "  <thead>\n",
       "    <tr style=\"text-align: right;\">\n",
       "      <th></th>\n",
       "      <th>https://www.burpple.com/108-matcha-saro?bp_ref=%2Ff%2F-9cTfRes</th>\n",
       "      <th>https://www.burpple.com/136-hong-kong-street-fish-head-steamboat-upper-aljunied-road?bp_ref=%2Ff%2FxPFOM3O2</th>\n",
       "      <th>https://www.burpple.com/15-stamford?bp_ref=%2Ff%2FV3JbHfZv</th>\n",
       "      <th>https://www.burpple.com/25-degrees-singapore?bp_ref=%2Ff%2F4bu64FGI</th>\n",
       "      <th>https://www.burpple.com/46-mittsu?bp_ref=%2Ff%2FYd46SA5p</th>\n",
       "      <th>https://www.burpple.com/49-seats-4?bp_ref=%2Ff%2FgMe8caYX</th>\n",
       "      <th>https://www.burpple.com/603-tau-sar-piah?bp_ref=%2Ff%2Foa6NzXzY</th>\n",
       "      <th>https://www.burpple.com/665-degrees-fahrenheit?bp_ref=%2Ff%2FK6qIZ3dx</th>\n",
       "      <th>https://www.burpple.com/726-west-coast-market?bp_ref=%2Ff%2Fw-wo2n5s</th>\n",
       "      <th>https://www.burpple.com/75-ah-balling-peanut-soup?bp_ref=%2Ff%2FJf2IPypA</th>\n",
       "      <th>...</th>\n",
       "      <th>https://www.burpple.com/yogostsg?bp_ref=%2Ff%2FnD1nZVe7</th>\n",
       "      <th>https://www.burpple.com/yong-huat?bp_ref=%2Ff%2Fzr6cmGkf</th>\n",
       "      <th>https://www.burpple.com/yum-cha-2?bp_ref=%2Ff%2Fq-H1rhKl</th>\n",
       "      <th>https://www.burpple.com/yun-nans-2?bp_ref=%2Ff%2Fy14zR297</th>\n",
       "      <th>https://www.burpple.com/yun-nans-nex?bp_ref=%2Ff%2F0dOBBrrw</th>\n",
       "      <th>https://www.burpple.com/yun-nans?bp_ref=%2Ff%2FYmjqWFA7</th>\n",
       "      <th>https://www.burpple.com/zafferano?bp_ref=%2Ff%2Fa86WC8Gr</th>\n",
       "      <th>https://www.burpple.com/zai-shun-curry-fish-head-seafood?bp_ref=%2Ff%2FguifIwH4</th>\n",
       "      <th>https://www.burpple.com/zazz-pizza?bp_ref=%2Ff%2FUx3U197Q</th>\n",
       "      <th>https://www.burpple.com/zoeys-diner?bp_ref=%2Ff%2FAuQ4WK7W</th>\n",
       "    </tr>\n",
       "  </thead>\n",
       "  <tbody>\n",
       "    <tr>\n",
       "      <th>https://www.burpple.com/108-matcha-saro?bp_ref=%2Ff%2F-9cTfRes</th>\n",
       "      <td>1.000000</td>\n",
       "      <td>0.999856</td>\n",
       "      <td>0.999972</td>\n",
       "      <td>0.999959</td>\n",
       "      <td>0.999966</td>\n",
       "      <td>0.999945</td>\n",
       "      <td>0.999952</td>\n",
       "      <td>0.999910</td>\n",
       "      <td>0.999716</td>\n",
       "      <td>0.999911</td>\n",
       "      <td>...</td>\n",
       "      <td>0.999971</td>\n",
       "      <td>0.999971</td>\n",
       "      <td>0.999950</td>\n",
       "      <td>0.999954</td>\n",
       "      <td>0.999968</td>\n",
       "      <td>0.999969</td>\n",
       "      <td>0.999969</td>\n",
       "      <td>0.999945</td>\n",
       "      <td>0.999956</td>\n",
       "      <td>0.999966</td>\n",
       "    </tr>\n",
       "    <tr>\n",
       "      <th>https://www.burpple.com/136-hong-kong-street-fish-head-steamboat-upper-aljunied-road?bp_ref=%2Ff%2FxPFOM3O2</th>\n",
       "      <td>0.999856</td>\n",
       "      <td>1.000000</td>\n",
       "      <td>0.999880</td>\n",
       "      <td>0.999865</td>\n",
       "      <td>0.999874</td>\n",
       "      <td>0.999862</td>\n",
       "      <td>0.999853</td>\n",
       "      <td>0.999817</td>\n",
       "      <td>0.999613</td>\n",
       "      <td>0.999831</td>\n",
       "      <td>...</td>\n",
       "      <td>0.999878</td>\n",
       "      <td>0.999879</td>\n",
       "      <td>0.999859</td>\n",
       "      <td>0.999862</td>\n",
       "      <td>0.999874</td>\n",
       "      <td>0.999875</td>\n",
       "      <td>0.999875</td>\n",
       "      <td>0.999853</td>\n",
       "      <td>0.999863</td>\n",
       "      <td>0.999876</td>\n",
       "    </tr>\n",
       "    <tr>\n",
       "      <th>https://www.burpple.com/15-stamford?bp_ref=%2Ff%2FV3JbHfZv</th>\n",
       "      <td>0.999972</td>\n",
       "      <td>0.999880</td>\n",
       "      <td>1.000000</td>\n",
       "      <td>0.999983</td>\n",
       "      <td>0.999992</td>\n",
       "      <td>0.999972</td>\n",
       "      <td>0.999974</td>\n",
       "      <td>0.999936</td>\n",
       "      <td>0.999739</td>\n",
       "      <td>0.999939</td>\n",
       "      <td>...</td>\n",
       "      <td>0.999997</td>\n",
       "      <td>0.999998</td>\n",
       "      <td>0.999977</td>\n",
       "      <td>0.999982</td>\n",
       "      <td>0.999994</td>\n",
       "      <td>0.999995</td>\n",
       "      <td>0.999994</td>\n",
       "      <td>0.999972</td>\n",
       "      <td>0.999983</td>\n",
       "      <td>0.999991</td>\n",
       "    </tr>\n",
       "    <tr>\n",
       "      <th>https://www.burpple.com/25-degrees-singapore?bp_ref=%2Ff%2F4bu64FGI</th>\n",
       "      <td>0.999959</td>\n",
       "      <td>0.999865</td>\n",
       "      <td>0.999983</td>\n",
       "      <td>1.000000</td>\n",
       "      <td>0.999977</td>\n",
       "      <td>0.999957</td>\n",
       "      <td>0.999961</td>\n",
       "      <td>0.999925</td>\n",
       "      <td>0.999733</td>\n",
       "      <td>0.999921</td>\n",
       "      <td>...</td>\n",
       "      <td>0.999982</td>\n",
       "      <td>0.999984</td>\n",
       "      <td>0.999966</td>\n",
       "      <td>0.999966</td>\n",
       "      <td>0.999980</td>\n",
       "      <td>0.999981</td>\n",
       "      <td>0.999979</td>\n",
       "      <td>0.999959</td>\n",
       "      <td>0.999969</td>\n",
       "      <td>0.999976</td>\n",
       "    </tr>\n",
       "    <tr>\n",
       "      <th>https://www.burpple.com/46-mittsu?bp_ref=%2Ff%2FYd46SA5p</th>\n",
       "      <td>0.999966</td>\n",
       "      <td>0.999874</td>\n",
       "      <td>0.999992</td>\n",
       "      <td>0.999977</td>\n",
       "      <td>1.000000</td>\n",
       "      <td>0.999967</td>\n",
       "      <td>0.999969</td>\n",
       "      <td>0.999932</td>\n",
       "      <td>0.999735</td>\n",
       "      <td>0.999934</td>\n",
       "      <td>...</td>\n",
       "      <td>0.999990</td>\n",
       "      <td>0.999992</td>\n",
       "      <td>0.999973</td>\n",
       "      <td>0.999976</td>\n",
       "      <td>0.999988</td>\n",
       "      <td>0.999989</td>\n",
       "      <td>0.999988</td>\n",
       "      <td>0.999967</td>\n",
       "      <td>0.999977</td>\n",
       "      <td>0.999985</td>\n",
       "    </tr>\n",
       "    <tr>\n",
       "      <th>...</th>\n",
       "      <td>...</td>\n",
       "      <td>...</td>\n",
       "      <td>...</td>\n",
       "      <td>...</td>\n",
       "      <td>...</td>\n",
       "      <td>...</td>\n",
       "      <td>...</td>\n",
       "      <td>...</td>\n",
       "      <td>...</td>\n",
       "      <td>...</td>\n",
       "      <td>...</td>\n",
       "      <td>...</td>\n",
       "      <td>...</td>\n",
       "      <td>...</td>\n",
       "      <td>...</td>\n",
       "      <td>...</td>\n",
       "      <td>...</td>\n",
       "      <td>...</td>\n",
       "      <td>...</td>\n",
       "      <td>...</td>\n",
       "      <td>...</td>\n",
       "    </tr>\n",
       "    <tr>\n",
       "      <th>https://www.burpple.com/yun-nans?bp_ref=%2Ff%2FYmjqWFA7</th>\n",
       "      <td>0.999969</td>\n",
       "      <td>0.999875</td>\n",
       "      <td>0.999995</td>\n",
       "      <td>0.999981</td>\n",
       "      <td>0.999989</td>\n",
       "      <td>0.999969</td>\n",
       "      <td>0.999970</td>\n",
       "      <td>0.999932</td>\n",
       "      <td>0.999738</td>\n",
       "      <td>0.999936</td>\n",
       "      <td>...</td>\n",
       "      <td>0.999993</td>\n",
       "      <td>0.999995</td>\n",
       "      <td>0.999975</td>\n",
       "      <td>0.999979</td>\n",
       "      <td>0.999991</td>\n",
       "      <td>1.000000</td>\n",
       "      <td>0.999991</td>\n",
       "      <td>0.999969</td>\n",
       "      <td>0.999980</td>\n",
       "      <td>0.999987</td>\n",
       "    </tr>\n",
       "    <tr>\n",
       "      <th>https://www.burpple.com/zafferano?bp_ref=%2Ff%2Fa86WC8Gr</th>\n",
       "      <td>0.999969</td>\n",
       "      <td>0.999875</td>\n",
       "      <td>0.999994</td>\n",
       "      <td>0.999979</td>\n",
       "      <td>0.999988</td>\n",
       "      <td>0.999968</td>\n",
       "      <td>0.999972</td>\n",
       "      <td>0.999933</td>\n",
       "      <td>0.999734</td>\n",
       "      <td>0.999935</td>\n",
       "      <td>...</td>\n",
       "      <td>0.999993</td>\n",
       "      <td>0.999995</td>\n",
       "      <td>0.999975</td>\n",
       "      <td>0.999977</td>\n",
       "      <td>0.999990</td>\n",
       "      <td>0.999991</td>\n",
       "      <td>1.000000</td>\n",
       "      <td>0.999968</td>\n",
       "      <td>0.999980</td>\n",
       "      <td>0.999987</td>\n",
       "    </tr>\n",
       "    <tr>\n",
       "      <th>https://www.burpple.com/zai-shun-curry-fish-head-seafood?bp_ref=%2Ff%2FguifIwH4</th>\n",
       "      <td>0.999945</td>\n",
       "      <td>0.999853</td>\n",
       "      <td>0.999972</td>\n",
       "      <td>0.999959</td>\n",
       "      <td>0.999967</td>\n",
       "      <td>0.999947</td>\n",
       "      <td>0.999948</td>\n",
       "      <td>0.999908</td>\n",
       "      <td>0.999714</td>\n",
       "      <td>0.999914</td>\n",
       "      <td>...</td>\n",
       "      <td>0.999970</td>\n",
       "      <td>0.999972</td>\n",
       "      <td>0.999951</td>\n",
       "      <td>0.999954</td>\n",
       "      <td>0.999968</td>\n",
       "      <td>0.999969</td>\n",
       "      <td>0.999968</td>\n",
       "      <td>1.000000</td>\n",
       "      <td>0.999959</td>\n",
       "      <td>0.999964</td>\n",
       "    </tr>\n",
       "    <tr>\n",
       "      <th>https://www.burpple.com/zazz-pizza?bp_ref=%2Ff%2FUx3U197Q</th>\n",
       "      <td>0.999956</td>\n",
       "      <td>0.999863</td>\n",
       "      <td>0.999983</td>\n",
       "      <td>0.999969</td>\n",
       "      <td>0.999977</td>\n",
       "      <td>0.999955</td>\n",
       "      <td>0.999961</td>\n",
       "      <td>0.999922</td>\n",
       "      <td>0.999728</td>\n",
       "      <td>0.999923</td>\n",
       "      <td>...</td>\n",
       "      <td>0.999981</td>\n",
       "      <td>0.999983</td>\n",
       "      <td>0.999963</td>\n",
       "      <td>0.999966</td>\n",
       "      <td>0.999979</td>\n",
       "      <td>0.999980</td>\n",
       "      <td>0.999980</td>\n",
       "      <td>0.999959</td>\n",
       "      <td>1.000000</td>\n",
       "      <td>0.999976</td>\n",
       "    </tr>\n",
       "    <tr>\n",
       "      <th>https://www.burpple.com/zoeys-diner?bp_ref=%2Ff%2FAuQ4WK7W</th>\n",
       "      <td>0.999966</td>\n",
       "      <td>0.999876</td>\n",
       "      <td>0.999991</td>\n",
       "      <td>0.999976</td>\n",
       "      <td>0.999985</td>\n",
       "      <td>0.999965</td>\n",
       "      <td>0.999967</td>\n",
       "      <td>0.999929</td>\n",
       "      <td>0.999737</td>\n",
       "      <td>0.999930</td>\n",
       "      <td>...</td>\n",
       "      <td>0.999989</td>\n",
       "      <td>0.999990</td>\n",
       "      <td>0.999970</td>\n",
       "      <td>0.999974</td>\n",
       "      <td>0.999986</td>\n",
       "      <td>0.999987</td>\n",
       "      <td>0.999987</td>\n",
       "      <td>0.999964</td>\n",
       "      <td>0.999976</td>\n",
       "      <td>1.000000</td>\n",
       "    </tr>\n",
       "  </tbody>\n",
       "</table>\n",
       "<p>845 rows × 845 columns</p>\n",
       "</div>"
      ],
      "text/plain": [
       "                                                    https://www.burpple.com/108-matcha-saro?bp_ref=%2Ff%2F-9cTfRes  \\\n",
       "https://www.burpple.com/108-matcha-saro?bp_ref=...                                           1.000000                \n",
       "https://www.burpple.com/136-hong-kong-street-fi...                                           0.999856                \n",
       "https://www.burpple.com/15-stamford?bp_ref=%2Ff...                                           0.999972                \n",
       "https://www.burpple.com/25-degrees-singapore?bp...                                           0.999959                \n",
       "https://www.burpple.com/46-mittsu?bp_ref=%2Ff%2...                                           0.999966                \n",
       "...                                                                                               ...                \n",
       "https://www.burpple.com/yun-nans?bp_ref=%2Ff%2F...                                           0.999969                \n",
       "https://www.burpple.com/zafferano?bp_ref=%2Ff%2...                                           0.999969                \n",
       "https://www.burpple.com/zai-shun-curry-fish-hea...                                           0.999945                \n",
       "https://www.burpple.com/zazz-pizza?bp_ref=%2Ff%...                                           0.999956                \n",
       "https://www.burpple.com/zoeys-diner?bp_ref=%2Ff...                                           0.999966                \n",
       "\n",
       "                                                    https://www.burpple.com/136-hong-kong-street-fish-head-steamboat-upper-aljunied-road?bp_ref=%2Ff%2FxPFOM3O2  \\\n",
       "https://www.burpple.com/108-matcha-saro?bp_ref=...                                           0.999856                                                             \n",
       "https://www.burpple.com/136-hong-kong-street-fi...                                           1.000000                                                             \n",
       "https://www.burpple.com/15-stamford?bp_ref=%2Ff...                                           0.999880                                                             \n",
       "https://www.burpple.com/25-degrees-singapore?bp...                                           0.999865                                                             \n",
       "https://www.burpple.com/46-mittsu?bp_ref=%2Ff%2...                                           0.999874                                                             \n",
       "...                                                                                               ...                                                             \n",
       "https://www.burpple.com/yun-nans?bp_ref=%2Ff%2F...                                           0.999875                                                             \n",
       "https://www.burpple.com/zafferano?bp_ref=%2Ff%2...                                           0.999875                                                             \n",
       "https://www.burpple.com/zai-shun-curry-fish-hea...                                           0.999853                                                             \n",
       "https://www.burpple.com/zazz-pizza?bp_ref=%2Ff%...                                           0.999863                                                             \n",
       "https://www.burpple.com/zoeys-diner?bp_ref=%2Ff...                                           0.999876                                                             \n",
       "\n",
       "                                                    https://www.burpple.com/15-stamford?bp_ref=%2Ff%2FV3JbHfZv  \\\n",
       "https://www.burpple.com/108-matcha-saro?bp_ref=...                                           0.999972            \n",
       "https://www.burpple.com/136-hong-kong-street-fi...                                           0.999880            \n",
       "https://www.burpple.com/15-stamford?bp_ref=%2Ff...                                           1.000000            \n",
       "https://www.burpple.com/25-degrees-singapore?bp...                                           0.999983            \n",
       "https://www.burpple.com/46-mittsu?bp_ref=%2Ff%2...                                           0.999992            \n",
       "...                                                                                               ...            \n",
       "https://www.burpple.com/yun-nans?bp_ref=%2Ff%2F...                                           0.999995            \n",
       "https://www.burpple.com/zafferano?bp_ref=%2Ff%2...                                           0.999994            \n",
       "https://www.burpple.com/zai-shun-curry-fish-hea...                                           0.999972            \n",
       "https://www.burpple.com/zazz-pizza?bp_ref=%2Ff%...                                           0.999983            \n",
       "https://www.burpple.com/zoeys-diner?bp_ref=%2Ff...                                           0.999991            \n",
       "\n",
       "                                                    https://www.burpple.com/25-degrees-singapore?bp_ref=%2Ff%2F4bu64FGI  \\\n",
       "https://www.burpple.com/108-matcha-saro?bp_ref=...                                           0.999959                     \n",
       "https://www.burpple.com/136-hong-kong-street-fi...                                           0.999865                     \n",
       "https://www.burpple.com/15-stamford?bp_ref=%2Ff...                                           0.999983                     \n",
       "https://www.burpple.com/25-degrees-singapore?bp...                                           1.000000                     \n",
       "https://www.burpple.com/46-mittsu?bp_ref=%2Ff%2...                                           0.999977                     \n",
       "...                                                                                               ...                     \n",
       "https://www.burpple.com/yun-nans?bp_ref=%2Ff%2F...                                           0.999981                     \n",
       "https://www.burpple.com/zafferano?bp_ref=%2Ff%2...                                           0.999979                     \n",
       "https://www.burpple.com/zai-shun-curry-fish-hea...                                           0.999959                     \n",
       "https://www.burpple.com/zazz-pizza?bp_ref=%2Ff%...                                           0.999969                     \n",
       "https://www.burpple.com/zoeys-diner?bp_ref=%2Ff...                                           0.999976                     \n",
       "\n",
       "                                                    https://www.burpple.com/46-mittsu?bp_ref=%2Ff%2FYd46SA5p  \\\n",
       "https://www.burpple.com/108-matcha-saro?bp_ref=...                                           0.999966          \n",
       "https://www.burpple.com/136-hong-kong-street-fi...                                           0.999874          \n",
       "https://www.burpple.com/15-stamford?bp_ref=%2Ff...                                           0.999992          \n",
       "https://www.burpple.com/25-degrees-singapore?bp...                                           0.999977          \n",
       "https://www.burpple.com/46-mittsu?bp_ref=%2Ff%2...                                           1.000000          \n",
       "...                                                                                               ...          \n",
       "https://www.burpple.com/yun-nans?bp_ref=%2Ff%2F...                                           0.999989          \n",
       "https://www.burpple.com/zafferano?bp_ref=%2Ff%2...                                           0.999988          \n",
       "https://www.burpple.com/zai-shun-curry-fish-hea...                                           0.999967          \n",
       "https://www.burpple.com/zazz-pizza?bp_ref=%2Ff%...                                           0.999977          \n",
       "https://www.burpple.com/zoeys-diner?bp_ref=%2Ff...                                           0.999985          \n",
       "\n",
       "                                                    https://www.burpple.com/49-seats-4?bp_ref=%2Ff%2FgMe8caYX  \\\n",
       "https://www.burpple.com/108-matcha-saro?bp_ref=...                                           0.999945           \n",
       "https://www.burpple.com/136-hong-kong-street-fi...                                           0.999862           \n",
       "https://www.burpple.com/15-stamford?bp_ref=%2Ff...                                           0.999972           \n",
       "https://www.burpple.com/25-degrees-singapore?bp...                                           0.999957           \n",
       "https://www.burpple.com/46-mittsu?bp_ref=%2Ff%2...                                           0.999967           \n",
       "...                                                                                               ...           \n",
       "https://www.burpple.com/yun-nans?bp_ref=%2Ff%2F...                                           0.999969           \n",
       "https://www.burpple.com/zafferano?bp_ref=%2Ff%2...                                           0.999968           \n",
       "https://www.burpple.com/zai-shun-curry-fish-hea...                                           0.999947           \n",
       "https://www.burpple.com/zazz-pizza?bp_ref=%2Ff%...                                           0.999955           \n",
       "https://www.burpple.com/zoeys-diner?bp_ref=%2Ff...                                           0.999965           \n",
       "\n",
       "                                                    https://www.burpple.com/603-tau-sar-piah?bp_ref=%2Ff%2Foa6NzXzY  \\\n",
       "https://www.burpple.com/108-matcha-saro?bp_ref=...                                           0.999952                 \n",
       "https://www.burpple.com/136-hong-kong-street-fi...                                           0.999853                 \n",
       "https://www.burpple.com/15-stamford?bp_ref=%2Ff...                                           0.999974                 \n",
       "https://www.burpple.com/25-degrees-singapore?bp...                                           0.999961                 \n",
       "https://www.burpple.com/46-mittsu?bp_ref=%2Ff%2...                                           0.999969                 \n",
       "...                                                                                               ...                 \n",
       "https://www.burpple.com/yun-nans?bp_ref=%2Ff%2F...                                           0.999970                 \n",
       "https://www.burpple.com/zafferano?bp_ref=%2Ff%2...                                           0.999972                 \n",
       "https://www.burpple.com/zai-shun-curry-fish-hea...                                           0.999948                 \n",
       "https://www.burpple.com/zazz-pizza?bp_ref=%2Ff%...                                           0.999961                 \n",
       "https://www.burpple.com/zoeys-diner?bp_ref=%2Ff...                                           0.999967                 \n",
       "\n",
       "                                                    https://www.burpple.com/665-degrees-fahrenheit?bp_ref=%2Ff%2FK6qIZ3dx  \\\n",
       "https://www.burpple.com/108-matcha-saro?bp_ref=...                                           0.999910                       \n",
       "https://www.burpple.com/136-hong-kong-street-fi...                                           0.999817                       \n",
       "https://www.burpple.com/15-stamford?bp_ref=%2Ff...                                           0.999936                       \n",
       "https://www.burpple.com/25-degrees-singapore?bp...                                           0.999925                       \n",
       "https://www.burpple.com/46-mittsu?bp_ref=%2Ff%2...                                           0.999932                       \n",
       "...                                                                                               ...                       \n",
       "https://www.burpple.com/yun-nans?bp_ref=%2Ff%2F...                                           0.999932                       \n",
       "https://www.burpple.com/zafferano?bp_ref=%2Ff%2...                                           0.999933                       \n",
       "https://www.burpple.com/zai-shun-curry-fish-hea...                                           0.999908                       \n",
       "https://www.burpple.com/zazz-pizza?bp_ref=%2Ff%...                                           0.999922                       \n",
       "https://www.burpple.com/zoeys-diner?bp_ref=%2Ff...                                           0.999929                       \n",
       "\n",
       "                                                    https://www.burpple.com/726-west-coast-market?bp_ref=%2Ff%2Fw-wo2n5s  \\\n",
       "https://www.burpple.com/108-matcha-saro?bp_ref=...                                           0.999716                      \n",
       "https://www.burpple.com/136-hong-kong-street-fi...                                           0.999613                      \n",
       "https://www.burpple.com/15-stamford?bp_ref=%2Ff...                                           0.999739                      \n",
       "https://www.burpple.com/25-degrees-singapore?bp...                                           0.999733                      \n",
       "https://www.burpple.com/46-mittsu?bp_ref=%2Ff%2...                                           0.999735                      \n",
       "...                                                                                               ...                      \n",
       "https://www.burpple.com/yun-nans?bp_ref=%2Ff%2F...                                           0.999738                      \n",
       "https://www.burpple.com/zafferano?bp_ref=%2Ff%2...                                           0.999734                      \n",
       "https://www.burpple.com/zai-shun-curry-fish-hea...                                           0.999714                      \n",
       "https://www.burpple.com/zazz-pizza?bp_ref=%2Ff%...                                           0.999728                      \n",
       "https://www.burpple.com/zoeys-diner?bp_ref=%2Ff...                                           0.999737                      \n",
       "\n",
       "                                                    https://www.burpple.com/75-ah-balling-peanut-soup?bp_ref=%2Ff%2FJf2IPypA  \\\n",
       "https://www.burpple.com/108-matcha-saro?bp_ref=...                                           0.999911                          \n",
       "https://www.burpple.com/136-hong-kong-street-fi...                                           0.999831                          \n",
       "https://www.burpple.com/15-stamford?bp_ref=%2Ff...                                           0.999939                          \n",
       "https://www.burpple.com/25-degrees-singapore?bp...                                           0.999921                          \n",
       "https://www.burpple.com/46-mittsu?bp_ref=%2Ff%2...                                           0.999934                          \n",
       "...                                                                                               ...                          \n",
       "https://www.burpple.com/yun-nans?bp_ref=%2Ff%2F...                                           0.999936                          \n",
       "https://www.burpple.com/zafferano?bp_ref=%2Ff%2...                                           0.999935                          \n",
       "https://www.burpple.com/zai-shun-curry-fish-hea...                                           0.999914                          \n",
       "https://www.burpple.com/zazz-pizza?bp_ref=%2Ff%...                                           0.999923                          \n",
       "https://www.burpple.com/zoeys-diner?bp_ref=%2Ff...                                           0.999930                          \n",
       "\n",
       "                                                    ...  \\\n",
       "https://www.burpple.com/108-matcha-saro?bp_ref=...  ...   \n",
       "https://www.burpple.com/136-hong-kong-street-fi...  ...   \n",
       "https://www.burpple.com/15-stamford?bp_ref=%2Ff...  ...   \n",
       "https://www.burpple.com/25-degrees-singapore?bp...  ...   \n",
       "https://www.burpple.com/46-mittsu?bp_ref=%2Ff%2...  ...   \n",
       "...                                                 ...   \n",
       "https://www.burpple.com/yun-nans?bp_ref=%2Ff%2F...  ...   \n",
       "https://www.burpple.com/zafferano?bp_ref=%2Ff%2...  ...   \n",
       "https://www.burpple.com/zai-shun-curry-fish-hea...  ...   \n",
       "https://www.burpple.com/zazz-pizza?bp_ref=%2Ff%...  ...   \n",
       "https://www.burpple.com/zoeys-diner?bp_ref=%2Ff...  ...   \n",
       "\n",
       "                                                    https://www.burpple.com/yogostsg?bp_ref=%2Ff%2FnD1nZVe7  \\\n",
       "https://www.burpple.com/108-matcha-saro?bp_ref=...                                           0.999971         \n",
       "https://www.burpple.com/136-hong-kong-street-fi...                                           0.999878         \n",
       "https://www.burpple.com/15-stamford?bp_ref=%2Ff...                                           0.999997         \n",
       "https://www.burpple.com/25-degrees-singapore?bp...                                           0.999982         \n",
       "https://www.burpple.com/46-mittsu?bp_ref=%2Ff%2...                                           0.999990         \n",
       "...                                                                                               ...         \n",
       "https://www.burpple.com/yun-nans?bp_ref=%2Ff%2F...                                           0.999993         \n",
       "https://www.burpple.com/zafferano?bp_ref=%2Ff%2...                                           0.999993         \n",
       "https://www.burpple.com/zai-shun-curry-fish-hea...                                           0.999970         \n",
       "https://www.burpple.com/zazz-pizza?bp_ref=%2Ff%...                                           0.999981         \n",
       "https://www.burpple.com/zoeys-diner?bp_ref=%2Ff...                                           0.999989         \n",
       "\n",
       "                                                    https://www.burpple.com/yong-huat?bp_ref=%2Ff%2Fzr6cmGkf  \\\n",
       "https://www.burpple.com/108-matcha-saro?bp_ref=...                                           0.999971          \n",
       "https://www.burpple.com/136-hong-kong-street-fi...                                           0.999879          \n",
       "https://www.burpple.com/15-stamford?bp_ref=%2Ff...                                           0.999998          \n",
       "https://www.burpple.com/25-degrees-singapore?bp...                                           0.999984          \n",
       "https://www.burpple.com/46-mittsu?bp_ref=%2Ff%2...                                           0.999992          \n",
       "...                                                                                               ...          \n",
       "https://www.burpple.com/yun-nans?bp_ref=%2Ff%2F...                                           0.999995          \n",
       "https://www.burpple.com/zafferano?bp_ref=%2Ff%2...                                           0.999995          \n",
       "https://www.burpple.com/zai-shun-curry-fish-hea...                                           0.999972          \n",
       "https://www.burpple.com/zazz-pizza?bp_ref=%2Ff%...                                           0.999983          \n",
       "https://www.burpple.com/zoeys-diner?bp_ref=%2Ff...                                           0.999990          \n",
       "\n",
       "                                                    https://www.burpple.com/yum-cha-2?bp_ref=%2Ff%2Fq-H1rhKl  \\\n",
       "https://www.burpple.com/108-matcha-saro?bp_ref=...                                           0.999950          \n",
       "https://www.burpple.com/136-hong-kong-street-fi...                                           0.999859          \n",
       "https://www.burpple.com/15-stamford?bp_ref=%2Ff...                                           0.999977          \n",
       "https://www.burpple.com/25-degrees-singapore?bp...                                           0.999966          \n",
       "https://www.burpple.com/46-mittsu?bp_ref=%2Ff%2...                                           0.999973          \n",
       "...                                                                                               ...          \n",
       "https://www.burpple.com/yun-nans?bp_ref=%2Ff%2F...                                           0.999975          \n",
       "https://www.burpple.com/zafferano?bp_ref=%2Ff%2...                                           0.999975          \n",
       "https://www.burpple.com/zai-shun-curry-fish-hea...                                           0.999951          \n",
       "https://www.burpple.com/zazz-pizza?bp_ref=%2Ff%...                                           0.999963          \n",
       "https://www.burpple.com/zoeys-diner?bp_ref=%2Ff...                                           0.999970          \n",
       "\n",
       "                                                    https://www.burpple.com/yun-nans-2?bp_ref=%2Ff%2Fy14zR297  \\\n",
       "https://www.burpple.com/108-matcha-saro?bp_ref=...                                           0.999954           \n",
       "https://www.burpple.com/136-hong-kong-street-fi...                                           0.999862           \n",
       "https://www.burpple.com/15-stamford?bp_ref=%2Ff...                                           0.999982           \n",
       "https://www.burpple.com/25-degrees-singapore?bp...                                           0.999966           \n",
       "https://www.burpple.com/46-mittsu?bp_ref=%2Ff%2...                                           0.999976           \n",
       "...                                                                                               ...           \n",
       "https://www.burpple.com/yun-nans?bp_ref=%2Ff%2F...                                           0.999979           \n",
       "https://www.burpple.com/zafferano?bp_ref=%2Ff%2...                                           0.999977           \n",
       "https://www.burpple.com/zai-shun-curry-fish-hea...                                           0.999954           \n",
       "https://www.burpple.com/zazz-pizza?bp_ref=%2Ff%...                                           0.999966           \n",
       "https://www.burpple.com/zoeys-diner?bp_ref=%2Ff...                                           0.999974           \n",
       "\n",
       "                                                    https://www.burpple.com/yun-nans-nex?bp_ref=%2Ff%2F0dOBBrrw  \\\n",
       "https://www.burpple.com/108-matcha-saro?bp_ref=...                                           0.999968             \n",
       "https://www.burpple.com/136-hong-kong-street-fi...                                           0.999874             \n",
       "https://www.burpple.com/15-stamford?bp_ref=%2Ff...                                           0.999994             \n",
       "https://www.burpple.com/25-degrees-singapore?bp...                                           0.999980             \n",
       "https://www.burpple.com/46-mittsu?bp_ref=%2Ff%2...                                           0.999988             \n",
       "...                                                                                               ...             \n",
       "https://www.burpple.com/yun-nans?bp_ref=%2Ff%2F...                                           0.999991             \n",
       "https://www.burpple.com/zafferano?bp_ref=%2Ff%2...                                           0.999990             \n",
       "https://www.burpple.com/zai-shun-curry-fish-hea...                                           0.999968             \n",
       "https://www.burpple.com/zazz-pizza?bp_ref=%2Ff%...                                           0.999979             \n",
       "https://www.burpple.com/zoeys-diner?bp_ref=%2Ff...                                           0.999986             \n",
       "\n",
       "                                                    https://www.burpple.com/yun-nans?bp_ref=%2Ff%2FYmjqWFA7  \\\n",
       "https://www.burpple.com/108-matcha-saro?bp_ref=...                                           0.999969         \n",
       "https://www.burpple.com/136-hong-kong-street-fi...                                           0.999875         \n",
       "https://www.burpple.com/15-stamford?bp_ref=%2Ff...                                           0.999995         \n",
       "https://www.burpple.com/25-degrees-singapore?bp...                                           0.999981         \n",
       "https://www.burpple.com/46-mittsu?bp_ref=%2Ff%2...                                           0.999989         \n",
       "...                                                                                               ...         \n",
       "https://www.burpple.com/yun-nans?bp_ref=%2Ff%2F...                                           1.000000         \n",
       "https://www.burpple.com/zafferano?bp_ref=%2Ff%2...                                           0.999991         \n",
       "https://www.burpple.com/zai-shun-curry-fish-hea...                                           0.999969         \n",
       "https://www.burpple.com/zazz-pizza?bp_ref=%2Ff%...                                           0.999980         \n",
       "https://www.burpple.com/zoeys-diner?bp_ref=%2Ff...                                           0.999987         \n",
       "\n",
       "                                                    https://www.burpple.com/zafferano?bp_ref=%2Ff%2Fa86WC8Gr  \\\n",
       "https://www.burpple.com/108-matcha-saro?bp_ref=...                                           0.999969          \n",
       "https://www.burpple.com/136-hong-kong-street-fi...                                           0.999875          \n",
       "https://www.burpple.com/15-stamford?bp_ref=%2Ff...                                           0.999994          \n",
       "https://www.burpple.com/25-degrees-singapore?bp...                                           0.999979          \n",
       "https://www.burpple.com/46-mittsu?bp_ref=%2Ff%2...                                           0.999988          \n",
       "...                                                                                               ...          \n",
       "https://www.burpple.com/yun-nans?bp_ref=%2Ff%2F...                                           0.999991          \n",
       "https://www.burpple.com/zafferano?bp_ref=%2Ff%2...                                           1.000000          \n",
       "https://www.burpple.com/zai-shun-curry-fish-hea...                                           0.999968          \n",
       "https://www.burpple.com/zazz-pizza?bp_ref=%2Ff%...                                           0.999980          \n",
       "https://www.burpple.com/zoeys-diner?bp_ref=%2Ff...                                           0.999987          \n",
       "\n",
       "                                                    https://www.burpple.com/zai-shun-curry-fish-head-seafood?bp_ref=%2Ff%2FguifIwH4  \\\n",
       "https://www.burpple.com/108-matcha-saro?bp_ref=...                                           0.999945                                 \n",
       "https://www.burpple.com/136-hong-kong-street-fi...                                           0.999853                                 \n",
       "https://www.burpple.com/15-stamford?bp_ref=%2Ff...                                           0.999972                                 \n",
       "https://www.burpple.com/25-degrees-singapore?bp...                                           0.999959                                 \n",
       "https://www.burpple.com/46-mittsu?bp_ref=%2Ff%2...                                           0.999967                                 \n",
       "...                                                                                               ...                                 \n",
       "https://www.burpple.com/yun-nans?bp_ref=%2Ff%2F...                                           0.999969                                 \n",
       "https://www.burpple.com/zafferano?bp_ref=%2Ff%2...                                           0.999968                                 \n",
       "https://www.burpple.com/zai-shun-curry-fish-hea...                                           1.000000                                 \n",
       "https://www.burpple.com/zazz-pizza?bp_ref=%2Ff%...                                           0.999959                                 \n",
       "https://www.burpple.com/zoeys-diner?bp_ref=%2Ff...                                           0.999964                                 \n",
       "\n",
       "                                                    https://www.burpple.com/zazz-pizza?bp_ref=%2Ff%2FUx3U197Q  \\\n",
       "https://www.burpple.com/108-matcha-saro?bp_ref=...                                           0.999956           \n",
       "https://www.burpple.com/136-hong-kong-street-fi...                                           0.999863           \n",
       "https://www.burpple.com/15-stamford?bp_ref=%2Ff...                                           0.999983           \n",
       "https://www.burpple.com/25-degrees-singapore?bp...                                           0.999969           \n",
       "https://www.burpple.com/46-mittsu?bp_ref=%2Ff%2...                                           0.999977           \n",
       "...                                                                                               ...           \n",
       "https://www.burpple.com/yun-nans?bp_ref=%2Ff%2F...                                           0.999980           \n",
       "https://www.burpple.com/zafferano?bp_ref=%2Ff%2...                                           0.999980           \n",
       "https://www.burpple.com/zai-shun-curry-fish-hea...                                           0.999959           \n",
       "https://www.burpple.com/zazz-pizza?bp_ref=%2Ff%...                                           1.000000           \n",
       "https://www.burpple.com/zoeys-diner?bp_ref=%2Ff...                                           0.999976           \n",
       "\n",
       "                                                    https://www.burpple.com/zoeys-diner?bp_ref=%2Ff%2FAuQ4WK7W  \n",
       "https://www.burpple.com/108-matcha-saro?bp_ref=...                                           0.999966           \n",
       "https://www.burpple.com/136-hong-kong-street-fi...                                           0.999876           \n",
       "https://www.burpple.com/15-stamford?bp_ref=%2Ff...                                           0.999991           \n",
       "https://www.burpple.com/25-degrees-singapore?bp...                                           0.999976           \n",
       "https://www.burpple.com/46-mittsu?bp_ref=%2Ff%2...                                           0.999985           \n",
       "...                                                                                               ...           \n",
       "https://www.burpple.com/yun-nans?bp_ref=%2Ff%2F...                                           0.999987           \n",
       "https://www.burpple.com/zafferano?bp_ref=%2Ff%2...                                           0.999987           \n",
       "https://www.burpple.com/zai-shun-curry-fish-hea...                                           0.999964           \n",
       "https://www.burpple.com/zazz-pizza?bp_ref=%2Ff%...                                           0.999976           \n",
       "https://www.burpple.com/zoeys-diner?bp_ref=%2Ff...                                           1.000000           \n",
       "\n",
       "[845 rows x 845 columns]"
      ]
     },
     "execution_count": 23,
     "metadata": {},
     "output_type": "execute_result"
    }
   ],
   "source": [
    "cosine_similarity_matrix(model1)"
   ]
  },
  {
   "attachments": {},
   "cell_type": "markdown",
   "metadata": {},
   "source": [
    "### Text Clustering Using K-Means"
   ]
  },
  {
   "cell_type": "code",
   "execution_count": 24,
   "metadata": {},
   "outputs": [
    {
     "data": {
      "image/png": "[encoded data removed]",
      "text/plain": [
       "<Figure size 640x480 with 1 Axes>"
      ]
     },
     "metadata": {},
     "output_type": "display_data"
    }
   ],
   "source": [
    "num_topics_elbow(model1)"
   ]
  },
  {
   "cell_type": "code",
   "execution_count": 25,
   "metadata": {},
   "outputs": [
    {
     "name": "stdout",
     "output_type": "stream",
     "text": [
      "[0.57159936, 0.58063686, 0.5599646, 0.5611142, 0.55166596, 0.5568766]\n"
     ]
    },
    {
     "data": {
      "image/png": "[encoded data removed]",
      "text/plain": [
       "<Figure size 640x480 with 1 Axes>"
      ]
     },
     "metadata": {},
     "output_type": "display_data"
    }
   ],
   "source": [
    "num_topics_silhouette(model1, 3, 8) ### CHANGE ACCORDINGLY"
   ]
  },
  {
   "attachments": {},
   "cell_type": "markdown",
   "metadata": {},
   "source": [
    "#### Cluster Visualisation"
   ]
  },
  {
   "cell_type": "code",
   "execution_count": 26,
   "metadata": {},
   "outputs": [],
   "source": [
    "num_clusters = 4 ### CHANGE ACCORDINGLY \n",
    "kmeans = KMeans(n_clusters=num_clusters, init='k-means++', max_iter=100) \n",
    "X = kmeans.fit(model1.dv.vectors) ### CHANGE MODEL NUMBER\n",
    "labels = kmeans.labels_.tolist()"
   ]
  },
  {
   "cell_type": "code",
   "execution_count": 27,
   "metadata": {},
   "outputs": [
    {
     "data": {
      "image/png": "[encoded data removed]",
      "text/plain": [
       "<Figure size 640x480 with 1 Axes>"
      ]
     },
     "metadata": {},
     "output_type": "display_data"
    }
   ],
   "source": [
    "pca_plot(model1)"
   ]
  },
  {
   "attachments": {},
   "cell_type": "markdown",
   "metadata": {},
   "source": [
    "#### Cluster Interpretation"
   ]
  },
  {
   "cell_type": "code",
   "execution_count": 28,
   "metadata": {},
   "outputs": [
    {
     "name": "stdout",
     "output_type": "stream",
     "text": [
      "0    399\n",
      "3    336\n",
      "1     93\n",
      "2     17\n",
      "Name: topics, dtype: int64\n"
     ]
    }
   ],
   "source": [
    "interpret_df = nearest_restaurants_to_centroid(model1)"
   ]
  },
  {
   "cell_type": "code",
   "execution_count": 29,
   "metadata": {},
   "outputs": [
    {
     "data": {
      "text/html": [
       "<div>\n",
       "<style scoped>\n",
       "    .dataframe tbody tr th:only-of-type {\n",
       "        vertical-align: middle;\n",
       "    }\n",
       "\n",
       "    .dataframe tbody tr th {\n",
       "        vertical-align: top;\n",
       "    }\n",
       "\n",
       "    .dataframe thead th {\n",
       "        text-align: right;\n",
       "    }\n",
       "</style>\n",
       "<table border=\"1\" class=\"dataframe\">\n",
       "  <thead>\n",
       "    <tr style=\"text-align: right;\">\n",
       "      <th></th>\n",
       "      <th>topics</th>\n",
       "      <th>url</th>\n",
       "      <th>name</th>\n",
       "      <th>cleaned_text</th>\n",
       "    </tr>\n",
       "  </thead>\n",
       "  <tbody>\n",
       "    <tr>\n",
       "      <th>91</th>\n",
       "      <td>0</td>\n",
       "      <td>https://www.burpple.com/bober?bp_ref=%2Ff%2FY2...</td>\n",
       "      <td>Bober Tea (Bishan)</td>\n",
       "      <td>staff unfriendly quality rather inconsistent f...</td>\n",
       "    </tr>\n",
       "    <tr>\n",
       "      <th>583</th>\n",
       "      <td>0</td>\n",
       "      <td>https://www.burpple.com/potato-head-folk?bp_re...</td>\n",
       "      <td>Potato Head Singapore</td>\n",
       "      <td>great bar food burger great juicy beef patty s...</td>\n",
       "    </tr>\n",
       "    <tr>\n",
       "      <th>66</th>\n",
       "      <td>0</td>\n",
       "      <td>https://www.burpple.com/banh-mi-thit-by-star-b...</td>\n",
       "      <td>Banh Mi Thit (Geylang)</td>\n",
       "      <td>shop open 10am arrive minute 10am thought may ...</td>\n",
       "    </tr>\n",
       "    <tr>\n",
       "      <th>430</th>\n",
       "      <td>0</td>\n",
       "      <td>https://www.burpple.com/lorong-32-geylang-ban-...</td>\n",
       "      <td>L32 Handmade Noodles (Geylang)</td>\n",
       "      <td>handtorn mee hoon kueh toss savoury dark sauce...</td>\n",
       "    </tr>\n",
       "    <tr>\n",
       "      <th>616</th>\n",
       "      <td>0</td>\n",
       "      <td>https://www.burpple.com/salmon-samurai?bp_ref=...</td>\n",
       "      <td>Salmon Samurai (100AM)</td>\n",
       "      <td>look light tasty lunch japanese bowl best salm...</td>\n",
       "    </tr>\n",
       "    <tr>\n",
       "      <th>578</th>\n",
       "      <td>0</td>\n",
       "      <td>https://www.burpple.com/plain-vanilla-bakery-c...</td>\n",
       "      <td>Plain Vanilla (Cluny Court)</td>\n",
       "      <td>birthday celebration grab delivery item come t...</td>\n",
       "    </tr>\n",
       "    <tr>\n",
       "      <th>777</th>\n",
       "      <td>0</td>\n",
       "      <td>https://www.burpple.com/twenty-eight-cafe?bp_r...</td>\n",
       "      <td>Twenty Eight Cafe</td>\n",
       "      <td>cosy discreet cafe bottom mount sophia breakfa...</td>\n",
       "    </tr>\n",
       "    <tr>\n",
       "      <th>670</th>\n",
       "      <td>0</td>\n",
       "      <td>https://www.burpple.com/sun-with-moon-japanese...</td>\n",
       "      <td>Sun with Moon (Wheelock Place)</td>\n",
       "      <td>salmon torus teriyaki kamameshi set 2580 final...</td>\n",
       "    </tr>\n",
       "    <tr>\n",
       "      <th>496</th>\n",
       "      <td>0</td>\n",
       "      <td>https://www.burpple.com/mtr-1924-vegetarian-re...</td>\n",
       "      <td>MTR 1924</td>\n",
       "      <td>hard kind crispy crispy though potato inside m...</td>\n",
       "    </tr>\n",
       "    <tr>\n",
       "      <th>709</th>\n",
       "      <td>0</td>\n",
       "      <td>https://www.burpple.com/thai-baang?bp_ref=%2Ff...</td>\n",
       "      <td>Thai Baàng (Kitchener Complex)</td>\n",
       "      <td>bread yam floss mochi bread bought mochi bun b...</td>\n",
       "    </tr>\n",
       "  </tbody>\n",
       "</table>\n",
       "</div>"
      ],
      "text/plain": [
       "    topics                                                url  \\\n",
       "91       0  https://www.burpple.com/bober?bp_ref=%2Ff%2FY2...   \n",
       "583      0  https://www.burpple.com/potato-head-folk?bp_re...   \n",
       "66       0  https://www.burpple.com/banh-mi-thit-by-star-b...   \n",
       "430      0  https://www.burpple.com/lorong-32-geylang-ban-...   \n",
       "616      0  https://www.burpple.com/salmon-samurai?bp_ref=...   \n",
       "578      0  https://www.burpple.com/plain-vanilla-bakery-c...   \n",
       "777      0  https://www.burpple.com/twenty-eight-cafe?bp_r...   \n",
       "670      0  https://www.burpple.com/sun-with-moon-japanese...   \n",
       "496      0  https://www.burpple.com/mtr-1924-vegetarian-re...   \n",
       "709      0  https://www.burpple.com/thai-baang?bp_ref=%2Ff...   \n",
       "\n",
       "                               name  \\\n",
       "91               Bober Tea (Bishan)   \n",
       "583           Potato Head Singapore   \n",
       "66           Banh Mi Thit (Geylang)   \n",
       "430  L32 Handmade Noodles (Geylang)   \n",
       "616          Salmon Samurai (100AM)   \n",
       "578     Plain Vanilla (Cluny Court)   \n",
       "777               Twenty Eight Cafe   \n",
       "670  Sun with Moon (Wheelock Place)   \n",
       "496                        MTR 1924   \n",
       "709  Thai Baàng (Kitchener Complex)   \n",
       "\n",
       "                                          cleaned_text  \n",
       "91   staff unfriendly quality rather inconsistent f...  \n",
       "583  great bar food burger great juicy beef patty s...  \n",
       "66   shop open 10am arrive minute 10am thought may ...  \n",
       "430  handtorn mee hoon kueh toss savoury dark sauce...  \n",
       "616  look light tasty lunch japanese bowl best salm...  \n",
       "578  birthday celebration grab delivery item come t...  \n",
       "777  cosy discreet cafe bottom mount sophia breakfa...  \n",
       "670  salmon torus teriyaki kamameshi set 2580 final...  \n",
       "496  hard kind crispy crispy though potato inside m...  \n",
       "709  bread yam floss mochi bread bought mochi bun b...  "
      ]
     },
     "execution_count": 29,
     "metadata": {},
     "output_type": "execute_result"
    }
   ],
   "source": [
    "interpret_df[interpret_df['topics'] == 0]"
   ]
  },
  {
   "attachments": {},
   "cell_type": "markdown",
   "metadata": {},
   "source": [
    "## Model 2\n",
    "Appended additional adjective words"
   ]
  },
  {
   "cell_type": "code",
   "execution_count": null,
   "metadata": {},
   "outputs": [],
   "source": [
    "def create_adj_tokenized_reviews(n):\n",
    "    adj_tokenized_reviews = []\n",
    "    for review in tokenized_reviews:\n",
    "        adj_tokenized = []\n",
    "        for token in review:\n",
    "            adj_tokenized.append(token)\n",
    "            word, pos = nltk.pos_tag([token])[0]\n",
    "            if pos == 'JJ' or pos == 'JJR' or pos == 'JJS' or pos == 'RB' or pos == 'RBR' or pos == 'RBS':\n",
    "                for i in range(n):\n",
    "                    adj_tokenized.append(token)\n",
    "                \n",
    "        adj_tokenized_reviews.append(adj_tokenized)\n",
    "    return adj_tokenized_reviews"
   ]
  },
  {
   "cell_type": "code",
   "execution_count": null,
   "metadata": {},
   "outputs": [],
   "source": [
    "adj_tokenized_reviews = create_adj_tokenized_reviews(1)"
   ]
  },
  {
   "cell_type": "code",
   "execution_count": null,
   "metadata": {},
   "outputs": [],
   "source": [
    "len(adj_tokenized_reviews[0])"
   ]
  },
  {
   "cell_type": "code",
   "execution_count": null,
   "metadata": {},
   "outputs": [],
   "source": [
    "len(tokenized_reviews[0])"
   ]
  },
  {
   "attachments": {},
   "cell_type": "markdown",
   "metadata": {},
   "source": [
    "#### Train Model"
   ]
  },
  {
   "cell_type": "code",
   "execution_count": null,
   "metadata": {},
   "outputs": [],
   "source": [
    "# identify optimal weights. Assume 5 clusters, 10 epochs \n",
    "scores = []\n",
    "range_weights = range(1,4)\n",
    "for i in range_weights:\n",
    "    adj_tokenized_reviews = create_adj_tokenized_reviews(i)\n",
    "    scores.append(plot_silhouette(adj_tokenized_reviews))\n",
    "\n",
    "plt.plot(list(range_weights),scores)\n",
    "plt.title('Silhouette Score For Each Added Frequencies')\n",
    "plt.show()"
   ]
  },
  {
   "cell_type": "code",
   "execution_count": null,
   "metadata": {},
   "outputs": [],
   "source": [
    "# identify optimal number of epochs\n",
    "adj_tokenized_reviews = create_adj_tokenized_reviews(2)\n",
    "optimise_epochs(adj_tokenized_reviews)"
   ]
  },
  {
   "cell_type": "code",
   "execution_count": null,
   "metadata": {},
   "outputs": [],
   "source": [
    "it, model2 = doc2vec(adj_tokenized_reviews, 3) ### Change number of epochs accordingly"
   ]
  },
  {
   "cell_type": "markdown",
   "metadata": {},
   "source": [
    "### Similarity Matrix"
   ]
  },
  {
   "cell_type": "code",
   "execution_count": null,
   "metadata": {},
   "outputs": [],
   "source": [
    "cosine_similarity_matrix(model2)"
   ]
  },
  {
   "attachments": {},
   "cell_type": "markdown",
   "metadata": {},
   "source": [
    "### Text Clustering Using K-Means"
   ]
  },
  {
   "cell_type": "code",
   "execution_count": null,
   "metadata": {},
   "outputs": [],
   "source": [
    "num_topics_elbow(model2)"
   ]
  },
  {
   "cell_type": "code",
   "execution_count": null,
   "metadata": {},
   "outputs": [],
   "source": [
    "num_topics_silhouette(model2, 3) ### CHANGE ACCORDINGLY"
   ]
  },
  {
   "attachments": {},
   "cell_type": "markdown",
   "metadata": {},
   "source": [
    "#### Cluster Visualisation"
   ]
  },
  {
   "cell_type": "code",
   "execution_count": null,
   "metadata": {},
   "outputs": [],
   "source": [
    "num_clusters = 4 ### CHANGE ACCORDINGLY\n",
    "kmeans = KMeans(n_clusters=num_clusters, init='k-means++', max_iter=100) \n",
    "X = kmeans.fit(model2.dv.vectors) ### CHANGE MODEL NUMBER\n",
    "labels = kmeans.labels_.tolist()"
   ]
  },
  {
   "cell_type": "code",
   "execution_count": null,
   "metadata": {},
   "outputs": [],
   "source": [
    "pca_plot(model2)"
   ]
  },
  {
   "attachments": {},
   "cell_type": "markdown",
   "metadata": {},
   "source": [
    "#### Cluster Interpretation"
   ]
  },
  {
   "cell_type": "code",
   "execution_count": null,
   "metadata": {},
   "outputs": [],
   "source": [
    "interpret_df = nearest_restaurants_to_centroid(model2)"
   ]
  },
  {
   "cell_type": "code",
   "execution_count": null,
   "metadata": {},
   "outputs": [],
   "source": [
    "interpret_df[interpret_df['topics'] == 0]"
   ]
  },
  {
   "attachments": {},
   "cell_type": "markdown",
   "metadata": {},
   "source": [
    "# OLD"
   ]
  },
  {
   "attachments": {},
   "cell_type": "markdown",
   "metadata": {},
   "source": [
    "#### bigram"
   ]
  },
  {
   "cell_type": "code",
   "execution_count": null,
   "metadata": {},
   "outputs": [],
   "source": [
    "from gensim.models.phrases import Phrases, Phraser\n",
    "# Build the bigram and trigram models\n",
    "bigram = gensim.models.Phrases(tokenized_reviews) # higher threshold fewer phrases.\n",
    "\n",
    "# Faster way to get a sentence clubbed as a trigram/bigram\n",
    "bigram_mod = gensim.models.phrases.Phraser(bigram)\n",
    "\n",
    "def make_bigrams(texts):\n",
    "    return [bigram_mod[doc] for doc in texts]\n",
    "\n",
    "bigram_reviews = make_bigrams(tokenized_reviews)"
   ]
  },
  {
   "cell_type": "code",
   "execution_count": null,
   "metadata": {},
   "outputs": [],
   "source": [
    "it, model = doc2vec(bigram_reviews)"
   ]
  },
  {
   "attachments": {},
   "cell_type": "markdown",
   "metadata": {},
   "source": [
    "#### Trigram"
   ]
  },
  {
   "cell_type": "code",
   "execution_count": null,
   "metadata": {},
   "outputs": [],
   "source": [
    "from gensim.models.phrases import Phrases, Phraser\n",
    "# Build the bigram and trigram models\n",
    "bigram = gensim.models.Phrases(tokenized_reviews) # higher threshold fewer phrases.\n",
    "\n",
    "# Faster way to get a sentence clubbed as a trigram/bigram\n",
    "bigram_mod = gensim.models.phrases.Phraser(bigram)\n",
    "\n",
    "trigram = gensim.models.Phrases(bigram_mod['tokenized_reviews'])\n",
    "trigram_mod = gensim.models.phrases.Phraser(trigram)\n",
    "\n",
    "\n",
    "def make_trigrams(texts):\n",
    "    return [trigram_mod[doc] for doc in texts]\n",
    "\n",
    "trigram_reviews = make_trigrams(tokenized_reviews)"
   ]
  },
  {
   "cell_type": "code",
   "execution_count": null,
   "metadata": {},
   "outputs": [],
   "source": [
    "it, model = doc2vec(trigram_reviews)"
   ]
  },
  {
   "attachments": {},
   "cell_type": "markdown",
   "metadata": {},
   "source": [
    "## Similarity"
   ]
  },
  {
   "cell_type": "code",
   "execution_count": null,
   "metadata": {},
   "outputs": [],
   "source": [
    "it.labels_list[800]"
   ]
  },
  {
   "cell_type": "code",
   "execution_count": null,
   "metadata": {},
   "outputs": [],
   "source": [
    "# get most similar restaurant to the first restaurant\n",
    "# 'https://www.burpple.com/108-matcha-saro?bp_ref=%2Ff%2F-9cTfRes'\n",
    "model.docvecs.most_similar(800)"
   ]
  },
  {
   "cell_type": "code",
   "execution_count": null,
   "metadata": {},
   "outputs": [],
   "source": [
    "# similarity between 2 documents\n",
    "model.docvecs.similarity(it.labels_list[0], it.labels_list[1])"
   ]
  },
  {
   "cell_type": "code",
   "execution_count": null,
   "metadata": {},
   "outputs": [],
   "source": [
    "similarity_df = pd.DataFrame()\n",
    "\n",
    "for restaurant in it.labels_list:\n",
    "    similarity_list = []\n",
    "    for restaurant2 in it.labels_list:\n",
    "        similarity_list.append(model.docvecs.similarity(restaurant, restaurant2))\n",
    "    \n",
    "    similarity_df[restaurant] = similarity_list"
   ]
  },
  {
   "cell_type": "code",
   "execution_count": null,
   "metadata": {},
   "outputs": [],
   "source": [
    "similarity_df.index = list(it.labels_list)"
   ]
  },
  {
   "cell_type": "code",
   "execution_count": null,
   "metadata": {},
   "outputs": [],
   "source": [
    "similarity_df\n",
    "\n",
    "# cosine similarity, jacquard smilarity, euclidean distance, manhatten distance\n",
    "\n",
    "# similarity scores high coz vectors are similar\n",
    "# currently, the vectors are too random. embedding method is not capturing the important data regarding the food items. pre-process dataset to remove words / give more importance to some words"
   ]
  },
  {
   "cell_type": "code",
   "execution_count": null,
   "metadata": {},
   "outputs": [],
   "source": [
    "similarity_df.to_csv('doc2vec_restaurant_similarity_append_double.csv')"
   ]
  },
  {
   "attachments": {},
   "cell_type": "markdown",
   "metadata": {},
   "source": [
    "## Text Clustering using K-Means\n",
    "by default kmeans uses euclidean distance"
   ]
  },
  {
   "cell_type": "code",
   "execution_count": null,
   "metadata": {},
   "outputs": [],
   "source": [
    "# get optimal number of topics\n",
    "Sum_of_squared_distances = []\n",
    "K = range(1,15)\n",
    "for k in K:\n",
    "    kmeans = KMeans(n_clusters=k, init='k-means++', max_iter=100)\n",
    "    X = kmeans.fit(model.dv.vectors) ###using documnet vecter numbers. doctag_syn0 calls doc2vec that is trained earlier.\n",
    "    Sum_of_squared_distances.append(kmeans.inertia_)\n",
    "\n",
    "plt.plot(K, Sum_of_squared_distances, 'bx-')\n",
    "plt.xlabel('k')\n",
    "plt.ylabel('Sum_of_squared_distances')\n",
    "plt.title('Elbow Method For Optimal k')\n",
    "plt.show()"
   ]
  },
  {
   "cell_type": "code",
   "execution_count": null,
   "metadata": {},
   "outputs": [],
   "source": [
    "### K-means Accuracy (Silhouette Score)\n",
    "from sklearn.metrics import silhouette_samples, silhouette_score\n",
    "accuracy = []\n",
    "for k in K:\n",
    "    if k == 1:\n",
    "        pass\n",
    "    else: \n",
    "        kmeans = KMeans(n_clusters=k, init='k-means++', max_iter=100)\n",
    "        X = kmeans.fit(model.dv.vectors) ###using documnet vecter numbers. doctag_syn0 calls doc2vec that is trained earlier.\n",
    "        Sum_of_squared_distances.append(kmeans.inertia_)\n",
    "        silhouette_score_average = silhouette_score(model.dv.vectors, kmeans.predict(model.dv.vectors))\n",
    "        accuracy.append(silhouette_score_average)\n",
    "x = list(range(2,len(K)+1))\n",
    "plt.plot(x,accuracy)\n",
    "plt.show()"
   ]
  },
  {
   "cell_type": "code",
   "execution_count": null,
   "metadata": {},
   "outputs": [],
   "source": [
    "# elbow result shows 8 is the best\n",
    "num_clusters = 6 ## or change to 6?\n",
    "kmeans = KMeans(n_clusters=num_clusters, init='k-means++', max_iter=100) \n",
    "X = kmeans.fit(model.dv.vectors)\n",
    "labels = kmeans.labels_.tolist()\n",
    "\n",
    "# can get the representative words of each category \n",
    "# cosine similarity measure of the words\n",
    "# LDA uses number of words in each review (prob of word uses)"
   ]
  },
  {
   "cell_type": "code",
   "execution_count": null,
   "metadata": {},
   "outputs": [],
   "source": [
    "l = kmeans.fit_predict(model.dv.vectors)\n",
    "pca = PCA(n_components=2).fit(model.dv.vectors)\n",
    "datapoint = pca.transform(model.dv.vectors)"
   ]
  },
  {
   "cell_type": "code",
   "execution_count": null,
   "metadata": {},
   "outputs": [],
   "source": [
    "plt.figure\n",
    "label1 = [\"#FF6961\", \"#FFB480\", \"#F8F38D\", \"#42D6A4\", \"#08CAD1\", \"#59ADF6\", \"#9D94FF\", \"#C780E8\"]\n",
    "color = [label1[i] for i in labels]\n",
    "plt.scatter(datapoint[:, 0], datapoint[:, 1], c=color)\n",
    "\n",
    "centroids = kmeans.cluster_centers_\n",
    "centroidpoint = pca.transform(centroids)\n",
    "plt.scatter(centroidpoint[:, 0], centroidpoint[:, 1], marker='^', s=150, c='#000000')\n",
    "plt.show()\n",
    "\n",
    "# if clustering not well, means word embedding is not clearly representing the topic\n",
    "# get a set of food items from wikipedia & set of sentiment words (e.g. good, nice, awful, costly) words that are freuently in reviews\n",
    "# find the frequency of these words in the dataset??\n",
    "# use n-grams?"
   ]
  },
  {
   "attachments": {},
   "cell_type": "markdown",
   "metadata": {},
   "source": [
    "## Interpret Clusters\n",
    "identify restaurants that are closest to the centroid"
   ]
  },
  {
   "cell_type": "code",
   "execution_count": null,
   "metadata": {},
   "outputs": [],
   "source": [
    "# label each restaurant under 1 of the topics\n",
    "restaurant_review_df['topics'] = labels\n",
    "restaurant_review_df.head(5)"
   ]
  },
  {
   "cell_type": "code",
   "execution_count": null,
   "metadata": {},
   "outputs": [],
   "source": [
    "# count of restaurants under each topic\n",
    "restaurant_review_df['topics'].value_counts()"
   ]
  },
  {
   "cell_type": "code",
   "execution_count": null,
   "metadata": {},
   "outputs": [],
   "source": [
    "from sklearn.metrics import pairwise_distances\n",
    "distances = pairwise_distances(kmeans.cluster_centers_, model.dv.vectors, metric='euclidean')\n",
    "closest_indexes = [np.argpartition(i, 10)[:10] for i in distances] # for each centroid, get the 10 nearest restaurants"
   ]
  },
  {
   "cell_type": "code",
   "execution_count": null,
   "metadata": {},
   "outputs": [],
   "source": [
    "interpret_df = pd.DataFrame(columns=['topics', 'url', 'cleaned_text'])\n",
    "for idx in closest_indexes:\n",
    "    interpret_df = interpret_df.append(restaurant_review_df[['url', 'cleaned_text', 'topics']].iloc[idx])\n",
    "\n",
    "interpret_df = interpret_df.sort_values(['topics'])"
   ]
  },
  {
   "cell_type": "code",
   "execution_count": null,
   "metadata": {},
   "outputs": [],
   "source": [
    "interpret_df.to_csv('doc2vec_centroid_restaurants_' + str(num_clusters) + '_clusters_append_double.csv')"
   ]
  },
  {
   "cell_type": "code",
   "execution_count": null,
   "metadata": {},
   "outputs": [],
   "source": [
    "interpret_df[interpret_df['topics'] == 0]"
   ]
  },
  {
   "attachments": {},
   "cell_type": "markdown",
   "metadata": {},
   "source": [
    "## One Hot Encode"
   ]
  },
  {
   "cell_type": "code",
   "execution_count": null,
   "metadata": {},
   "outputs": [],
   "source": [
    "restaurant_review_df_encoded = restaurant_review_df.drop(['name', 'cleaned_text', 'price', 'categories', 'review', 'user', 'date', 'cleaned_categories'], axis=1)"
   ]
  },
  {
   "cell_type": "code",
   "execution_count": null,
   "metadata": {},
   "outputs": [],
   "source": [
    "# one hot encode region & topics\n",
    "region_dummies = pd.get_dummies(restaurant_review_df_encoded['region'])\n",
    "neighbourhood_dummies = pd.get_dummies(restaurant_review_df_encoded['neighbourhood'])\n",
    "topic_dummies = pd.get_dummies(restaurant_review_df_encoded['topics'])\n",
    "\n",
    "restaurant_review_df_encoded = restaurant_review_df_encoded.drop(['region', 'neighbourhood', 'topics'], axis=1)\n",
    "restaurant_review_df_encoded = restaurant_review_df_encoded.join(region_dummies)\n",
    "restaurant_review_df_encoded = restaurant_review_df_encoded.join(neighbourhood_dummies)\n",
    "restaurant_review_df_encoded = restaurant_review_df_encoded.join(topic_dummies)"
   ]
  },
  {
   "cell_type": "code",
   "execution_count": null,
   "metadata": {},
   "outputs": [],
   "source": [
    "restaurant_review_df_encoded.head(5)"
   ]
  },
  {
   "cell_type": "code",
   "execution_count": null,
   "metadata": {},
   "outputs": [],
   "source": [
    "restaurant_review_df_encoded.to_csv('doc2vec_labelled_restaurants_bigram.csv')"
   ]
  },
  {
   "attachments": {},
   "cell_type": "markdown",
   "metadata": {},
   "source": [
    "## WordCloud"
   ]
  },
  {
   "cell_type": "code",
   "execution_count": null,
   "metadata": {},
   "outputs": [],
   "source": [
    "from wordcloud import WordCloud\n",
    "from sklearn.feature_extraction.text import TfidfVectorizer"
   ]
  },
  {
   "cell_type": "code",
   "execution_count": null,
   "metadata": {},
   "outputs": [],
   "source": [
    "# concatenate all the reviews for each topic\n",
    "topic_df = interpret_df[['topics', 'cleaned_text']]\n",
    "topic_df = topic_df.groupby(['topics'], as_index = False).agg({'cleaned_text': ' '.join})\n",
    "topic_df"
   ]
  },
  {
   "cell_type": "code",
   "execution_count": null,
   "metadata": {},
   "outputs": [],
   "source": [
    "# TF-IDF\n",
    "text = topic_df['cleaned_text']\n",
    "vectorizer = TfidfVectorizer(stop_words='english')\n",
    "X = vectorizer.fit_transform(text)\n",
    "feature_names = vectorizer.get_feature_names_out()\n",
    "dense = X.todense()\n",
    "denselist = dense.tolist()\n",
    "df = pd.DataFrame(denselist, columns=feature_names).transpose()\n",
    "df.columns = topic_df['topics']"
   ]
  },
  {
   "cell_type": "code",
   "execution_count": null,
   "metadata": {},
   "outputs": [],
   "source": [
    "wordcloud = WordCloud(background_color = 'white', collocations = False).generate_from_text(text[0])\n",
    "# Display the generated Word Cloud\n",
    "plt.imshow(wordcloud)\n",
    "plt.axis(\"off\")\n",
    "plt.show()"
   ]
  },
  {
   "cell_type": "code",
   "execution_count": null,
   "metadata": {},
   "outputs": [],
   "source": [
    "wordcloud = WordCloud(background_color = 'white', collocations = False).generate_from_frequencies(df[0])\n",
    "# Display the generated Word Cloud\n",
    "plt.imshow(wordcloud)\n",
    "plt.axis(\"off\")\n",
    "plt.show()"
   ]
  },
  {
   "cell_type": "code",
   "execution_count": null,
   "metadata": {},
   "outputs": [],
   "source": [
    "wordcloud = WordCloud(background_color = 'white', collocations = False).generate_from_text(text[1])\n",
    "# Display the generated Word Cloud\n",
    "plt.imshow(wordcloud)\n",
    "plt.axis(\"off\")\n",
    "plt.show()"
   ]
  },
  {
   "cell_type": "code",
   "execution_count": null,
   "metadata": {},
   "outputs": [],
   "source": [
    "wordcloud = WordCloud(background_color = 'white', collocations = False).generate_from_frequencies(df[1])\n",
    "# Display the generated Word Cloud\n",
    "plt.imshow(wordcloud)\n",
    "plt.axis(\"off\")\n",
    "plt.show()"
   ]
  },
  {
   "cell_type": "code",
   "execution_count": null,
   "metadata": {},
   "outputs": [],
   "source": [
    "wordcloud = WordCloud(background_color = 'white', collocations = False).generate_from_frequencies(df[2])\n",
    "# Display the generated Word Cloud\n",
    "plt.imshow(wordcloud)\n",
    "plt.axis(\"off\")\n",
    "plt.show()"
   ]
  },
  {
   "cell_type": "code",
   "execution_count": null,
   "metadata": {},
   "outputs": [],
   "source": [
    "wordcloud = WordCloud(background_color = 'white', collocations = False).generate_from_frequencies(df[3])\n",
    "# Display the generated Word Cloud\n",
    "plt.imshow(wordcloud)\n",
    "plt.axis(\"off\")\n",
    "plt.show()"
   ]
  },
  {
   "cell_type": "code",
   "execution_count": null,
   "metadata": {},
   "outputs": [],
   "source": [
    "wordcloud = WordCloud(background_color = 'white', collocations = False).generate_from_frequencies(df[4])\n",
    "# Display the generated Word Cloud\n",
    "plt.imshow(wordcloud)\n",
    "plt.axis(\"off\")\n",
    "plt.show()"
   ]
  },
  {
   "cell_type": "code",
   "execution_count": null,
   "metadata": {},
   "outputs": [],
   "source": [
    "wordcloud = WordCloud(background_color = 'white', collocations = False).generate_from_frequencies(df[5])\n",
    "# Display the generated Word Cloud\n",
    "plt.imshow(wordcloud)\n",
    "plt.axis(\"off\")\n",
    "plt.show()"
   ]
  },
  {
   "cell_type": "code",
   "execution_count": null,
   "metadata": {},
   "outputs": [],
   "source": []
  }
 ],
 "metadata": {
  "kernelspec": {
   "display_name": "bt4221",
   "language": "python",
   "name": "python3"
  },
  "language_info": {
   "codemirror_mode": {
    "name": "ipython",
    "version": 3
   },
   "file_extension": ".py",
   "mimetype": "text/x-python",
   "name": "python",
   "nbconvert_exporter": "python",
   "pygments_lexer": "ipython3",
   "version": "3.9.16"
  },
  "orig_nbformat": 4
 },
 "nbformat": 4,
 "nbformat_minor": 2
}
