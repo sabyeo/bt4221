{
 "cells": [
  {
   "cell_type": "code",
   "execution_count": 1,
   "metadata": {},
   "outputs": [
    {
     "name": "stderr",
     "output_type": "stream",
     "text": [
      "[nltk_data] Downloading package averaged_perceptron_tagger to\n",
      "[nltk_data]     /Users/sabrina/nltk_data...\n",
      "[nltk_data]   Package averaged_perceptron_tagger is already up-to-\n",
      "[nltk_data]       date!\n",
      "[nltk_data] Downloading package stopwords to\n",
      "[nltk_data]     /Users/sabrina/nltk_data...\n",
      "[nltk_data]   Package stopwords is already up-to-date!\n"
     ]
    },
    {
     "data": {
      "text/plain": [
       "True"
      ]
     },
     "execution_count": 1,
     "metadata": {},
     "output_type": "execute_result"
    }
   ],
   "source": [
    "import pandas as pd\n",
    "import emoji\n",
    "import regex as re\n",
    "import numpy as np\n",
    "import nltk\n",
    "from nltk.tokenize import word_tokenize\n",
    "from nltk.corpus import stopwords\n",
    "from nltk.stem import WordNetLemmatizer\n",
    "from nltk.corpus import wordnet\n",
    "from nltk.stem import PorterStemmer\n",
    "from deep_translator import GoogleTranslator\n",
    "\n",
    "\n",
    "import nltk\n",
    "nltk.download('averaged_perceptron_tagger')\n",
    "nltk.download('stopwords')"
   ]
  },
  {
   "cell_type": "code",
   "execution_count": 2,
   "metadata": {},
   "outputs": [],
   "source": [
    "data = pd.read_csv('scrape/restaurant-data/cleaned_restaurant_reviews.csv', index_col=0)"
   ]
  },
  {
   "attachments": {},
   "cell_type": "markdown",
   "metadata": {},
   "source": [
    "## LDA"
   ]
  },
  {
   "cell_type": "code",
   "execution_count": 5,
   "metadata": {},
   "outputs": [],
   "source": [
    "data = data.reset_index(drop=True)"
   ]
  },
  {
   "cell_type": "code",
   "execution_count": 12,
   "metadata": {},
   "outputs": [
    {
     "data": {
      "text/html": [
       "<div>\n",
       "<style scoped>\n",
       "    .dataframe tbody tr th:only-of-type {\n",
       "        vertical-align: middle;\n",
       "    }\n",
       "\n",
       "    .dataframe tbody tr th {\n",
       "        vertical-align: top;\n",
       "    }\n",
       "\n",
       "    .dataframe thead th {\n",
       "        text-align: right;\n",
       "    }\n",
       "</style>\n",
       "<table border=\"1\" class=\"dataframe\">\n",
       "  <thead>\n",
       "    <tr style=\"text-align: right;\">\n",
       "      <th></th>\n",
       "      <th>url</th>\n",
       "      <th>name</th>\n",
       "      <th>neighbourhood</th>\n",
       "      <th>price</th>\n",
       "      <th>categories</th>\n",
       "      <th>review</th>\n",
       "      <th>user</th>\n",
       "      <th>date</th>\n",
       "      <th>cleaned_price</th>\n",
       "      <th>cleaned_categories</th>\n",
       "      <th>...</th>\n",
       "      <th>Korean</th>\n",
       "      <th>Healthy</th>\n",
       "      <th>Rainy Day Comforts</th>\n",
       "      <th>Drinks</th>\n",
       "      <th>Good Environment</th>\n",
       "      <th>European</th>\n",
       "      <th>Alcohol</th>\n",
       "      <th>Western</th>\n",
       "      <th>Recommended</th>\n",
       "      <th>region</th>\n",
       "    </tr>\n",
       "  </thead>\n",
       "  <tbody>\n",
       "    <tr>\n",
       "      <th>0</th>\n",
       "      <td>https://www.burpple.com/bedok-85-market?bp_ref...</td>\n",
       "      <td>85 Fengshan Centre</td>\n",
       "      <td>Bedok</td>\n",
       "      <td>~$5/pax</td>\n",
       "      <td>['Hawker Food', 'Supper', 'Cheap &amp; Good']</td>\n",
       "      <td>\\nFish Ball Minced Meat Noodle\\nFishball, meat...</td>\n",
       "      <td>Triffany Lim</td>\n",
       "      <td>21m ago</td>\n",
       "      <td>5.0</td>\n",
       "      <td>['Local Delights', 'Supper', 'Value']</td>\n",
       "      <td>...</td>\n",
       "      <td>0</td>\n",
       "      <td>0</td>\n",
       "      <td>0</td>\n",
       "      <td>0</td>\n",
       "      <td>0</td>\n",
       "      <td>0</td>\n",
       "      <td>0</td>\n",
       "      <td>0</td>\n",
       "      <td>0</td>\n",
       "      <td>East</td>\n",
       "    </tr>\n",
       "    <tr>\n",
       "      <th>1</th>\n",
       "      <td>https://www.burpple.com/bedok-85-market?bp_ref...</td>\n",
       "      <td>85 Fengshan Centre</td>\n",
       "      <td>Bedok</td>\n",
       "      <td>~$5/pax</td>\n",
       "      <td>['Hawker Food', 'Supper', 'Cheap &amp; Good']</td>\n",
       "      <td>\\nOrh lua\\nThere are a couple of stores, but g...</td>\n",
       "      <td>Ally Tan</td>\n",
       "      <td>Jul 30 at 4:12pm</td>\n",
       "      <td>5.0</td>\n",
       "      <td>['Local Delights', 'Supper', 'Value']</td>\n",
       "      <td>...</td>\n",
       "      <td>0</td>\n",
       "      <td>0</td>\n",
       "      <td>0</td>\n",
       "      <td>0</td>\n",
       "      <td>0</td>\n",
       "      <td>0</td>\n",
       "      <td>0</td>\n",
       "      <td>0</td>\n",
       "      <td>0</td>\n",
       "      <td>East</td>\n",
       "    </tr>\n",
       "    <tr>\n",
       "      <th>2</th>\n",
       "      <td>https://www.burpple.com/bedok-85-market?bp_ref...</td>\n",
       "      <td>85 Fengshan Centre</td>\n",
       "      <td>Bedok</td>\n",
       "      <td>~$5/pax</td>\n",
       "      <td>['Hawker Food', 'Supper', 'Cheap &amp; Good']</td>\n",
       "      <td>\\nPeanut sauce was ace\\nI love a good satay pe...</td>\n",
       "      <td>Ally Tan</td>\n",
       "      <td>Jul 30 at 4:10pm</td>\n",
       "      <td>5.0</td>\n",
       "      <td>['Local Delights', 'Supper', 'Value']</td>\n",
       "      <td>...</td>\n",
       "      <td>0</td>\n",
       "      <td>0</td>\n",
       "      <td>0</td>\n",
       "      <td>0</td>\n",
       "      <td>0</td>\n",
       "      <td>0</td>\n",
       "      <td>0</td>\n",
       "      <td>0</td>\n",
       "      <td>0</td>\n",
       "      <td>East</td>\n",
       "    </tr>\n",
       "  </tbody>\n",
       "</table>\n",
       "<p>3 rows × 44 columns</p>\n",
       "</div>"
      ],
      "text/plain": [
       "                                                 url                name  \\\n",
       "0  https://www.burpple.com/bedok-85-market?bp_ref...  85 Fengshan Centre   \n",
       "1  https://www.burpple.com/bedok-85-market?bp_ref...  85 Fengshan Centre   \n",
       "2  https://www.burpple.com/bedok-85-market?bp_ref...  85 Fengshan Centre   \n",
       "\n",
       "  neighbourhood    price                                 categories  \\\n",
       "0         Bedok  ~$5/pax  ['Hawker Food', 'Supper', 'Cheap & Good']   \n",
       "1         Bedok  ~$5/pax  ['Hawker Food', 'Supper', 'Cheap & Good']   \n",
       "2         Bedok  ~$5/pax  ['Hawker Food', 'Supper', 'Cheap & Good']   \n",
       "\n",
       "                                              review          user  \\\n",
       "0  \\nFish Ball Minced Meat Noodle\\nFishball, meat...  Triffany Lim   \n",
       "1  \\nOrh lua\\nThere are a couple of stores, but g...      Ally Tan   \n",
       "2  \\nPeanut sauce was ace\\nI love a good satay pe...      Ally Tan   \n",
       "\n",
       "               date  cleaned_price                     cleaned_categories  \\\n",
       "0           21m ago            5.0  ['Local Delights', 'Supper', 'Value']   \n",
       "1  Jul 30 at 4:12pm            5.0  ['Local Delights', 'Supper', 'Value']   \n",
       "2  Jul 30 at 4:10pm            5.0  ['Local Delights', 'Supper', 'Value']   \n",
       "\n",
       "   ... Korean  Healthy  Rainy Day Comforts  Drinks  Good Environment  \\\n",
       "0  ...      0        0                   0       0                 0   \n",
       "1  ...      0        0                   0       0                 0   \n",
       "2  ...      0        0                   0       0                 0   \n",
       "\n",
       "   European  Alcohol  Western  Recommended  region  \n",
       "0         0        0        0            0    East  \n",
       "1         0        0        0            0    East  \n",
       "2         0        0        0            0    East  \n",
       "\n",
       "[3 rows x 44 columns]"
      ]
     },
     "execution_count": 12,
     "metadata": {},
     "output_type": "execute_result"
    }
   ],
   "source": [
    "cleaned_df.head(3)"
   ]
  },
  {
   "cell_type": "code",
   "execution_count": 13,
   "metadata": {},
   "outputs": [],
   "source": [
    "import gensim"
   ]
  },
  {
   "cell_type": "code",
   "execution_count": 14,
   "metadata": {},
   "outputs": [],
   "source": [
    "# create dictionary\n",
    "docs = cleaned_df['cleaned_text']\n",
    "processed_docs = [d.split() for d in docs]\n",
    "dictionary = gensim.corpora.Dictionary(processed_docs)"
   ]
  },
  {
   "cell_type": "code",
   "execution_count": 15,
   "metadata": {},
   "outputs": [],
   "source": [
    "# term document frequency\n",
    "bow_corpus = [dictionary.doc2bow(doc) for doc in processed_docs]"
   ]
  },
  {
   "cell_type": "code",
   "execution_count": 16,
   "metadata": {},
   "outputs": [],
   "source": [
    "lda_model = gensim.models.LdaMulticore(corpus=bow_corpus,\n",
    "                                       id2word=dictionary,\n",
    "                                       num_topics=10,\n",
    "                                       random_state =100)"
   ]
  },
  {
   "cell_type": "code",
   "execution_count": 17,
   "metadata": {},
   "outputs": [
    {
     "name": "stdout",
     "output_type": "stream",
     "text": [
      "[(0,\n",
      "  '0.012*\"dish\" + 0.010*\"cream\" + 0.008*\"good\" + 0.007*\"like\" + 0.006*\"taste\" '\n",
      "  '+ 0.006*\"food\" + 0.004*\"sweet\" + 0.004*\"ice\" + 0.004*\"try\" + 0.004*\"pasta\"'),\n",
      " (1,\n",
      "  '0.007*\"taste\" + 0.007*\"food\" + 0.007*\"good\" + 0.006*\"fry\" + 0.005*\"like\" + '\n",
      "  '0.005*\"serve\" + 0.005*\"cheese\" + 0.005*\"flavour\" + 0.005*\"try\" + '\n",
      "  '0.005*\"dish\"'),\n",
      " (2,\n",
      "  '0.010*\"good\" + 0.007*\"sauce\" + 0.007*\"rice\" + 0.006*\"taste\" + 0.006*\"try\" + '\n",
      "  '0.006*\"pork\" + 0.006*\"flavour\" + 0.005*\"chicken\" + 0.005*\"prawn\" + '\n",
      "  '0.005*\"fry\"'),\n",
      " (3,\n",
      "  '0.007*\"flavour\" + 0.007*\"fry\" + 0.006*\"cake\" + 0.006*\"good\" + 0.006*\"sweet\" '\n",
      "  '+ 0.006*\"dish\" + 0.006*\"like\" + 0.005*\"taste\" + 0.004*\"egg\" + 0.004*\"tart\"'),\n",
      " (4,\n",
      "  '0.009*\"good\" + 0.008*\"taste\" + 0.007*\"like\" + 0.005*\"pork\" + 0.005*\"sweet\" '\n",
      "  '+ 0.005*\"noodle\" + 0.004*\"meat\" + 0.004*\"set\" + 0.004*\"chicken\" + '\n",
      "  '0.004*\"love\"'),\n",
      " (5,\n",
      "  '0.008*\"sweet\" + 0.008*\"chicken\" + 0.007*\"food\" + 0.005*\"like\" + '\n",
      "  '0.005*\"nice\" + 0.005*\"pork\" + 0.005*\"taste\" + 0.005*\"good\" + '\n",
      "  '0.004*\"definitely\" + 0.004*\"tea\"'),\n",
      " (6,\n",
      "  '0.008*\"flavour\" + 0.006*\"taste\" + 0.006*\"crispy\" + 0.006*\"prawn\" + '\n",
      "  '0.006*\"rice\" + 0.006*\"try\" + 0.005*\"good\" + 0.005*\"pork\" + 0.005*\"egg\" + '\n",
      "  '0.005*\"like\"'),\n",
      " (7,\n",
      "  '0.008*\"pork\" + 0.008*\"good\" + 0.007*\"burger\" + 0.007*\"beef\" + 0.006*\"food\" '\n",
      "  '+ 0.006*\"like\" + 0.005*\"egg\" + 0.005*\"taste\" + 0.004*\"chicken\" + '\n",
      "  '0.004*\"cake\"'),\n",
      " (8,\n",
      "  '0.013*\"sauce\" + 0.007*\"flavour\" + 0.006*\"dish\" + 0.006*\"good\" + 0.006*\"egg\" '\n",
      "  '+ 0.006*\"pork\" + 0.005*\"like\" + 0.005*\"sweet\" + 0.005*\"quite\" + '\n",
      "  '0.004*\"chicken\"'),\n",
      " (9,\n",
      "  '0.010*\"taste\" + 0.009*\"soup\" + 0.007*\"good\" + 0.007*\"cheese\" + '\n",
      "  '0.007*\"sweet\" + 0.006*\"chicken\" + 0.006*\"flavour\" + 0.006*\"dish\" + '\n",
      "  '0.006*\"beef\" + 0.005*\"like\"')]\n"
     ]
    }
   ],
   "source": [
    "from pprint import pprint\n",
    "\n",
    "# Print the Keyword in the 10 topics\n",
    "pprint(lda_model.print_topics())\n",
    "doc_lda = lda_model[bow_corpus]"
   ]
  },
  {
   "cell_type": "code",
   "execution_count": 18,
   "metadata": {},
   "outputs": [
    {
     "data": {
      "text/plain": [
       "0.3329824638559312"
      ]
     },
     "execution_count": 18,
     "metadata": {},
     "output_type": "execute_result"
    }
   ],
   "source": [
    "from gensim.models import CoherenceModel\n",
    "\n",
    "# Compute Coherence Score\n",
    "coherence_model_lda = CoherenceModel(model=lda_model, texts=processed_docs, dictionary=dictionary, coherence='c_v')\n",
    "lda_score = coherence_model_lda.get_coherence()\n",
    "lda_score"
   ]
  },
  {
   "cell_type": "code",
   "execution_count": 19,
   "metadata": {},
   "outputs": [],
   "source": [
    "def compute_coherence_values(k):\n",
    "    \n",
    "    lda_model = gensim.models.LdaMulticore(corpus=bow_corpus,\n",
    "                                           id2word=dictionary,\n",
    "                                           num_topics=k,\n",
    "                                           random_state =100)\n",
    "    \n",
    "    coherence_model_lda = CoherenceModel(model=lda_model, texts=processed_docs, dictionary=dictionary, coherence='c_v')\n",
    "    \n",
    "    return coherence_model_lda.get_coherence()"
   ]
  },
  {
   "cell_type": "code",
   "execution_count": 20,
   "metadata": {},
   "outputs": [
    {
     "data": {
      "text/plain": [
       "0.3320531365117204"
      ]
     },
     "execution_count": 20,
     "metadata": {},
     "output_type": "execute_result"
    }
   ],
   "source": [
    "compute_coherence_values(10)"
   ]
  },
  {
   "cell_type": "code",
   "execution_count": 21,
   "metadata": {},
   "outputs": [
    {
     "name": "stdout",
     "output_type": "stream",
     "text": [
      "2\n",
      "0.34256172361632586\n",
      "3\n",
      "0.3512378095998454\n",
      "4\n",
      "0.3509822351691631\n",
      "5\n",
      "0.3385493455937959\n",
      "6\n",
      "0.3338885797459299\n"
     ]
    },
    {
     "name": "stderr",
     "output_type": "stream",
     "text": [
      "Process SpawnPoolWorker-100:\n",
      "Process SpawnPoolWorker-102:\n",
      "Process SpawnPoolWorker-101:\n",
      "Process SpawnPoolWorker-99:\n",
      "Traceback (most recent call last):\n",
      "  File \"/Users/sabrina/opt/anaconda3/lib/python3.9/multiprocessing/process.py\", line 315, in _bootstrap\n",
      "    self.run()\n",
      "  File \"/Users/sabrina/opt/anaconda3/lib/python3.9/multiprocessing/process.py\", line 108, in run\n",
      "    self._target(*self._args, **self._kwargs)\n",
      "  File \"/Users/sabrina/opt/anaconda3/lib/python3.9/multiprocessing/pool.py\", line 109, in worker\n",
      "    initializer(*initargs)\n",
      "  File \"/Users/sabrina/opt/anaconda3/lib/python3.9/site-packages/gensim/models/ldamulticore.py\", line 341, in worker_e_step\n",
      "    chunk_no, chunk, w_state = input_queue.get()\n",
      "  File \"/Users/sabrina/opt/anaconda3/lib/python3.9/multiprocessing/queues.py\", line 102, in get\n",
      "    with self._rlock:\n",
      "  File \"/Users/sabrina/opt/anaconda3/lib/python3.9/multiprocessing/synchronize.py\", line 95, in __enter__\n",
      "    return self._semlock.__enter__()\n",
      "Traceback (most recent call last):\n",
      "KeyboardInterrupt\n",
      "  File \"/Users/sabrina/opt/anaconda3/lib/python3.9/multiprocessing/process.py\", line 315, in _bootstrap\n",
      "    self.run()\n",
      "  File \"/Users/sabrina/opt/anaconda3/lib/python3.9/multiprocessing/process.py\", line 108, in run\n",
      "    self._target(*self._args, **self._kwargs)\n",
      "  File \"/Users/sabrina/opt/anaconda3/lib/python3.9/multiprocessing/pool.py\", line 109, in worker\n",
      "    initializer(*initargs)\n",
      "  File \"/Users/sabrina/opt/anaconda3/lib/python3.9/site-packages/gensim/models/ldamulticore.py\", line 341, in worker_e_step\n",
      "    chunk_no, chunk, w_state = input_queue.get()\n",
      "  File \"/Users/sabrina/opt/anaconda3/lib/python3.9/multiprocessing/queues.py\", line 103, in get\n",
      "    res = self._recv_bytes()\n",
      "  File \"/Users/sabrina/opt/anaconda3/lib/python3.9/multiprocessing/connection.py\", line 221, in recv_bytes\n",
      "    buf = self._recv_bytes(maxlength)\n",
      "  File \"/Users/sabrina/opt/anaconda3/lib/python3.9/multiprocessing/connection.py\", line 419, in _recv_bytes\n",
      "    buf = self._recv(4)\n",
      "  File \"/Users/sabrina/opt/anaconda3/lib/python3.9/multiprocessing/connection.py\", line 384, in _recv\n",
      "    chunk = read(handle, remaining)\n",
      "KeyboardInterrupt\n",
      "Traceback (most recent call last):\n",
      "  File \"/Users/sabrina/opt/anaconda3/lib/python3.9/multiprocessing/process.py\", line 315, in _bootstrap\n",
      "    self.run()\n",
      "Traceback (most recent call last):\n",
      "Traceback (most recent call last):\n",
      "  File \"<string>\", line 1, in <module>\n",
      "  File \"/Users/sabrina/opt/anaconda3/lib/python3.9/multiprocessing/process.py\", line 315, in _bootstrap\n",
      "    self.run()\n",
      "  File \"/Users/sabrina/opt/anaconda3/lib/python3.9/multiprocessing/process.py\", line 108, in run\n",
      "    self._target(*self._args, **self._kwargs)\n",
      "  File \"/Users/sabrina/opt/anaconda3/lib/python3.9/multiprocessing/pool.py\", line 109, in worker\n",
      "    initializer(*initargs)\n",
      "  File \"/Users/sabrina/opt/anaconda3/lib/python3.9/site-packages/gensim/models/ldamulticore.py\", line 341, in worker_e_step\n",
      "    chunk_no, chunk, w_state = input_queue.get()\n",
      "  File \"/Users/sabrina/opt/anaconda3/lib/python3.9/multiprocessing/queues.py\", line 102, in get\n",
      "    with self._rlock:\n",
      "  File \"/Users/sabrina/opt/anaconda3/lib/python3.9/multiprocessing/synchronize.py\", line 95, in __enter__\n",
      "    return self._semlock.__enter__()\n",
      "  File \"/Users/sabrina/opt/anaconda3/lib/python3.9/multiprocessing/process.py\", line 108, in run\n",
      "    self._target(*self._args, **self._kwargs)\n",
      "  File \"/Users/sabrina/opt/anaconda3/lib/python3.9/multiprocessing/pool.py\", line 109, in worker\n",
      "    initializer(*initargs)\n",
      "  File \"/Users/sabrina/opt/anaconda3/lib/python3.9/site-packages/gensim/models/ldamulticore.py\", line 341, in worker_e_step\n",
      "    chunk_no, chunk, w_state = input_queue.get()\n",
      "  File \"/Users/sabrina/opt/anaconda3/lib/python3.9/multiprocessing/queues.py\", line 102, in get\n",
      "    with self._rlock:\n",
      "  File \"/Users/sabrina/opt/anaconda3/lib/python3.9/multiprocessing/synchronize.py\", line 95, in __enter__\n",
      "    return self._semlock.__enter__()\n",
      "KeyboardInterrupt\n",
      "KeyboardInterrupt\n",
      "  File \"/Users/sabrina/opt/anaconda3/lib/python3.9/multiprocessing/spawn.py\", line 116, in spawn_main\n",
      "    exitcode = _main(fd, parent_sentinel)\n",
      "  File \"/Users/sabrina/opt/anaconda3/lib/python3.9/multiprocessing/spawn.py\", line 126, in _main\n",
      "    self = reduction.pickle.load(from_parent)\n",
      "  File \"/Users/sabrina/opt/anaconda3/lib/python3.9/site-packages/gensim/__init__.py\", line 11, in <module>\n",
      "    from gensim import parsing, corpora, matutils, interfaces, models, similarities, utils  # noqa:F401\n",
      "  File \"/Users/sabrina/opt/anaconda3/lib/python3.9/site-packages/gensim/parsing/__init__.py\", line 4, in <module>\n",
      "    from .preprocessing import (  # noqa:F401\n",
      "  File \"/Users/sabrina/opt/anaconda3/lib/python3.9/site-packages/gensim/parsing/preprocessing.py\", line 26, in <module>\n",
      "    from gensim import utils\n",
      "  File \"/Users/sabrina/opt/anaconda3/lib/python3.9/site-packages/gensim/utils.py\", line 36, in <module>\n",
      "    from smart_open import open\n",
      "  File \"/Users/sabrina/opt/anaconda3/lib/python3.9/site-packages/smart_open/__init__.py\", line 34, in <module>\n",
      "    from .smart_open_lib import open, parse_uri, smart_open, register_compressor  # noqa: E402\n",
      "  File \"/Users/sabrina/opt/anaconda3/lib/python3.9/site-packages/smart_open/smart_open_lib.py\", line 35, in <module>\n",
      "    from smart_open import doctools\n",
      "  File \"/Users/sabrina/opt/anaconda3/lib/python3.9/site-packages/smart_open/doctools.py\", line 21, in <module>\n",
      "    from . import transport\n",
      "  File \"/Users/sabrina/opt/anaconda3/lib/python3.9/site-packages/smart_open/transport.py\", line 98, in <module>\n",
      "    register_transport('smart_open.gcs')\n",
      "  File \"/Users/sabrina/opt/anaconda3/lib/python3.9/site-packages/smart_open/transport.py\", line 49, in register_transport\n",
      "    submodule = importlib.import_module(submodule)\n",
      "  File \"/Users/sabrina/opt/anaconda3/lib/python3.9/importlib/__init__.py\", line 127, in import_module\n",
      "    return _bootstrap._gcd_import(name[level:], package, level)\n",
      "  File \"/Users/sabrina/opt/anaconda3/lib/python3.9/site-packages/smart_open/gcs.py\", line 15, in <module>\n",
      "    import google.cloud.exceptions\n",
      "  File \"/Users/sabrina/opt/anaconda3/lib/python3.9/site-packages/google/cloud/exceptions.py\", line 24, in <module>\n",
      "    from google.api_core import exceptions\n",
      "  File \"/Users/sabrina/opt/anaconda3/lib/python3.9/site-packages/google/api_core/exceptions.py\", line 28, in <module>\n",
      "    import grpc\n",
      "  File \"/Users/sabrina/opt/anaconda3/lib/python3.9/site-packages/grpc/__init__.py\", line 22, in <module>\n",
      "    from grpc import _compression\n",
      "  File \"/Users/sabrina/opt/anaconda3/lib/python3.9/site-packages/grpc/_compression.py\", line 15, in <module>\n",
      "    from grpc._cython import cygrpc\n",
      "  File \"<frozen importlib._bootstrap>\", line 398, in parent\n",
      "KeyboardInterrupt\n"
     ]
    },
    {
     "ename": "KeyboardInterrupt",
     "evalue": "",
     "output_type": "error",
     "traceback": [
      "\u001b[0;31m---------------------------------------------------------------------------\u001b[0m",
      "\u001b[0;31mKeyboardInterrupt\u001b[0m                         Traceback (most recent call last)",
      "\u001b[1;32m/Users/sabrina/Desktop/BZA/Y4S2/BT4221/bt4221/topic_modelling.ipynb Cell 23\u001b[0m in \u001b[0;36m<cell line: 4>\u001b[0;34m()\u001b[0m\n\u001b[1;32m      <a href='vscode-notebook-cell:/Users/sabrina/Desktop/BZA/Y4S2/BT4221/bt4221/topic_modelling.ipynb#Y154sZmlsZQ%3D%3D?line=2'>3</a>\u001b[0m topics_range \u001b[39m=\u001b[39m \u001b[39mrange\u001b[39m(\u001b[39m2\u001b[39m,\u001b[39m11\u001b[39m,\u001b[39m1\u001b[39m)\n\u001b[1;32m      <a href='vscode-notebook-cell:/Users/sabrina/Desktop/BZA/Y4S2/BT4221/bt4221/topic_modelling.ipynb#Y154sZmlsZQ%3D%3D?line=3'>4</a>\u001b[0m \u001b[39mfor\u001b[39;00m k \u001b[39min\u001b[39;00m topics_range:\n\u001b[0;32m----> <a href='vscode-notebook-cell:/Users/sabrina/Desktop/BZA/Y4S2/BT4221/bt4221/topic_modelling.ipynb#Y154sZmlsZQ%3D%3D?line=4'>5</a>\u001b[0m     value \u001b[39m=\u001b[39m compute_coherence_values(k)\n\u001b[1;32m      <a href='vscode-notebook-cell:/Users/sabrina/Desktop/BZA/Y4S2/BT4221/bt4221/topic_modelling.ipynb#Y154sZmlsZQ%3D%3D?line=5'>6</a>\u001b[0m     \u001b[39mprint\u001b[39m(k)\n\u001b[1;32m      <a href='vscode-notebook-cell:/Users/sabrina/Desktop/BZA/Y4S2/BT4221/bt4221/topic_modelling.ipynb#Y154sZmlsZQ%3D%3D?line=6'>7</a>\u001b[0m     \u001b[39mprint\u001b[39m(value)\n",
      "\u001b[1;32m/Users/sabrina/Desktop/BZA/Y4S2/BT4221/bt4221/topic_modelling.ipynb Cell 23\u001b[0m in \u001b[0;36mcompute_coherence_values\u001b[0;34m(k)\u001b[0m\n\u001b[1;32m      <a href='vscode-notebook-cell:/Users/sabrina/Desktop/BZA/Y4S2/BT4221/bt4221/topic_modelling.ipynb#Y154sZmlsZQ%3D%3D?line=0'>1</a>\u001b[0m \u001b[39mdef\u001b[39;00m \u001b[39mcompute_coherence_values\u001b[39m(k):\n\u001b[0;32m----> <a href='vscode-notebook-cell:/Users/sabrina/Desktop/BZA/Y4S2/BT4221/bt4221/topic_modelling.ipynb#Y154sZmlsZQ%3D%3D?line=2'>3</a>\u001b[0m     lda_model \u001b[39m=\u001b[39m gensim\u001b[39m.\u001b[39;49mmodels\u001b[39m.\u001b[39;49mLdaMulticore(corpus\u001b[39m=\u001b[39;49mbow_corpus,\n\u001b[1;32m      <a href='vscode-notebook-cell:/Users/sabrina/Desktop/BZA/Y4S2/BT4221/bt4221/topic_modelling.ipynb#Y154sZmlsZQ%3D%3D?line=3'>4</a>\u001b[0m                                            id2word\u001b[39m=\u001b[39;49mdictionary,\n\u001b[1;32m      <a href='vscode-notebook-cell:/Users/sabrina/Desktop/BZA/Y4S2/BT4221/bt4221/topic_modelling.ipynb#Y154sZmlsZQ%3D%3D?line=4'>5</a>\u001b[0m                                            num_topics\u001b[39m=\u001b[39;49mk,\n\u001b[1;32m      <a href='vscode-notebook-cell:/Users/sabrina/Desktop/BZA/Y4S2/BT4221/bt4221/topic_modelling.ipynb#Y154sZmlsZQ%3D%3D?line=5'>6</a>\u001b[0m                                            random_state \u001b[39m=\u001b[39;49m\u001b[39m100\u001b[39;49m)\n\u001b[1;32m      <a href='vscode-notebook-cell:/Users/sabrina/Desktop/BZA/Y4S2/BT4221/bt4221/topic_modelling.ipynb#Y154sZmlsZQ%3D%3D?line=7'>8</a>\u001b[0m     coherence_model_lda \u001b[39m=\u001b[39m CoherenceModel(model\u001b[39m=\u001b[39mlda_model, texts\u001b[39m=\u001b[39mprocessed_docs, dictionary\u001b[39m=\u001b[39mdictionary, coherence\u001b[39m=\u001b[39m\u001b[39m'\u001b[39m\u001b[39mc_v\u001b[39m\u001b[39m'\u001b[39m)\n\u001b[1;32m     <a href='vscode-notebook-cell:/Users/sabrina/Desktop/BZA/Y4S2/BT4221/bt4221/topic_modelling.ipynb#Y154sZmlsZQ%3D%3D?line=9'>10</a>\u001b[0m     \u001b[39mreturn\u001b[39;00m coherence_model_lda\u001b[39m.\u001b[39mget_coherence()\n",
      "File \u001b[0;32m~/opt/anaconda3/lib/python3.9/site-packages/gensim/models/ldamulticore.py:186\u001b[0m, in \u001b[0;36mLdaMulticore.__init__\u001b[0;34m(self, corpus, num_topics, id2word, workers, chunksize, passes, batch, alpha, eta, decay, offset, eval_every, iterations, gamma_threshold, random_state, minimum_probability, minimum_phi_value, per_word_topics, dtype)\u001b[0m\n\u001b[1;32m    183\u001b[0m \u001b[39mif\u001b[39;00m \u001b[39misinstance\u001b[39m(alpha, \u001b[39mstr\u001b[39m) \u001b[39mand\u001b[39;00m alpha \u001b[39m==\u001b[39m \u001b[39m'\u001b[39m\u001b[39mauto\u001b[39m\u001b[39m'\u001b[39m:\n\u001b[1;32m    184\u001b[0m     \u001b[39mraise\u001b[39;00m \u001b[39mNotImplementedError\u001b[39;00m(\u001b[39m\"\u001b[39m\u001b[39mauto-tuning alpha not implemented in LdaMulticore; use plain LdaModel.\u001b[39m\u001b[39m\"\u001b[39m)\n\u001b[0;32m--> 186\u001b[0m \u001b[39msuper\u001b[39;49m(LdaMulticore, \u001b[39mself\u001b[39;49m)\u001b[39m.\u001b[39;49m\u001b[39m__init__\u001b[39;49m(\n\u001b[1;32m    187\u001b[0m     corpus\u001b[39m=\u001b[39;49mcorpus, num_topics\u001b[39m=\u001b[39;49mnum_topics,\n\u001b[1;32m    188\u001b[0m     id2word\u001b[39m=\u001b[39;49mid2word, chunksize\u001b[39m=\u001b[39;49mchunksize, passes\u001b[39m=\u001b[39;49mpasses, alpha\u001b[39m=\u001b[39;49malpha, eta\u001b[39m=\u001b[39;49meta,\n\u001b[1;32m    189\u001b[0m     decay\u001b[39m=\u001b[39;49mdecay, offset\u001b[39m=\u001b[39;49moffset, eval_every\u001b[39m=\u001b[39;49meval_every, iterations\u001b[39m=\u001b[39;49miterations,\n\u001b[1;32m    190\u001b[0m     gamma_threshold\u001b[39m=\u001b[39;49mgamma_threshold, random_state\u001b[39m=\u001b[39;49mrandom_state, minimum_probability\u001b[39m=\u001b[39;49mminimum_probability,\n\u001b[1;32m    191\u001b[0m     minimum_phi_value\u001b[39m=\u001b[39;49mminimum_phi_value, per_word_topics\u001b[39m=\u001b[39;49mper_word_topics, dtype\u001b[39m=\u001b[39;49mdtype,\n\u001b[1;32m    192\u001b[0m )\n",
      "File \u001b[0;32m~/opt/anaconda3/lib/python3.9/site-packages/gensim/models/ldamodel.py:520\u001b[0m, in \u001b[0;36mLdaModel.__init__\u001b[0;34m(self, corpus, num_topics, id2word, distributed, chunksize, passes, update_every, alpha, eta, decay, offset, eval_every, iterations, gamma_threshold, minimum_probability, random_state, ns_conf, minimum_phi_value, per_word_topics, callbacks, dtype)\u001b[0m\n\u001b[1;32m    518\u001b[0m use_numpy \u001b[39m=\u001b[39m \u001b[39mself\u001b[39m\u001b[39m.\u001b[39mdispatcher \u001b[39mis\u001b[39;00m \u001b[39mnot\u001b[39;00m \u001b[39mNone\u001b[39;00m\n\u001b[1;32m    519\u001b[0m start \u001b[39m=\u001b[39m time\u001b[39m.\u001b[39mtime()\n\u001b[0;32m--> 520\u001b[0m \u001b[39mself\u001b[39;49m\u001b[39m.\u001b[39;49mupdate(corpus, chunks_as_numpy\u001b[39m=\u001b[39;49muse_numpy)\n\u001b[1;32m    521\u001b[0m \u001b[39mself\u001b[39m\u001b[39m.\u001b[39madd_lifecycle_event(\n\u001b[1;32m    522\u001b[0m     \u001b[39m\"\u001b[39m\u001b[39mcreated\u001b[39m\u001b[39m\"\u001b[39m,\n\u001b[1;32m    523\u001b[0m     msg\u001b[39m=\u001b[39m\u001b[39mf\u001b[39m\u001b[39m\"\u001b[39m\u001b[39mtrained \u001b[39m\u001b[39m{\u001b[39;00m\u001b[39mself\u001b[39m\u001b[39m}\u001b[39;00m\u001b[39m in \u001b[39m\u001b[39m{\u001b[39;00mtime\u001b[39m.\u001b[39mtime() \u001b[39m-\u001b[39m start\u001b[39m:\u001b[39;00m\u001b[39m.2f\u001b[39m\u001b[39m}\u001b[39;00m\u001b[39ms\u001b[39m\u001b[39m\"\u001b[39m,\n\u001b[1;32m    524\u001b[0m )\n",
      "File \u001b[0;32m~/opt/anaconda3/lib/python3.9/site-packages/gensim/models/ldamulticore.py:286\u001b[0m, in \u001b[0;36mLdaMulticore.update\u001b[0;34m(self, corpus, chunks_as_numpy)\u001b[0m\n\u001b[1;32m    283\u001b[0m             \u001b[39mself\u001b[39m\u001b[39m.\u001b[39mlog_perplexity(chunk, total_docs\u001b[39m=\u001b[39mlencorpus)\n\u001b[1;32m    285\u001b[0m logger\u001b[39m.\u001b[39minfo(\u001b[39m\"\u001b[39m\u001b[39mtraining LDA model using \u001b[39m\u001b[39m%i\u001b[39;00m\u001b[39m processes\u001b[39m\u001b[39m\"\u001b[39m, \u001b[39mself\u001b[39m\u001b[39m.\u001b[39mworkers)\n\u001b[0;32m--> 286\u001b[0m pool \u001b[39m=\u001b[39m Pool(\u001b[39mself\u001b[39;49m\u001b[39m.\u001b[39;49mworkers, worker_e_step, (job_queue, result_queue, \u001b[39mself\u001b[39;49m))\n\u001b[1;32m    287\u001b[0m \u001b[39mfor\u001b[39;00m pass_ \u001b[39min\u001b[39;00m \u001b[39mrange\u001b[39m(\u001b[39mself\u001b[39m\u001b[39m.\u001b[39mpasses):\n\u001b[1;32m    288\u001b[0m     queue_size, reallen \u001b[39m=\u001b[39m [\u001b[39m0\u001b[39m], \u001b[39m0\u001b[39m\n",
      "File \u001b[0;32m~/opt/anaconda3/lib/python3.9/multiprocessing/context.py:119\u001b[0m, in \u001b[0;36mBaseContext.Pool\u001b[0;34m(self, processes, initializer, initargs, maxtasksperchild)\u001b[0m\n\u001b[1;32m    117\u001b[0m \u001b[39m'''Returns a process pool object'''\u001b[39;00m\n\u001b[1;32m    118\u001b[0m \u001b[39mfrom\u001b[39;00m \u001b[39m.\u001b[39;00m\u001b[39mpool\u001b[39;00m \u001b[39mimport\u001b[39;00m Pool\n\u001b[0;32m--> 119\u001b[0m \u001b[39mreturn\u001b[39;00m Pool(processes, initializer, initargs, maxtasksperchild,\n\u001b[1;32m    120\u001b[0m             context\u001b[39m=\u001b[39;49m\u001b[39mself\u001b[39;49m\u001b[39m.\u001b[39;49mget_context())\n",
      "File \u001b[0;32m~/opt/anaconda3/lib/python3.9/multiprocessing/pool.py:212\u001b[0m, in \u001b[0;36mPool.__init__\u001b[0;34m(self, processes, initializer, initargs, maxtasksperchild, context)\u001b[0m\n\u001b[1;32m    210\u001b[0m \u001b[39mself\u001b[39m\u001b[39m.\u001b[39m_processes \u001b[39m=\u001b[39m processes\n\u001b[1;32m    211\u001b[0m \u001b[39mtry\u001b[39;00m:\n\u001b[0;32m--> 212\u001b[0m     \u001b[39mself\u001b[39;49m\u001b[39m.\u001b[39;49m_repopulate_pool()\n\u001b[1;32m    213\u001b[0m \u001b[39mexcept\u001b[39;00m \u001b[39mException\u001b[39;00m:\n\u001b[1;32m    214\u001b[0m     \u001b[39mfor\u001b[39;00m p \u001b[39min\u001b[39;00m \u001b[39mself\u001b[39m\u001b[39m.\u001b[39m_pool:\n",
      "File \u001b[0;32m~/opt/anaconda3/lib/python3.9/multiprocessing/pool.py:303\u001b[0m, in \u001b[0;36mPool._repopulate_pool\u001b[0;34m(self)\u001b[0m\n\u001b[1;32m    302\u001b[0m \u001b[39mdef\u001b[39;00m \u001b[39m_repopulate_pool\u001b[39m(\u001b[39mself\u001b[39m):\n\u001b[0;32m--> 303\u001b[0m     \u001b[39mreturn\u001b[39;00m \u001b[39mself\u001b[39;49m\u001b[39m.\u001b[39;49m_repopulate_pool_static(\u001b[39mself\u001b[39;49m\u001b[39m.\u001b[39;49m_ctx, \u001b[39mself\u001b[39;49m\u001b[39m.\u001b[39;49mProcess,\n\u001b[1;32m    304\u001b[0m                                         \u001b[39mself\u001b[39;49m\u001b[39m.\u001b[39;49m_processes,\n\u001b[1;32m    305\u001b[0m                                         \u001b[39mself\u001b[39;49m\u001b[39m.\u001b[39;49m_pool, \u001b[39mself\u001b[39;49m\u001b[39m.\u001b[39;49m_inqueue,\n\u001b[1;32m    306\u001b[0m                                         \u001b[39mself\u001b[39;49m\u001b[39m.\u001b[39;49m_outqueue, \u001b[39mself\u001b[39;49m\u001b[39m.\u001b[39;49m_initializer,\n\u001b[1;32m    307\u001b[0m                                         \u001b[39mself\u001b[39;49m\u001b[39m.\u001b[39;49m_initargs,\n\u001b[1;32m    308\u001b[0m                                         \u001b[39mself\u001b[39;49m\u001b[39m.\u001b[39;49m_maxtasksperchild,\n\u001b[1;32m    309\u001b[0m                                         \u001b[39mself\u001b[39;49m\u001b[39m.\u001b[39;49m_wrap_exception)\n",
      "File \u001b[0;32m~/opt/anaconda3/lib/python3.9/multiprocessing/pool.py:326\u001b[0m, in \u001b[0;36mPool._repopulate_pool_static\u001b[0;34m(ctx, Process, processes, pool, inqueue, outqueue, initializer, initargs, maxtasksperchild, wrap_exception)\u001b[0m\n\u001b[1;32m    324\u001b[0m w\u001b[39m.\u001b[39mname \u001b[39m=\u001b[39m w\u001b[39m.\u001b[39mname\u001b[39m.\u001b[39mreplace(\u001b[39m'\u001b[39m\u001b[39mProcess\u001b[39m\u001b[39m'\u001b[39m, \u001b[39m'\u001b[39m\u001b[39mPoolWorker\u001b[39m\u001b[39m'\u001b[39m)\n\u001b[1;32m    325\u001b[0m w\u001b[39m.\u001b[39mdaemon \u001b[39m=\u001b[39m \u001b[39mTrue\u001b[39;00m\n\u001b[0;32m--> 326\u001b[0m w\u001b[39m.\u001b[39;49mstart()\n\u001b[1;32m    327\u001b[0m pool\u001b[39m.\u001b[39mappend(w)\n\u001b[1;32m    328\u001b[0m util\u001b[39m.\u001b[39mdebug(\u001b[39m'\u001b[39m\u001b[39madded worker\u001b[39m\u001b[39m'\u001b[39m)\n",
      "File \u001b[0;32m~/opt/anaconda3/lib/python3.9/multiprocessing/process.py:121\u001b[0m, in \u001b[0;36mBaseProcess.start\u001b[0;34m(self)\u001b[0m\n\u001b[1;32m    118\u001b[0m \u001b[39massert\u001b[39;00m \u001b[39mnot\u001b[39;00m _current_process\u001b[39m.\u001b[39m_config\u001b[39m.\u001b[39mget(\u001b[39m'\u001b[39m\u001b[39mdaemon\u001b[39m\u001b[39m'\u001b[39m), \\\n\u001b[1;32m    119\u001b[0m        \u001b[39m'\u001b[39m\u001b[39mdaemonic processes are not allowed to have children\u001b[39m\u001b[39m'\u001b[39m\n\u001b[1;32m    120\u001b[0m _cleanup()\n\u001b[0;32m--> 121\u001b[0m \u001b[39mself\u001b[39m\u001b[39m.\u001b[39m_popen \u001b[39m=\u001b[39m \u001b[39mself\u001b[39;49m\u001b[39m.\u001b[39;49m_Popen(\u001b[39mself\u001b[39;49m)\n\u001b[1;32m    122\u001b[0m \u001b[39mself\u001b[39m\u001b[39m.\u001b[39m_sentinel \u001b[39m=\u001b[39m \u001b[39mself\u001b[39m\u001b[39m.\u001b[39m_popen\u001b[39m.\u001b[39msentinel\n\u001b[1;32m    123\u001b[0m \u001b[39m# Avoid a refcycle if the target function holds an indirect\u001b[39;00m\n\u001b[1;32m    124\u001b[0m \u001b[39m# reference to the process object (see bpo-30775)\u001b[39;00m\n",
      "File \u001b[0;32m~/opt/anaconda3/lib/python3.9/multiprocessing/context.py:284\u001b[0m, in \u001b[0;36mSpawnProcess._Popen\u001b[0;34m(process_obj)\u001b[0m\n\u001b[1;32m    281\u001b[0m \u001b[39m@staticmethod\u001b[39m\n\u001b[1;32m    282\u001b[0m \u001b[39mdef\u001b[39;00m \u001b[39m_Popen\u001b[39m(process_obj):\n\u001b[1;32m    283\u001b[0m     \u001b[39mfrom\u001b[39;00m \u001b[39m.\u001b[39;00m\u001b[39mpopen_spawn_posix\u001b[39;00m \u001b[39mimport\u001b[39;00m Popen\n\u001b[0;32m--> 284\u001b[0m     \u001b[39mreturn\u001b[39;00m Popen(process_obj)\n",
      "File \u001b[0;32m~/opt/anaconda3/lib/python3.9/multiprocessing/popen_spawn_posix.py:32\u001b[0m, in \u001b[0;36mPopen.__init__\u001b[0;34m(self, process_obj)\u001b[0m\n\u001b[1;32m     30\u001b[0m \u001b[39mdef\u001b[39;00m \u001b[39m__init__\u001b[39m(\u001b[39mself\u001b[39m, process_obj):\n\u001b[1;32m     31\u001b[0m     \u001b[39mself\u001b[39m\u001b[39m.\u001b[39m_fds \u001b[39m=\u001b[39m []\n\u001b[0;32m---> 32\u001b[0m     \u001b[39msuper\u001b[39;49m()\u001b[39m.\u001b[39;49m\u001b[39m__init__\u001b[39;49m(process_obj)\n",
      "File \u001b[0;32m~/opt/anaconda3/lib/python3.9/multiprocessing/popen_fork.py:19\u001b[0m, in \u001b[0;36mPopen.__init__\u001b[0;34m(self, process_obj)\u001b[0m\n\u001b[1;32m     17\u001b[0m \u001b[39mself\u001b[39m\u001b[39m.\u001b[39mreturncode \u001b[39m=\u001b[39m \u001b[39mNone\u001b[39;00m\n\u001b[1;32m     18\u001b[0m \u001b[39mself\u001b[39m\u001b[39m.\u001b[39mfinalizer \u001b[39m=\u001b[39m \u001b[39mNone\u001b[39;00m\n\u001b[0;32m---> 19\u001b[0m \u001b[39mself\u001b[39;49m\u001b[39m.\u001b[39;49m_launch(process_obj)\n",
      "File \u001b[0;32m~/opt/anaconda3/lib/python3.9/multiprocessing/popen_spawn_posix.py:62\u001b[0m, in \u001b[0;36mPopen._launch\u001b[0;34m(self, process_obj)\u001b[0m\n\u001b[1;32m     60\u001b[0m     \u001b[39mself\u001b[39m\u001b[39m.\u001b[39msentinel \u001b[39m=\u001b[39m parent_r\n\u001b[1;32m     61\u001b[0m     \u001b[39mwith\u001b[39;00m \u001b[39mopen\u001b[39m(parent_w, \u001b[39m'\u001b[39m\u001b[39mwb\u001b[39m\u001b[39m'\u001b[39m, closefd\u001b[39m=\u001b[39m\u001b[39mFalse\u001b[39;00m) \u001b[39mas\u001b[39;00m f:\n\u001b[0;32m---> 62\u001b[0m         f\u001b[39m.\u001b[39;49mwrite(fp\u001b[39m.\u001b[39;49mgetbuffer())\n\u001b[1;32m     63\u001b[0m \u001b[39mfinally\u001b[39;00m:\n\u001b[1;32m     64\u001b[0m     fds_to_close \u001b[39m=\u001b[39m []\n",
      "\u001b[0;31mKeyboardInterrupt\u001b[0m: "
     ]
    }
   ],
   "source": [
    "# iterate through number of topics\n",
    "coherence_values = []\n",
    "topics_range = range(2,11,1)\n",
    "for k in topics_range:\n",
    "    value = compute_coherence_values(k)\n",
    "    print(k)\n",
    "    print(value)\n",
    "    coherence_values.append(value)"
   ]
  },
  {
   "cell_type": "code",
   "execution_count": null,
   "metadata": {},
   "outputs": [
    {
     "data": {
      "image/png": "[encoded data removed]",
      "text/plain": [
       "<Figure size 432x288 with 1 Axes>"
      ]
     },
     "metadata": {
      "needs_background": "light"
     },
     "output_type": "display_data"
    }
   ],
   "source": [
    "import matplotlib.pyplot as plt\n",
    "\n",
    "# Show graph\n",
    "plt.plot(topics_range, coherence_values)\n",
    "plt.xlabel(\"Num Topics\")\n",
    "plt.ylabel(\"Coherence score\")\n",
    "plt.legend((\"coherence_values\"), loc='best')\n",
    "plt.show()"
   ]
  },
  {
   "cell_type": "code",
   "execution_count": null,
   "metadata": {},
   "outputs": [
    {
     "name": "stdout",
     "output_type": "stream",
     "text": [
      "[(0,\n",
      "  '0.008*\"dish\" + 0.007*\"good\" + 0.006*\"like\" + 0.006*\"taste\" + 0.006*\"cream\" '\n",
      "  '+ 0.005*\"sweet\" + 0.005*\"food\" + 0.005*\"flavour\" + 0.004*\"pork\" + '\n",
      "  '0.004*\"sauce\"'),\n",
      " (1,\n",
      "  '0.007*\"taste\" + 0.006*\"good\" + 0.006*\"like\" + 0.006*\"flavour\" + 0.005*\"fry\" '\n",
      "  '+ 0.005*\"food\" + 0.005*\"cheese\" + 0.005*\"sweet\" + 0.004*\"chicken\" + '\n",
      "  '0.004*\"serve\"'),\n",
      " (2,\n",
      "  '0.008*\"good\" + 0.007*\"sauce\" + 0.006*\"flavour\" + 0.006*\"taste\" + '\n",
      "  '0.006*\"pork\" + 0.006*\"rice\" + 0.005*\"try\" + 0.005*\"chicken\" + 0.005*\"sweet\" '\n",
      "  '+ 0.005*\"like\"')]\n"
     ]
    }
   ],
   "source": [
    "from pprint import pprint\n",
    "# number of topics\n",
    "num_topics = 3\n",
    "# Build LDA model\n",
    "lda_model = gensim.models.LdaMulticore(corpus=bow_corpus,\n",
    "                                       id2word=dictionary,\n",
    "                                       num_topics=num_topics,\n",
    "                                       random_state = 100)\n",
    "# Print the Keyword in the 3 topics\n",
    "pprint(lda_model.print_topics())\n",
    "doc_lda = lda_model[bow_corpus]"
   ]
  },
  {
   "cell_type": "code",
   "execution_count": null,
   "metadata": {},
   "outputs": [],
   "source": [
    "import pyLDAvis.gensim\n",
    "import pickle \n",
    "import pyLDAvis\n",
    "import os"
   ]
  },
  {
   "cell_type": "code",
   "execution_count": null,
   "metadata": {},
   "outputs": [
    {
     "name": "stderr",
     "output_type": "stream",
     "text": [
      "/Users/sabrina/opt/anaconda3/lib/python3.9/site-packages/pyLDAvis/_prepare.py:228: FutureWarning: In a future version of pandas all arguments of DataFrame.drop except for the argument 'labels' will be keyword-only.\n",
      "  default_term_info  = pd.DataFrame({'saliency': saliency, 'Term': vocab, \\\n",
      "/Users/sabrina/opt/anaconda3/lib/python3.9/site-packages/past/builtins/misc.py:45: DeprecationWarning: the imp module is deprecated in favour of importlib; see the module's documentation for alternative uses\n",
      "  from imp import reload\n",
      "/Users/sabrina/opt/anaconda3/lib/python3.9/site-packages/past/builtins/misc.py:45: DeprecationWarning: the imp module is deprecated in favour of importlib; see the module's documentation for alternative uses\n",
      "  from imp import reload\n",
      "/Users/sabrina/opt/anaconda3/lib/python3.9/site-packages/past/builtins/misc.py:45: DeprecationWarning: the imp module is deprecated in favour of importlib; see the module's documentation for alternative uses\n",
      "  from imp import reload\n",
      "/Users/sabrina/opt/anaconda3/lib/python3.9/site-packages/past/builtins/misc.py:45: DeprecationWarning: the imp module is deprecated in favour of importlib; see the module's documentation for alternative uses\n",
      "  from imp import reload\n",
      "/Users/sabrina/opt/anaconda3/lib/python3.9/site-packages/past/builtins/misc.py:45: DeprecationWarning: the imp module is deprecated in favour of importlib; see the module's documentation for alternative uses\n",
      "  from imp import reload\n",
      "/Users/sabrina/opt/anaconda3/lib/python3.9/site-packages/past/builtins/misc.py:45: DeprecationWarning: the imp module is deprecated in favour of importlib; see the module's documentation for alternative uses\n",
      "  from imp import reload\n",
      "/Users/sabrina/opt/anaconda3/lib/python3.9/site-packages/past/builtins/misc.py:45: DeprecationWarning: the imp module is deprecated in favour of importlib; see the module's documentation for alternative uses\n",
      "  from imp import reload\n",
      "/Users/sabrina/opt/anaconda3/lib/python3.9/site-packages/past/builtins/misc.py:45: DeprecationWarning: the imp module is deprecated in favour of importlib; see the module's documentation for alternative uses\n",
      "  from imp import reload\n",
      "/Users/sabrina/opt/anaconda3/lib/python3.9/site-packages/joblib/backports.py:36: DeprecationWarning: distutils Version classes are deprecated. Use packaging.version instead.\n",
      "  if LooseVersion(np.__version__) < '1.13':\n",
      "/Users/sabrina/opt/anaconda3/lib/python3.9/site-packages/joblib/backports.py:36: DeprecationWarning: distutils Version classes are deprecated. Use packaging.version instead.\n",
      "  if LooseVersion(np.__version__) < '1.13':\n",
      "/Users/sabrina/opt/anaconda3/lib/python3.9/site-packages/joblib/backports.py:36: DeprecationWarning: distutils Version classes are deprecated. Use packaging.version instead.\n",
      "  if LooseVersion(np.__version__) < '1.13':\n",
      "/Users/sabrina/opt/anaconda3/lib/python3.9/site-packages/joblib/backports.py:36: DeprecationWarning: distutils Version classes are deprecated. Use packaging.version instead.\n",
      "  if LooseVersion(np.__version__) < '1.13':\n",
      "/Users/sabrina/opt/anaconda3/lib/python3.9/site-packages/setuptools/_distutils/version.py:351: DeprecationWarning: distutils Version classes are deprecated. Use packaging.version instead.\n",
      "  other = LooseVersion(other)\n",
      "/Users/sabrina/opt/anaconda3/lib/python3.9/site-packages/joblib/backports.py:36: DeprecationWarning: distutils Version classes are deprecated. Use packaging.version instead.\n",
      "  if LooseVersion(np.__version__) < '1.13':\n",
      "/Users/sabrina/opt/anaconda3/lib/python3.9/site-packages/setuptools/_distutils/version.py:351: DeprecationWarning: distutils Version classes are deprecated. Use packaging.version instead.\n",
      "  other = LooseVersion(other)\n",
      "/Users/sabrina/opt/anaconda3/lib/python3.9/site-packages/joblib/backports.py:36: DeprecationWarning: distutils Version classes are deprecated. Use packaging.version instead.\n",
      "  if LooseVersion(np.__version__) < '1.13':\n",
      "/Users/sabrina/opt/anaconda3/lib/python3.9/site-packages/joblib/backports.py:36: DeprecationWarning: distutils Version classes are deprecated. Use packaging.version instead.\n",
      "  if LooseVersion(np.__version__) < '1.13':\n",
      "/Users/sabrina/opt/anaconda3/lib/python3.9/site-packages/setuptools/_distutils/version.py:351: DeprecationWarning: distutils Version classes are deprecated. Use packaging.version instead.\n",
      "  other = LooseVersion(other)\n",
      "/Users/sabrina/opt/anaconda3/lib/python3.9/site-packages/setuptools/_distutils/version.py:351: DeprecationWarning: distutils Version classes are deprecated. Use packaging.version instead.\n",
      "  other = LooseVersion(other)\n",
      "/Users/sabrina/opt/anaconda3/lib/python3.9/site-packages/setuptools/_distutils/version.py:351: DeprecationWarning: distutils Version classes are deprecated. Use packaging.version instead.\n",
      "  other = LooseVersion(other)\n",
      "/Users/sabrina/opt/anaconda3/lib/python3.9/site-packages/setuptools/_distutils/version.py:351: DeprecationWarning: distutils Version classes are deprecated. Use packaging.version instead.\n",
      "  other = LooseVersion(other)\n",
      "/Users/sabrina/opt/anaconda3/lib/python3.9/site-packages/setuptools/_distutils/version.py:351: DeprecationWarning: distutils Version classes are deprecated. Use packaging.version instead.\n",
      "  other = LooseVersion(other)\n",
      "/Users/sabrina/opt/anaconda3/lib/python3.9/site-packages/joblib/backports.py:36: DeprecationWarning: distutils Version classes are deprecated. Use packaging.version instead.\n",
      "  if LooseVersion(np.__version__) < '1.13':\n",
      "/Users/sabrina/opt/anaconda3/lib/python3.9/site-packages/setuptools/_distutils/version.py:351: DeprecationWarning: distutils Version classes are deprecated. Use packaging.version instead.\n",
      "  other = LooseVersion(other)\n",
      "/Users/sabrina/opt/anaconda3/lib/python3.9/site-packages/joblib/backports.py:36: DeprecationWarning: distutils Version classes are deprecated. Use packaging.version instead.\n",
      "  if LooseVersion(np.__version__) < '1.13':\n",
      "/Users/sabrina/opt/anaconda3/lib/python3.9/site-packages/setuptools/_distutils/version.py:351: DeprecationWarning: distutils Version classes are deprecated. Use packaging.version instead.\n",
      "  other = LooseVersion(other)\n",
      "/Users/sabrina/opt/anaconda3/lib/python3.9/site-packages/joblib/backports.py:36: DeprecationWarning: distutils Version classes are deprecated. Use packaging.version instead.\n",
      "  if LooseVersion(np.__version__) < '1.13':\n",
      "/Users/sabrina/opt/anaconda3/lib/python3.9/site-packages/setuptools/_distutils/version.py:351: DeprecationWarning: distutils Version classes are deprecated. Use packaging.version instead.\n",
      "  other = LooseVersion(other)\n",
      "/Users/sabrina/opt/anaconda3/lib/python3.9/site-packages/joblib/backports.py:36: DeprecationWarning: distutils Version classes are deprecated. Use packaging.version instead.\n",
      "  if LooseVersion(np.__version__) < '1.13':\n",
      "/Users/sabrina/opt/anaconda3/lib/python3.9/site-packages/setuptools/_distutils/version.py:351: DeprecationWarning: distutils Version classes are deprecated. Use packaging.version instead.\n",
      "  other = LooseVersion(other)\n"
     ]
    },
    {
     "data": {
      "text/html": [
       "\n",
       "<link rel=\"stylesheet\" type=\"text/css\" href=\"https://cdn.rawgit.com/bmabey/pyLDAvis/files/ldavis.v1.0.0.css\">\n",
       "\n",
       "\n",
       "<div id=\"ldavis_el547271401551804352649551237440\"></div>\n",
       "<script type=\"text/javascript\">\n",
       "\n",
       "var ldavis_el547271401551804352649551237440_data = {\"mdsDat\": {\"x\": [-0.005221320473353106, -0.006620144291617987, 0.011841464764971095], \"y\": [0.010054383582931363, -0.00929256963753443, -0.0007618139453969298], \"topics\": [1, 2, 3], \"cluster\": [1, 1, 1], \"Freq\": [38.7992640149872, 35.38316527651486, 25.817570708497943]}, \"tinfo\": {\"Term\": [\"dish\", \"cheese\", \"cream\", \"set\", \"food\", \"main\", \"drink\", \"fry\", \"chicken\", \"serve\", \"item\", \"tender\", \"steak\", \"potato\", \"truffle\", \"meat\", \"udon\", \"bread\", \"taste\", \"grill\", \"burger\", \"tasty\", \"tempura\", \"matcha\", \"look\", \"flavour\", \"black\", \"sourdough\", \"like\", \"give\", \"croffin\", \"1smiling_face_with_halo\", \"mazemen\", \"eryngii\", \"activate\", \"aoli\", \"ceremonial\", \"croffins\", \"misc\", \"latt\\u00e9\", \"coffeeonenorth\", \"indistinguishable\", \"thoughearthy\", \"sashimilike\", \"whiteish\", \"conradsingapore\", \"donburionenorth\", \"gamtae\", \"sunagimo\", \"bran\", \"omote\", \"suppli\", \"jajjang\", \"cfc\", \"26nett\", \"kitkats\", \"5ea\", \"typhoon\", \"ohmaigoodness\", \"1340\", \"lair\", \"awadh\", \"jang\", \"pil\", \"soyyuja\", \"dory\", \"kakurega\", \"tender\", \"matcha\", \"thumbs_upthumbs_upthumbs_up\", \"fish\", \"rice\", \"biryani\", \"skewer\", \"sauce\", \"crispy\", \"carrot\", \"wine\", \"nasi\", \"rich\", \"curry\", \"w\", \"quite\", \"succulent\", \"prawn\", \"chicken\", \"savoury\", \"good\", \"skin\", \"sour\", \"steak\", \"pork\", \"delicious\", \"try\", \"lobster\", \"flavour\", \"pair\", \"fry\", \"beef\", \"fill\", \"soup\", \"egg\", \"sweet\", \"spicy\", \"noodle\", \"tea\", \"taste\", \"bread\", \"great\", \"like\", \"serve\", \"time\", \"make\", \"come\", \"love\", \"dish\", \"pretty\", \"food\", \"cream\", \"brutwurst\", \"teateapot\", \"yogurtheart_hands_light_skin_toneheart_hands_light_skin_toneheart_hands_light_skin_tone\", \"jjm\", \"shackmeistertrade_mark\", \"kabura\", \"sid\", \"heroine\", \"frap\", \"nestum\", \"nakgi\", \"donkisparkles\", \"multifruit\", \"sparklesdon\", \"mosquito\", \"tiramiso\", \"kirin\", \"lua\", \"burpple1for1\", \"banboo\", \"pancakecafe_belleville\", \"piring\", \"tenshinhan\", \"boomerangable\", \"coconutsoft_ice_cream\", \"binner\", \"b\\u00fan\", \"s43\", \"christian\", \"itomonogatari\", \"honeydew\", \"pa\\u0302te\", \"watermelon\", \"mango\", \"risotto\", \"cream\", \"dish\", \"acai\", \"coconut\", \"bcm\", \"swensens\", \"chendol\", \"puff\", \"sugar\", \"croissant\", \"pancake\", \"yotea\", \"fresh\", \"salmon\", \"take\", \"ice\", \"every\", \"enjoy\", \"pasta\", \"singapore\", \"chocolate\", \"food\", \"yogurt\", \"crab\", \"portion\", \"pesto\", \"generous\", \"like\", \"strawberry\", \"light\", \"place\", \"dry\", \"come\", \"definitely\", \"dessert\", \"taste\", \"cake\", \"sweet\", \"pretty\", \"noodle\", \"good\", \"egg\", \"though\", \"pork\", \"cheese\", \"flavour\", \"sauce\", \"try\", \"make\", \"rice\", \"love\", \"prawn\", \"fry\", \"serve\", \"chicken\", \"httpswwwinstagramcompcb7lbcrls0iutm_mediumcopy_link\", \"dadinhos\", \"shizuoka\", \"fruitsnuts\", \"bunnyshaped\", \"hashstack\", \"ferraresi\", \"betrayed\", \"salvia\", \"turkishmiddle\", \"cherrieecrafts\", \"musang\", \"caterpillar\", \"dongbeicai\", \"zucca\", \"taciturn\", \"kneady\", \"neversmiling\", \"sancere\", \"sparklessparklessparklessparkles\", \"\\u8001\\u5a46\\u9905\", \"truffly\", \"italia\", \"morbier\", \"philly\", \"zoidberg\", \"handbattered\", \"dutifully\", \"bapak\", \"cheeksoff\", \"bartlett\", \"tamoya\", \"dango\", \"ptt\", \"udon\", \"sanuki\", \"tingzieeats\", \"tempura\", \"michelinstarrestaurant\", \"tendon\", \"michelinsingapore\", \"ribeye\", \"crossiant\", \"sourdough\", \"main\", \"item\", \"cheese\", \"sorbet\", \"set\", \"drink\", \"potato\", \"izakaya\", \"jackfruit\", \"tasty\", \"bagel\", \"grill\", \"soba\", \"truffle\", \"platter\", \"meat\", \"serve\", \"black\", \"fry\", \"give\", \"service\", \"food\", \"burger\", \"taste\", \"look\", \"overall\", \"fan\", \"day\", \"flavour\", \"first\", \"like\", \"love\", \"bread\", \"menu\", \"chicken\", \"great\", \"good\", \"sweet\", \"try\", \"time\", \"side\", \"egg\", \"pork\", \"beef\", \"dish\", \"sauce\", \"cake\", \"quite\", \"place\", \"nice\", \"rice\"], \"Freq\": [6943.0, 4106.0, 4419.0, 2770.0, 5351.0, 1529.0, 1956.0, 5752.0, 5384.0, 4494.0, 1435.0, 2795.0, 1628.0, 1820.0, 2313.0, 3458.0, 411.0, 2575.0, 7779.0, 2086.0, 2231.0, 1427.0, 455.0, 1871.0, 1902.0, 6881.0, 1852.0, 771.0, 7114.0, 1501.0, 7.790413627533675, 5.25945669106521, 3.927051009964217, 3.8895383246368054, 5.866655632463422, 8.854310158218142, 14.300943848385621, 2.807235582079031, 2.804243535204562, 2.8012154129073146, 2.799558156675639, 2.7980673342962894, 2.795996870614755, 2.7848103910509434, 2.788060941568388, 3.696842892457533, 2.7831310026580542, 2.7100866817534617, 2.7082740577500664, 2.709316925186452, 2.7064634256411804, 3.681365872120849, 2.699488032391484, 3.360800771921831, 2.698023768605591, 2.6896569263803944, 2.7592037018483984, 2.6897392580201087, 2.7592318096931394, 3.729377169441553, 12.431736761631472, 20.65441451511479, 4.5914792938286055, 10.403148014400013, 8.279055450385997, 38.49038505774714, 12.720545530313128, 1690.450195792113, 1126.9443227227682, 25.061983074193034, 1637.8010067075857, 2686.452125696038, 98.55110021970059, 299.28186317835593, 3516.5046320181905, 1908.655826262758, 355.73073002920376, 399.4261744668988, 183.79400796154917, 912.8763936313729, 618.1295483903735, 616.5639653410175, 1826.717678668744, 281.71851659755293, 1912.9360233487655, 2640.8877211665076, 1027.2454875751332, 4109.935623356655, 626.1593372765886, 591.1112858807797, 851.6053360838439, 2786.157419893602, 1067.6296207452745, 2645.5824306145987, 573.6030111993679, 3063.2162135635103, 754.2890971431979, 2511.267507199712, 1763.1906562878255, 1122.581971054336, 1495.7074607953734, 2252.9884578554897, 2573.034381816759, 1068.2924099212794, 1607.945124921034, 1256.405326774658, 2963.6620837976084, 1186.0978884020437, 1456.4396100962226, 2533.5439771867354, 1751.4122954513916, 1450.8465261247318, 1383.6030570682392, 1510.299134484034, 1488.9865360530196, 1919.4517316100548, 1315.6849005858735, 1598.8869306378567, 1453.450996362601, 4.207113306250012, 4.172213165701384, 6.368265061024014, 11.626550885331396, 6.744917895863391, 2.9287651217081025, 2.9168552272316957, 2.915123077109737, 2.9134066701373373, 2.9113907396528207, 2.904506744755403, 7.0828809314860095, 2.8907696357539336, 7.014842268457322, 3.910185799128397, 2.8561050369429344, 2.8478083971254997, 3.397521032852891, 2.923992727204058, 2.8468712760562553, 4.870475133135902, 3.833450458815284, 2.8097210761322384, 2.869465319531249, 2.3201345560982816, 2.7800099180452085, 8.389375849086365, 2.2899254704476446, 3.74149996995944, 7.684820658533383, 13.855949597112861, 11.292682279605543, 104.05836272237276, 449.63277357779873, 188.60800827344593, 2442.259599015381, 3732.504505457892, 103.5383317767858, 628.8705884084673, 35.46931272638577, 39.88539696684345, 114.18847718700759, 255.87307715304837, 451.52063394432577, 626.0324166353889, 551.4865528287996, 37.1447358401087, 1374.1238389231953, 916.284553848174, 789.4514631196521, 1069.6164105742505, 625.9738230547545, 1357.1062789856962, 1126.8862103129047, 1169.8500824876905, 1182.0726827401113, 2189.2818662958803, 158.03994651923082, 739.7201357212334, 1268.5769589880244, 171.02873275969242, 938.6510773257452, 2761.683278891558, 454.0523519901175, 809.5554166656511, 1366.3640647259424, 770.6866364072541, 1513.9366995078572, 1242.7807992598418, 891.02927383964, 2701.8890982221474, 1219.5533531715726, 2230.500331809438, 1319.3788334738908, 1430.3951709791509, 2891.824065085597, 1870.128316260582, 955.71307331205, 1970.7420714007835, 1449.804217059583, 2017.95547659647, 1959.7231713727547, 1765.9024270507207, 1211.0498435248908, 1537.4141242055705, 1317.441421745963, 1287.4558726722398, 1564.6858707730469, 1348.2310566237722, 1320.022019445441, 5.302305280718583, 6.172828766708588, 2.8232196442394955, 2.775990000183413, 2.739639815824864, 2.345658431164293, 2.7056553845131406, 2.2518181208942476, 2.6967198951977096, 6.601578503464514, 2.2368106695444157, 2.237610790081231, 2.6908337885134763, 2.6759332555346607, 2.673946871253312, 6.53183120248241, 2.722956131831919, 6.4987377575958165, 2.6594171653519303, 2.1727023553752445, 2.227080803241025, 2.5840249867375547, 2.539008228966432, 2.1068516841158718, 4.462348372659405, 5.255371944875288, 2.994340287992775, 2.496274163689445, 1.6620259013818919, 1.6543232132837775, 2.4738319092509724, 10.026133280442032, 12.93107537775835, 13.988657708307139, 249.9983989640095, 23.3462854939492, 5.194334809368872, 246.00106804099383, 9.841532085711773, 99.07602219445646, 9.796097374308497, 128.2503756641761, 12.679499690709186, 338.50057952460395, 621.3289011065365, 584.5002149183343, 1475.0436692849473, 95.55516901556891, 1033.4790111488396, 755.9729741504982, 696.7477132933109, 116.96282120973733, 17.401238805894774, 543.4379052617624, 288.26348368938335, 736.0187614556875, 108.77964371952446, 804.001945839113, 230.70260079046977, 1123.6309038838797, 1395.1919825564567, 644.6626155920147, 1676.403599402868, 533.7148298949069, 601.5367283574668, 1562.9046082408097, 745.0550709659536, 2114.329031879948, 645.5295933938442, 629.3150801727187, 432.24295021047135, 547.1094785879478, 1800.0075795312132, 673.0587399877492, 1819.2015843465629, 1128.9571093968234, 802.7362396831286, 960.9400084677507, 1423.870866280497, 985.0399253304502, 2013.9191585313856, 1462.275615263432, 1363.1953893802947, 948.1176646552007, 821.8147278875543, 1217.8085354291193, 1258.6012811927064, 976.400308307175, 1291.3268656184846, 1268.7887604803714, 805.6568042333338, 799.1774684783152, 784.3788254671264, 755.8834713977785, 766.6917393654279], \"Total\": [6943.0, 4106.0, 4419.0, 2770.0, 5351.0, 1529.0, 1956.0, 5752.0, 5384.0, 4494.0, 1435.0, 2795.0, 1628.0, 1820.0, 2313.0, 3458.0, 411.0, 2575.0, 7779.0, 2086.0, 2231.0, 1427.0, 455.0, 1871.0, 1902.0, 6881.0, 1852.0, 771.0, 7114.0, 1501.0, 8.48377902600184, 5.992571605600826, 4.603925297672813, 4.595659673561832, 7.0407151057807456, 10.725431377153924, 17.53908899784144, 3.4782393533690263, 3.4801969561614476, 3.4777746298462278, 3.4791978266963675, 3.478555632715418, 3.4781492488491965, 3.4700389867213253, 3.479173098766645, 4.613549610017229, 3.4801692155914257, 3.3942147345111717, 3.3925924761097255, 3.3945545837342506, 3.3926312035948225, 4.615372165703421, 3.3904332268348814, 4.224012056359521, 3.3928239798459563, 3.3881166903880184, 3.4809614516884904, 3.3944943831191385, 3.4823234234628804, 4.707307853692539, 15.69304292162836, 26.707781048449625, 5.841345905229714, 13.588035075720448, 10.763033937881861, 52.95607711201686, 16.94972975650379, 2795.7088533065453, 1871.0642191008328, 34.51165236619022, 2834.305948558791, 4990.557989267036, 148.4937260999281, 484.151248814427, 6745.016563871317, 3536.054109781385, 595.3960627851661, 676.0999475492972, 296.37505642916625, 1651.2406042643772, 1087.2101491580358, 1101.4078581641036, 3544.4636105641966, 479.6675459252699, 3784.1536189762924, 5384.780606892446, 1970.976357237827, 9015.678846973638, 1155.0173038694713, 1088.8829068600467, 1628.095444158257, 6015.500772487092, 2101.1770177066205, 5774.680247045614, 1069.3638184077747, 6881.179269691193, 1461.4753454708132, 5752.356977375627, 3885.5551207549106, 2334.1706298699437, 3280.448550826628, 5340.925309545191, 6265.810328889629, 2221.2951469049135, 3659.2392520227218, 2720.496498665408, 7779.880213899703, 2575.8717417609587, 3384.3687784119966, 7114.428840424856, 4494.835334631621, 3479.3993324832895, 3264.5488078381813, 3743.0128364373395, 3935.385067195806, 6943.283102686431, 3296.38215593128, 5351.073405174547, 4419.718184428419, 4.880003747829127, 4.87480049995739, 7.463882333153009, 13.953575848194884, 8.137920064063499, 3.580208662577644, 3.576484362484261, 3.5770598549785366, 3.578759138906206, 3.5766003828630635, 3.5743737058567784, 8.728328144579066, 3.574294994696663, 8.716321412915333, 4.860596037765145, 3.5722417396275463, 3.5708689262322753, 4.260817287603086, 3.6673473466633753, 3.574266501693586, 6.155453458739526, 4.867381812393541, 3.569966398355211, 3.667749744981363, 2.9724735141814898, 3.5695575386112903, 10.779305858000292, 2.970396685707147, 4.853668383441214, 9.980065765398967, 18.242785106371624, 15.076651739134318, 153.37027468618123, 723.145045102751, 297.79447867282084, 4419.718184428419, 6943.283102686431, 159.89159687624908, 1142.72197552221, 52.37121739530278, 59.68738181633522, 184.97819125236109, 441.4747252459864, 823.1902020040193, 1182.5586057117903, 1047.6612295659036, 55.82441765259331, 2840.818865739507, 1837.5726829915268, 1567.7939036846901, 2209.3154139338494, 1249.284078540808, 2923.942541007214, 2406.67719996002, 2555.056053778329, 2642.66423586357, 5351.073405174547, 279.4561527298912, 1587.7272510277317, 2911.230064828359, 306.6741013275283, 2084.4422524016345, 7114.428840424856, 921.748566441252, 1794.2023589240912, 3254.786141469053, 1706.3581046475288, 3743.0128364373395, 3006.6441818055146, 2045.1619839537566, 7779.880213899703, 2994.658933052428, 6265.810328889629, 3296.38215593128, 3659.2392520227218, 9015.678846973638, 5340.925309545191, 2244.237967754452, 6015.500772487092, 4106.635435427566, 6881.179269691193, 6745.016563871317, 5774.680247045614, 3264.5488078381813, 4990.557989267036, 3935.385067195806, 3784.1536189762924, 5752.356977375627, 4494.835334631621, 5384.780606892446, 6.039367719788879, 7.301170148073965, 3.5041609145443893, 3.5026462032720946, 3.498549844412329, 3.0071039754162, 3.501519693769169, 2.918270437797284, 3.4986468220257922, 8.5698547712711, 2.91499785561248, 2.9181358028991737, 3.5119146255874747, 3.496767178650394, 3.4956446508380066, 8.569311025574523, 3.5838917327244975, 8.573860899525021, 3.5145869442318407, 2.91589770444097, 3.0005461350334266, 3.509595129640028, 3.4923434730823777, 2.912132338613104, 6.1861044779901695, 7.289155472934949, 4.1687437068012905, 3.4985101628661797, 2.329454440088196, 2.326743796990109, 3.4930785925631582, 14.422572840380674, 18.833181307752245, 20.574244541445438, 411.801470650733, 35.875405373680096, 7.448532582188475, 455.70762306369477, 14.785615247716693, 177.71879119712492, 14.783628327678343, 252.99743593042803, 19.853365412340604, 771.2913158958028, 1529.5976255465262, 1435.1591743263489, 4106.635435427566, 190.24430223612717, 2770.2869134038933, 1956.0070338695753, 1820.1396317321373, 244.9902031644275, 28.570251223482927, 1427.6819501620907, 697.0511647649581, 2086.141842553636, 232.10465493952506, 2313.4298157787744, 554.7669363931354, 3458.060108563447, 4494.835334631621, 1852.008859690637, 5752.356977375627, 1501.1593152155124, 1729.705061193491, 5351.073405174547, 2231.0973132230633, 7779.880213899703, 1902.4962519778967, 1869.423787096503, 1191.6615370373154, 1593.4728433496189, 6881.179269691193, 2057.160662160054, 7114.428840424856, 3935.385067195806, 2575.8717417609587, 3250.728968868866, 5384.780606892446, 3384.3687784119966, 9015.678846973638, 6265.810328889629, 5774.680247045614, 3479.3993324832895, 2822.869081291675, 5340.925309545191, 6015.500772487092, 3885.5551207549106, 6943.283102686431, 6745.016563871317, 2994.658933052428, 3544.4636105641966, 3254.786141469053, 3064.571582754158, 4990.557989267036], \"Category\": [\"Default\", \"Default\", \"Default\", \"Default\", \"Default\", \"Default\", \"Default\", \"Default\", \"Default\", \"Default\", \"Default\", \"Default\", \"Default\", \"Default\", \"Default\", \"Default\", \"Default\", \"Default\", \"Default\", \"Default\", \"Default\", \"Default\", \"Default\", \"Default\", \"Default\", \"Default\", \"Default\", \"Default\", \"Default\", \"Default\", \"Topic1\", \"Topic1\", \"Topic1\", \"Topic1\", \"Topic1\", \"Topic1\", \"Topic1\", \"Topic1\", \"Topic1\", \"Topic1\", \"Topic1\", \"Topic1\", \"Topic1\", \"Topic1\", \"Topic1\", \"Topic1\", \"Topic1\", \"Topic1\", \"Topic1\", \"Topic1\", \"Topic1\", \"Topic1\", \"Topic1\", \"Topic1\", \"Topic1\", \"Topic1\", \"Topic1\", \"Topic1\", \"Topic1\", \"Topic1\", \"Topic1\", \"Topic1\", \"Topic1\", \"Topic1\", \"Topic1\", \"Topic1\", \"Topic1\", \"Topic1\", \"Topic1\", \"Topic1\", \"Topic1\", \"Topic1\", \"Topic1\", \"Topic1\", \"Topic1\", \"Topic1\", \"Topic1\", \"Topic1\", \"Topic1\", \"Topic1\", \"Topic1\", \"Topic1\", \"Topic1\", \"Topic1\", \"Topic1\", \"Topic1\", \"Topic1\", \"Topic1\", \"Topic1\", \"Topic1\", \"Topic1\", \"Topic1\", \"Topic1\", \"Topic1\", \"Topic1\", \"Topic1\", \"Topic1\", \"Topic1\", \"Topic1\", \"Topic1\", \"Topic1\", \"Topic1\", \"Topic1\", \"Topic1\", \"Topic1\", \"Topic1\", \"Topic1\", \"Topic1\", \"Topic1\", \"Topic1\", \"Topic1\", \"Topic1\", \"Topic1\", \"Topic1\", \"Topic1\", \"Topic1\", \"Topic1\", \"Topic1\", \"Topic1\", \"Topic2\", \"Topic2\", \"Topic2\", \"Topic2\", \"Topic2\", \"Topic2\", \"Topic2\", \"Topic2\", \"Topic2\", \"Topic2\", \"Topic2\", \"Topic2\", \"Topic2\", \"Topic2\", \"Topic2\", \"Topic2\", \"Topic2\", \"Topic2\", \"Topic2\", \"Topic2\", \"Topic2\", \"Topic2\", \"Topic2\", \"Topic2\", \"Topic2\", \"Topic2\", \"Topic2\", \"Topic2\", \"Topic2\", \"Topic2\", \"Topic2\", \"Topic2\", \"Topic2\", \"Topic2\", \"Topic2\", \"Topic2\", \"Topic2\", \"Topic2\", \"Topic2\", \"Topic2\", \"Topic2\", \"Topic2\", \"Topic2\", \"Topic2\", \"Topic2\", \"Topic2\", \"Topic2\", \"Topic2\", \"Topic2\", \"Topic2\", \"Topic2\", \"Topic2\", \"Topic2\", \"Topic2\", \"Topic2\", \"Topic2\", \"Topic2\", \"Topic2\", \"Topic2\", \"Topic2\", \"Topic2\", \"Topic2\", \"Topic2\", \"Topic2\", \"Topic2\", \"Topic2\", \"Topic2\", \"Topic2\", \"Topic2\", \"Topic2\", \"Topic2\", \"Topic2\", \"Topic2\", \"Topic2\", \"Topic2\", \"Topic2\", \"Topic2\", \"Topic2\", \"Topic2\", \"Topic2\", \"Topic2\", \"Topic2\", \"Topic2\", \"Topic2\", \"Topic2\", \"Topic2\", \"Topic2\", \"Topic2\", \"Topic2\", \"Topic2\", \"Topic3\", \"Topic3\", \"Topic3\", \"Topic3\", \"Topic3\", \"Topic3\", \"Topic3\", \"Topic3\", \"Topic3\", \"Topic3\", \"Topic3\", \"Topic3\", \"Topic3\", \"Topic3\", \"Topic3\", \"Topic3\", \"Topic3\", \"Topic3\", \"Topic3\", \"Topic3\", \"Topic3\", \"Topic3\", \"Topic3\", \"Topic3\", \"Topic3\", \"Topic3\", \"Topic3\", \"Topic3\", \"Topic3\", \"Topic3\", \"Topic3\", \"Topic3\", \"Topic3\", \"Topic3\", \"Topic3\", \"Topic3\", \"Topic3\", \"Topic3\", \"Topic3\", \"Topic3\", \"Topic3\", \"Topic3\", \"Topic3\", \"Topic3\", \"Topic3\", \"Topic3\", \"Topic3\", \"Topic3\", \"Topic3\", \"Topic3\", \"Topic3\", \"Topic3\", \"Topic3\", \"Topic3\", \"Topic3\", \"Topic3\", \"Topic3\", \"Topic3\", \"Topic3\", \"Topic3\", \"Topic3\", \"Topic3\", \"Topic3\", \"Topic3\", \"Topic3\", \"Topic3\", \"Topic3\", \"Topic3\", \"Topic3\", \"Topic3\", \"Topic3\", \"Topic3\", \"Topic3\", \"Topic3\", \"Topic3\", \"Topic3\", \"Topic3\", \"Topic3\", \"Topic3\", \"Topic3\", \"Topic3\", \"Topic3\", \"Topic3\", \"Topic3\", \"Topic3\", \"Topic3\", \"Topic3\", \"Topic3\", \"Topic3\", \"Topic3\", \"Topic3\", \"Topic3\", \"Topic3\", \"Topic3\", \"Topic3\"], \"logprob\": [30.0, 29.0, 28.0, 27.0, 26.0, 25.0, 24.0, 23.0, 22.0, 21.0, 20.0, 19.0, 18.0, 17.0, 16.0, 15.0, 14.0, 13.0, 12.0, 11.0, 10.0, 9.0, 8.0, 7.0, 6.0, 5.0, 4.0, 3.0, 2.0, 1.0, -11.042499542236328, -11.435400009155273, -11.727499961853027, -11.737099647521973, -11.32610034942627, -10.91450023651123, -10.435099601745605, -12.063199996948242, -12.064299583435059, -12.065299987792969, -12.065899848937988, -12.066499710083008, -12.06719970703125, -12.071200370788574, -12.069999694824219, -11.7878999710083, -12.071800231933594, -12.098400115966797, -12.099100112915039, -12.098699569702148, -12.099699974060059, -11.792099952697754, -12.102299690246582, -11.883199691772461, -12.102899551391602, -12.105999946594238, -12.080400466918945, -12.105899810791016, -12.080400466918945, -11.77910041809082, -10.57509994506836, -10.067500114440918, -11.571200370788574, -10.753299713134766, -10.98169994354248, -9.444999694824219, -10.552200317382812, -5.662600040435791, -6.0680999755859375, -9.87399959564209, -5.694300174713135, -5.199399948120117, -8.504799842834473, -7.394000053405762, -4.930200099945068, -5.541200160980225, -7.221199989318848, -7.105400085449219, -7.8815999031066895, -6.278800010681152, -6.668700218200684, -6.671199798583984, -5.585100173950195, -7.454500198364258, -5.539000034332275, -5.2164998054504395, -6.160699844360352, -4.774199962615967, -6.655799865722656, -6.713399887084961, -6.348299980163574, -5.163000106811523, -6.122200012207031, -5.214700222015381, -6.7434000968933105, -5.06820011138916, -6.469600200653076, -5.2667999267578125, -5.620500087738037, -6.072000026702881, -5.784999847412109, -5.375400066375732, -5.242499828338623, -6.121600151062012, -5.712699890136719, -5.959400177001953, -5.101200103759766, -6.017000198364258, -5.811600208282471, -5.257999897003174, -5.627200126647949, -5.815499782562256, -5.8628997802734375, -5.775300025939941, -5.7895002365112305, -5.535600185394287, -5.913300037384033, -5.718299865722656, -5.813700199127197, -11.566399574279785, -11.574799537658691, -11.151900291442871, -10.54990005493164, -11.094400405883789, -11.928600311279297, -11.932700157165527, -11.933300018310547, -11.933899879455566, -11.934599876403809, -11.937000274658203, -11.045499801635742, -11.941699981689453, -11.05519962310791, -11.639599800109863, -11.953800201416016, -11.956700325012207, -11.780200004577637, -11.930299758911133, -11.956999778747559, -11.420000076293945, -11.659500122070312, -11.970100402832031, -11.94909954071045, -12.161600112915039, -11.980799674987793, -10.876299858093262, -12.174699783325195, -11.683699607849121, -10.96399974822998, -10.374500274658203, -10.579099655151367, -8.35830020904541, -6.894800186157227, -7.763500213623047, -5.202499866485596, -4.77839994430542, -8.363300323486328, -6.559299945831299, -9.434599876403809, -9.31719970703125, -8.265399932861328, -7.458499908447266, -6.890600204467773, -6.563799858093262, -6.6905999183654785, -9.388400077819824, -5.777599811553955, -6.1828999519348145, -6.331900119781494, -6.028200149536133, -6.563899993896484, -5.79010009765625, -5.97599983215332, -5.938600063323975, -5.928199768066406, -5.3119001388549805, -7.940400123596191, -6.396900177001953, -5.857600212097168, -7.861400127410889, -6.15880012512207, -5.079599857330322, -6.885000228881836, -6.306700229644775, -5.783299922943115, -6.355899810791016, -5.680799961090088, -5.8780999183654785, -6.2108001708984375, -5.101500034332275, -5.896999835968018, -5.2932000160217285, -5.818299770355225, -5.737500190734863, -5.033599853515625, -5.4695000648498535, -6.1407999992370605, -5.417099952697754, -5.723999977111816, -5.393400192260742, -5.422699928283691, -5.526800155639648, -5.9039998054504395, -5.66540002822876, -5.819799900054932, -5.842800140380859, -5.647799968719482, -5.7967000007629395, -5.817800045013428, -11.01990032196045, -10.867899894714355, -11.650199890136719, -11.666999816894531, -11.68019962310791, -11.83549976348877, -11.692700386047363, -11.876299858093262, -11.696000099182129, -10.800700187683105, -11.883000373840332, -11.882599830627441, -11.698200225830078, -11.703700065612793, -11.704500198364258, -10.811400413513184, -11.686300277709961, -10.816399574279785, -11.70989990234375, -11.912099838256836, -11.887299537658691, -11.738699913024902, -11.75629997253418, -11.94279956817627, -11.192399978637695, -11.028800010681152, -11.591300010681152, -11.773200035095215, -12.180000305175781, -12.184599876403809, -11.782299995422363, -10.382800102233887, -10.128399848937988, -10.049799919128418, -7.166600227355957, -9.537599563598633, -11.040499687194824, -7.182700157165527, -10.401399612426758, -8.09220027923584, -10.406100273132324, -7.834099769592285, -10.148099899291992, -6.863500118255615, -6.256199836730957, -6.317299842834473, -5.391600131988525, -8.128299713134766, -5.747399806976318, -6.059999942779541, -6.141600131988525, -7.926199913024902, -9.831500053405762, -6.390100002288818, -7.024199962615967, -6.0868000984191895, -7.998700141906738, -5.9984002113342285, -7.2469000816345215, -5.663700103759766, -5.447299957275391, -6.219299793243408, -5.263599872589111, -6.408199787139893, -6.288599967956543, -5.333700180053711, -6.0746002197265625, -5.031499862670898, -6.2179999351501465, -6.2434000968933105, -6.619100093841553, -6.383399963378906, -5.192500114440918, -6.176199913024902, -5.1819000244140625, -5.658999919891357, -6.0, -5.820099830627441, -5.4268999099731445, -5.795400142669678, -5.0802001953125, -5.400300025939941, -5.4704999923706055, -5.833600044250488, -5.976500034332275, -5.583199977874756, -5.550300121307373, -5.804200172424316, -5.524600028991699, -5.542200088500977, -5.996399879455566, -6.004499912261963, -6.023099899291992, -6.060200214385986, -6.046000003814697], \"loglift\": [30.0, 29.0, 28.0, 27.0, 26.0, 25.0, 24.0, 23.0, 22.0, 21.0, 20.0, 19.0, 18.0, 17.0, 16.0, 15.0, 14.0, 13.0, 12.0, 11.0, 10.0, 9.0, 8.0, 7.0, 6.0, 5.0, 4.0, 3.0, 2.0, 1.0, 0.8615, 0.8163, 0.7877, 0.7799, 0.7643, 0.7551, 0.7427, 0.7324, 0.7308, 0.7304, 0.7294, 0.7291, 0.7285, 0.7268, 0.7253, 0.7253, 0.7233, 0.7217, 0.7215, 0.7213, 0.7208, 0.7207, 0.7189, 0.7182, 0.7176, 0.7159, 0.7144, 0.7141, 0.714, 0.7139, 0.7138, 0.6897, 0.706, 0.6797, 0.6844, 0.6277, 0.6597, 0.4437, 0.4398, 0.6268, 0.3983, 0.3274, 0.5368, 0.4658, 0.2954, 0.3302, 0.4317, 0.4205, 0.469, 0.3541, 0.3821, 0.3666, 0.2839, 0.4146, 0.2646, 0.2343, 0.2951, 0.1612, 0.3345, 0.3359, 0.2987, 0.1771, 0.2697, 0.1662, 0.3239, 0.1374, 0.2853, 0.1179, 0.1566, 0.2147, 0.1614, 0.0836, 0.0567, 0.2147, 0.1245, 0.1742, -0.0183, 0.1712, 0.1036, -0.0857, 0.0043, 0.0721, 0.0883, 0.0392, -0.0251, -0.339, 0.0283, -0.2612, -0.1654, 0.8906, 0.8833, 0.8802, 0.8565, 0.8512, 0.8381, 0.8351, 0.8343, 0.8332, 0.8332, 0.8314, 0.83, 0.8267, 0.8218, 0.8214, 0.8152, 0.8127, 0.8125, 0.8124, 0.8114, 0.8048, 0.8001, 0.7995, 0.7935, 0.7912, 0.7889, 0.7883, 0.7788, 0.7787, 0.7776, 0.7639, 0.7499, 0.651, 0.5638, 0.5822, 0.4458, 0.4182, 0.6044, 0.4417, 0.6492, 0.6358, 0.5565, 0.4935, 0.4384, 0.4029, 0.3972, 0.6315, 0.3127, 0.3431, 0.3528, 0.3136, 0.3479, 0.2714, 0.2801, 0.2577, 0.2344, 0.1452, 0.4689, 0.2751, 0.2083, 0.455, 0.2411, 0.0926, 0.3309, 0.2431, 0.171, 0.2441, 0.1338, 0.1555, 0.2081, -0.0187, 0.1406, 0.0061, 0.1233, 0.0996, -0.0981, -0.0105, 0.1853, -0.077, -0.0022, -0.1878, -0.1971, -0.1459, 0.0473, -0.1385, -0.0554, -0.0392, -0.263, -0.1652, -0.367, 1.224, 1.1862, 1.138, 1.1216, 1.1096, 1.1057, 1.0963, 1.0949, 1.0938, 1.0932, 1.0893, 1.0886, 1.0878, 1.0866, 1.0862, 1.0826, 1.0794, 1.077, 1.0753, 1.0599, 1.056, 1.048, 1.0353, 1.0304, 1.0275, 1.027, 1.0232, 1.0166, 1.0165, 1.013, 1.0091, 0.9905, 0.9781, 0.9683, 0.855, 0.9245, 0.9937, 0.7376, 0.9471, 0.7698, 0.9426, 0.6747, 0.9057, 0.5306, 0.4532, 0.4558, 0.3302, 0.6655, 0.3681, 0.4035, 0.3939, 0.6148, 0.8583, 0.3882, 0.4711, 0.3123, 0.5963, 0.2972, 0.4767, 0.23, 0.1842, 0.2988, 0.1212, 0.32, 0.2979, 0.1234, 0.2573, 0.0513, 0.2733, 0.2654, 0.34, 0.2851, 0.0131, 0.2369, -0.0096, 0.1054, 0.1882, 0.1354, 0.0239, 0.1199, -0.1448, -0.101, -0.0895, 0.054, 0.1201, -0.1242, -0.2102, -0.027, -0.328, -0.3166, 0.0412, -0.1354, -0.0689, -0.0457, -0.5191]}, \"token.table\": {\"Topic\": [1, 2, 1, 1, 1, 1, 2, 3, 1, 2, 3, 1, 2, 3, 1, 2, 3, 1, 2, 3, 2, 3, 1, 3, 1, 2, 3, 1, 2, 3, 3, 2, 1, 2, 3, 1, 2, 3, 2, 1, 1, 2, 3, 2, 3, 1, 2, 3, 2, 1, 2, 3, 1, 2, 3, 1, 2, 3, 3, 1, 2, 3, 1, 3, 1, 2, 3, 1, 2, 3, 3, 1, 2, 3, 1, 2, 3, 1, 2, 1, 2, 3, 2, 1, 1, 2, 3, 1, 2, 1, 2, 3, 1, 2, 3, 1, 2, 3, 1, 1, 1, 2, 3, 1, 2, 3, 1, 2, 3, 1, 3, 1, 2, 3, 1, 2, 3, 1, 2, 3, 1, 2, 3, 1, 2, 3, 1, 2, 3, 1, 3, 1, 2, 3, 1, 2, 3, 1, 2, 3, 1, 2, 3, 1, 3, 1, 2, 3, 1, 2, 3, 1, 1, 2, 3, 1, 2, 3, 3, 1, 2, 3, 1, 2, 3, 1, 2, 3, 1, 2, 3, 1, 2, 3, 2, 1, 2, 3, 3, 1, 2, 3, 1, 1, 2, 3, 1, 2, 3, 1, 2, 3, 1, 2, 3, 1, 2, 3, 1, 3, 3, 2, 1, 2, 3, 3, 1, 2, 3, 1, 1, 3, 1, 2, 3, 1, 2, 3, 1, 2, 3, 1, 2, 3, 1, 1, 3, 1, 2, 3, 2, 1, 2, 3, 2, 1, 1, 3, 1, 2, 1, 1, 2, 3, 1, 2, 3, 1, 2, 3, 1, 2, 3, 1, 2, 3, 2, 1, 2, 3, 1, 2, 3, 1, 2, 3, 1, 2, 3, 1, 1, 2, 3, 1, 2, 3, 1, 2, 3, 1, 2, 3, 1, 3, 1, 2, 2, 3, 2, 1, 2, 3, 2, 1, 2, 3, 1, 2, 3, 1, 2, 3, 1, 1, 1, 2, 3, 1, 2, 3, 1, 2, 3, 1, 2, 3, 1, 2, 3, 1, 2, 3, 1, 2, 3, 1, 2, 3, 1, 2, 2, 3, 1, 2, 3, 1, 2, 3, 1, 2, 3, 1, 2, 3, 1, 2, 3, 1, 2, 3, 1, 2, 3, 1, 2, 3, 1, 2, 3, 1, 2, 3, 1, 2, 3, 1, 2, 3, 1, 2, 3, 1, 2, 3, 2, 1, 2, 3, 3, 2, 3, 1, 2, 3, 1, 1, 2, 3, 1, 2, 3, 1, 2, 3, 1, 2, 3, 1, 2, 3, 1, 2, 3, 3, 2, 1, 2, 3, 1, 2, 3, 1, 2, 3, 1, 2, 3, 1, 2, 3, 1, 2, 3, 1, 2, 3, 1, 2, 3, 1, 2, 3, 1, 2, 3, 1, 2, 3, 3, 1, 2, 3, 1, 2, 3, 1, 2, 3, 1, 2, 3, 1, 2, 3, 1, 1, 2, 1, 2, 3, 1, 2, 3, 1, 2, 3, 1, 2, 3, 1, 2, 3, 1, 2, 3, 1, 2, 3, 1, 2, 3, 2, 1, 2, 3, 1, 2, 3, 1, 2, 3, 2, 1, 2, 3, 1, 1, 2, 3, 1, 2, 3, 1, 2, 3, 2, 1, 2, 3, 2, 3, 1, 2, 3, 1, 2, 3, 1, 1, 2, 3, 1, 2, 3, 1, 2, 3, 1, 1, 2, 3, 1, 2, 3, 1, 2, 1, 2, 3, 1, 2, 3, 3, 3], \"Freq\": [0.8497425968990518, 0.21243564922476296, 0.8343663337000194, 0.88421916899332, 0.8618308595588747, 0.18762712103763043, 0.6504406862637855, 0.16261017156594637, 0.8521861643107429, 0.14203102738512383, 0.14203102738512383, 0.8391270880881081, 0.0932363431209009, 0.0932363431209009, 0.7862877100087294, 0.11232681571553278, 0.11232681571553278, 0.23958069140636398, 0.3471768103014376, 0.4131690965570828, 0.8393330487747674, 0.8585701293751329, 0.286280418118568, 0.572560836237136, 0.26732240906921656, 0.6683060226730414, 0.05728337337197498, 0.45373182086205305, 0.2949385517344939, 0.2511867595923788, 0.6853374430608302, 0.8404402975857695, 0.6666948335135617, 0.1144829512093995, 0.22223161117118725, 0.32991202866171093, 0.32181271535577693, 0.34827047215516127, 0.8179402109167739, 0.8837683784420952, 0.4604266512078772, 0.22788401708180767, 0.31173912387852054, 0.819671501641654, 0.857498144493044, 0.40921567812793963, 0.2568242974450267, 0.33391640767285324, 0.818029959100945, 0.09277035211481731, 0.7421628169185385, 0.09277035211481731, 0.32357608050286624, 0.40739196926057464, 0.2691458419869042, 0.5979213203639436, 0.193148741128802, 0.20826472956496914, 0.8542348888957284, 0.798217056867834, 0.1710465121859644, 0.05701550406198814, 0.7102252455656011, 0.8595703586218703, 0.2878268642507184, 0.3530871008151791, 0.3591748094499236, 0.2865202629627481, 0.6162888675047788, 0.09730876855338613, 0.6861068512106241, 0.49045637934060976, 0.24513533537660162, 0.2644490284668793, 0.4086784788409102, 0.4472758907314406, 0.1437942795921721, 0.2060297327711144, 0.8241189310844576, 0.25115470442304616, 0.550440101331345, 0.1977733909394022, 0.6728403097481347, 0.8622677264801053, 0.4034183333010534, 0.4044869911376125, 0.19209124612149497, 0.8670113769482285, 0.21675284423705712, 0.37852849071587974, 0.46607501352703995, 0.15556828154213362, 0.32875399275890926, 0.5525239162541338, 0.11855959546157499, 0.5398673042698499, 0.27459987032269473, 0.18551752310163516, 0.9429759987242582, 0.8625053353772784, 0.2883578017638709, 0.5293606566105079, 0.18265479525218803, 0.2518464701653082, 0.10073858806612329, 0.6548008224298013, 0.5684273647358751, 0.22442763267888918, 0.20695171046209043, 0.13696434677170183, 0.8217860806302109, 0.10619554749237964, 0.21239109498475928, 0.6902710587004677, 0.3049942156393363, 0.3514336641111694, 0.3432753826228744, 0.34423760758363964, 0.4134177258226706, 0.2424630105589114, 0.5082865417810889, 0.3007837962599702, 0.19084541503203808, 0.3099998948613038, 0.4356623128098134, 0.2542585888452334, 0.27638222028675713, 0.5376419115844004, 0.1859350945232952, 0.8620270493054675, 0.8579353004445307, 0.11456947807594442, 0.8019863465316109, 0.11456947807594442, 0.7175758113581452, 0.18883573983109084, 0.07553429593243634, 0.2684039427820414, 0.34509078357691036, 0.3865016776061396, 0.4037839408523935, 0.45183950420492797, 0.14475273351312218, 0.2858359568636333, 0.5716719137272666, 0.42183701688796976, 0.35012659635175475, 0.22805037131360284, 0.3550001360978998, 0.4640994072108382, 0.18057810391107043, 0.8703864698710011, 0.2825618336642151, 0.5010869911439055, 0.2169242405750773, 0.25930181548716386, 0.37762400313664635, 0.3625190430111805, 0.8567708487655787, 0.48111307101082484, 0.341448902578475, 0.17779334324977053, 0.3475664361816241, 0.3252055186091, 0.32714994622410215, 0.5779192612684959, 0.26249812599741207, 0.1594746679446643, 0.4451271911329609, 0.2932636864859011, 0.26158307020546184, 0.29881855077034625, 0.409076802774414, 0.29209092861416586, 0.8382793821986313, 0.3125859274976479, 0.48366336079027955, 0.20346246181716274, 0.8564952969550468, 0.43651671999424185, 0.27206239219075606, 0.2913588302311228, 0.883856866655213, 0.3334225254737765, 0.45048021787032533, 0.21636483307722762, 0.29510525332642734, 0.3490635502100405, 0.3557250683438199, 0.4558724938809943, 0.3207745139425391, 0.2233886137898595, 0.43021316391034076, 0.27863393788973306, 0.29104393300253134, 0.3494489133623027, 0.2976787039752949, 0.3528043898966458, 0.23988042209659077, 0.7196412662897723, 0.6650917348886112, 0.8386776072043113, 0.16444857419014355, 0.7674266795540032, 0.05481619139671452, 0.8279012360212415, 0.3684399225507655, 0.48431292030628886, 0.14755702057929923, 0.8624269141437162, 0.2863406786038115, 0.8590220358114345, 0.2633854186783357, 0.3295801667588698, 0.40762029081171003, 0.2003994810268715, 0.801597924107486, 0.10019974051343575, 0.3061346904131633, 0.2163351812253021, 0.4775701170445348, 0.2100086538640018, 0.17500721155333485, 0.5950245192813385, 0.8848426732770762, 0.8559671146205426, 0.17119342292410852, 0.07166621738250456, 0.8599946085900547, 0.14333243476500912, 0.8379399869503944, 0.7669738802184598, 0.23599196314414145, 0.05899799078603536, 0.8401316491796815, 0.8854476613839501, 0.27902628610931657, 0.8370788583279498, 0.764670055382404, 0.191167513845601, 0.8626205891129429, 0.31768991784282646, 0.45145409377664814, 0.23130055421889997, 0.3561775733283848, 0.38822512136266724, 0.2556775871682447, 0.5367677399583756, 0.2749298180274607, 0.18889735796444576, 0.29750387124892785, 0.3632070230265179, 0.3395538883865855, 0.37836195812497714, 0.3346559428143686, 0.2868842516609128, 0.7040902713027726, 0.20724404556180956, 0.38637612279820016, 0.4059891239554692, 0.42394832531742704, 0.37095478465274867, 0.20523509968401454, 0.20604441807221222, 0.6222817995469496, 0.17285605542970825, 0.6023310095372335, 0.307311739559813, 0.09032292867062329, 0.8688238277936255, 0.3669687513116046, 0.3082653182806702, 0.32503772771808004, 0.3605345174032804, 0.34392285875159345, 0.29562599933835537, 0.2705695727287112, 0.0676423931821778, 0.6764239318217778, 0.2705332130577191, 0.06763330326442978, 0.6763330326442977, 0.8620201781076522, 0.6867819753522929, 0.2057360850871677, 0.8229443403486708, 0.8393263579114848, 0.6853690626779589, 0.8393078751347012, 0.6208349724733871, 0.1990720835648361, 0.17882746489722565, 0.8387853488956192, 0.11663356937076019, 0.11663356937076019, 0.6998014162245612, 0.39450865067196794, 0.35894087323338686, 0.24669027287676407, 0.43943560102312085, 0.3907916103626013, 0.16970740561900377, 0.8614937888269867, 0.8842694121368714, 0.37016753759979715, 0.29313845463105326, 0.3364673138009717, 0.51591701655227, 0.260695468576147, 0.22306226445098146, 0.289215627579869, 0.5259333689653723, 0.18421985519113768, 0.16245756818779905, 0.8122878409389952, 0.16245756818779905, 0.38808694411345057, 0.4682804989463156, 0.14376668379363372, 0.19898317291583575, 0.7296049673580645, 0.06632772430527858, 0.25434165996526686, 0.557595177616162, 0.18586505920538732, 0.16165262057211396, 0.16165262057211396, 0.6466104822884559, 0.735941579799741, 0.2207824739399223, 0.8217970469904425, 0.20544926174761063, 0.33919279240316164, 0.4196896326292743, 0.2408760409819554, 0.32446057649052656, 0.2595684611924212, 0.4163910731628424, 0.46313683687686336, 0.32765351955646005, 0.20929263375016907, 0.3486498756187593, 0.4358982188770498, 0.21571637624490725, 0.32799681386634305, 0.289538225975817, 0.3829376537099516, 0.505529159917539, 0.3401024719361593, 0.15432777281329993, 0.3992255563063528, 0.40013564496054665, 0.20052286680737022, 0.2430222888586667, 0.09720891554346668, 0.6804624088042668, 0.2491648869336944, 0.5798746459547797, 0.1721502855178252, 0.5154517582165793, 0.2592775948555207, 0.22542197855229715, 0.3557348305488328, 0.1343887137628924, 0.5059339812250067, 0.5382163689464499, 0.307981593101524, 0.15369022895827517, 0.5529176048857755, 0.26343828929387986, 0.18349839461159909, 0.20148123721904349, 0.6346658972399869, 0.16454301039555216, 0.6733107431823943, 0.2835261999823723, 0.4984836836542284, 0.21822266063902357, 0.8574743758396668, 0.2845284569332409, 0.8535853707997226, 0.25086824542483993, 0.08362274847494665, 0.6411077383079243, 0.8645436006569359, 0.5214219960316021, 0.2905849053801365, 0.1881389004731598, 0.5210615521736964, 0.300866115325221, 0.17808432795809875, 0.3895582083973061, 0.2998997515245966, 0.3103561968670714, 0.35786447868337273, 0.2942698217283307, 0.3480362135175935, 0.2696471605109486, 0.35736370670125717, 0.37288556466908956, 0.12288152158386662, 0.8601706510870663, 0.12288152158386662, 0.8561250676440639, 0.8388125589108324, 0.4204941730619892, 0.28871335387154273, 0.29119310046921243, 0.32836852982513465, 0.4579155898634178, 0.21369394193626162, 0.6175756041777873, 0.12599368513326095, 0.2561183107626944, 0.5419832221585006, 0.30302576318766006, 0.15411024527829567, 0.2585040787554779, 0.2714292826932517, 0.46961574307245146, 0.21551236761409903, 0.28384555734539874, 0.5046143241695977, 0.45603519665718534, 0.34751345199812256, 0.1966194531042009, 0.542758083790878, 0.2194910017360742, 0.23785844958009714, 0.24115401815975793, 0.3202421639003237, 0.4395226460008491, 0.7432848438620069, 0.09291060548275086, 0.09291060548275086, 0.11472729751776463, 0.8030910826243525, 0.11472729751776463, 0.6858951179782337, 0.4808005822585618, 0.2728138135287345, 0.24625273267362668, 0.5233108433888489, 0.15846736806845424, 0.3181631653467415, 0.20287528162043364, 0.49254212757046456, 0.30485536970771043, 0.5879071919615224, 0.2460037186221973, 0.16678218211674392, 0.2733268683862462, 0.5490833089359257, 0.17735876793063088, 0.8842795063438006, 0.8666690044464415, 0.21666725111161036, 0.41064122036007494, 0.3560592936740487, 0.2333297567689194, 0.2680633580014248, 0.670158395003562, 0.0670158395003562, 0.11669549594075514, 0.11669549594075514, 0.816868471585286, 0.27937345525492563, 0.5032549228222291, 0.21750307817792158, 0.2080072697986677, 0.0693357565995559, 0.693357565995559, 0.3809827296189539, 0.34730611856626636, 0.27172654872283014, 0.2983857853996364, 0.3215001772263688, 0.38033681096714217, 0.4616804324564119, 0.30986990808977327, 0.22826715649317816, 0.8205463998034307, 0.1667735981440394, 0.2940481862013326, 0.5398198045188642, 0.6044978532014164, 0.19994928990508387, 0.19529930641891913, 0.27571648259552595, 0.16880600975236282, 0.5570598321827973, 0.840344043961363, 0.35112141017222875, 0.4259797818840745, 0.22279277295192182, 0.8625276793376822, 0.724393017602703, 0.20283004492875686, 0.057951441408216245, 0.417026004015585, 0.310398404091545, 0.27246082136924504, 0.1342546318977351, 0.1342546318977351, 0.6712731594886755, 0.8398087863764757, 0.28961328129786235, 0.36309724819433487, 0.3475359375574348, 0.28493315127849744, 0.8547994538354924, 0.4582071884159683, 0.3058177984665911, 0.23603038466022855, 0.1166880917693402, 0.1166880917693402, 0.8168166423853813, 0.8837840518809035, 0.22826533341772728, 0.16512811353622825, 0.6070886527067215, 0.5601921172311723, 0.26783901877341304, 0.17250648666762197, 0.17604454354173962, 0.6780975010496638, 0.14344370214512117, 0.8622738549753359, 0.5901494319682775, 0.27214911148411797, 0.13607455574205898, 0.2755351751887334, 0.5653838659716867, 0.15744867153641906, 0.13397853226573636, 0.8038711935944182, 0.1612197740424061, 0.6627924043965584, 0.1791330822693401, 0.13719010435612974, 0.13719010435612974, 0.6859505217806487, 0.8582108021994781, 0.6665453254154746], \"Term\": [\"1340\", \"1340\", \"1smiling_face_with_halo\", \"26nett\", \"5ea\", \"acai\", \"acai\", \"acai\", \"activate\", \"activate\", \"activate\", \"aoli\", \"aoli\", \"aoli\", \"awadh\", \"awadh\", \"awadh\", \"bagel\", \"bagel\", \"bagel\", \"banboo\", \"bapak\", \"bartlett\", \"bartlett\", \"bcm\", \"bcm\", \"bcm\", \"beef\", \"beef\", \"beef\", \"betrayed\", \"binner\", \"biryani\", \"biryani\", \"biryani\", \"black\", \"black\", \"black\", \"boomerangable\", \"bran\", \"bread\", \"bread\", \"bread\", \"brutwurst\", \"bunnyshaped\", \"burger\", \"burger\", \"burger\", \"burpple1for1\", \"b\\u00fan\", \"b\\u00fan\", \"b\\u00fan\", \"cake\", \"cake\", \"cake\", \"carrot\", \"carrot\", \"carrot\", \"caterpillar\", \"ceremonial\", \"ceremonial\", \"ceremonial\", \"cfc\", \"cheeksoff\", \"cheese\", \"cheese\", \"cheese\", \"chendol\", \"chendol\", \"chendol\", \"cherrieecrafts\", \"chicken\", \"chicken\", \"chicken\", \"chocolate\", \"chocolate\", \"chocolate\", \"christian\", \"christian\", \"coconut\", \"coconut\", \"coconut\", \"coconutsoft_ice_cream\", \"coffeeonenorth\", \"come\", \"come\", \"come\", \"conradsingapore\", \"conradsingapore\", \"crab\", \"crab\", \"crab\", \"cream\", \"cream\", \"cream\", \"crispy\", \"crispy\", \"crispy\", \"croffin\", \"croffins\", \"croissant\", \"croissant\", \"croissant\", \"crossiant\", \"crossiant\", \"crossiant\", \"curry\", \"curry\", \"curry\", \"dadinhos\", \"dadinhos\", \"dango\", \"dango\", \"dango\", \"day\", \"day\", \"day\", \"definitely\", \"definitely\", \"definitely\", \"delicious\", \"delicious\", \"delicious\", \"dessert\", \"dessert\", \"dessert\", \"dish\", \"dish\", \"dish\", \"donburionenorth\", \"dongbeicai\", \"donkisparkles\", \"donkisparkles\", \"donkisparkles\", \"dory\", \"dory\", \"dory\", \"drink\", \"drink\", \"drink\", \"dry\", \"dry\", \"dry\", \"dutifully\", \"dutifully\", \"egg\", \"egg\", \"egg\", \"enjoy\", \"enjoy\", \"enjoy\", \"eryngii\", \"every\", \"every\", \"every\", \"fan\", \"fan\", \"fan\", \"ferraresi\", \"fill\", \"fill\", \"fill\", \"first\", \"first\", \"first\", \"fish\", \"fish\", \"fish\", \"flavour\", \"flavour\", \"flavour\", \"food\", \"food\", \"food\", \"frap\", \"fresh\", \"fresh\", \"fresh\", \"fruitsnuts\", \"fry\", \"fry\", \"fry\", \"gamtae\", \"generous\", \"generous\", \"generous\", \"give\", \"give\", \"give\", \"good\", \"good\", \"good\", \"great\", \"great\", \"great\", \"grill\", \"grill\", \"grill\", \"handbattered\", \"handbattered\", \"hashstack\", \"heroine\", \"honeydew\", \"honeydew\", \"honeydew\", \"httpswwwinstagramcompcb7lbcrls0iutm_mediumcopy_link\", \"ice\", \"ice\", \"ice\", \"indistinguishable\", \"italia\", \"italia\", \"item\", \"item\", \"item\", \"itomonogatari\", \"itomonogatari\", \"itomonogatari\", \"izakaya\", \"izakaya\", \"izakaya\", \"jackfruit\", \"jackfruit\", \"jackfruit\", \"jajjang\", \"jang\", \"jang\", \"jjm\", \"jjm\", \"jjm\", \"kabura\", \"kakurega\", \"kakurega\", \"kakurega\", \"kirin\", \"kitkats\", \"kneady\", \"kneady\", \"lair\", \"lair\", \"latt\\u00e9\", \"light\", \"light\", \"light\", \"like\", \"like\", \"like\", \"lobster\", \"lobster\", \"lobster\", \"look\", \"look\", \"look\", \"love\", \"love\", \"love\", \"lua\", \"main\", \"main\", \"main\", \"make\", \"make\", \"make\", \"mango\", \"mango\", \"mango\", \"matcha\", \"matcha\", \"matcha\", \"mazemen\", \"meat\", \"meat\", \"meat\", \"menu\", \"menu\", \"menu\", \"michelinsingapore\", \"michelinsingapore\", \"michelinsingapore\", \"michelinstarrestaurant\", \"michelinstarrestaurant\", \"michelinstarrestaurant\", \"misc\", \"morbier\", \"mosquito\", \"mosquito\", \"multifruit\", \"musang\", \"nakgi\", \"nasi\", \"nasi\", \"nasi\", \"nestum\", \"neversmiling\", \"neversmiling\", \"neversmiling\", \"nice\", \"nice\", \"nice\", \"noodle\", \"noodle\", \"noodle\", \"ohmaigoodness\", \"omote\", \"overall\", \"overall\", \"overall\", \"pair\", \"pair\", \"pair\", \"pancake\", \"pancake\", \"pancake\", \"pancakecafe_belleville\", \"pancakecafe_belleville\", \"pancakecafe_belleville\", \"pasta\", \"pasta\", \"pasta\", \"pa\\u0302te\", \"pa\\u0302te\", \"pa\\u0302te\", \"pesto\", \"pesto\", \"pesto\", \"philly\", \"philly\", \"philly\", \"pil\", \"pil\", \"piring\", \"piring\", \"place\", \"place\", \"place\", \"platter\", \"platter\", \"platter\", \"pork\", \"pork\", \"pork\", \"portion\", \"portion\", \"portion\", \"potato\", \"potato\", \"potato\", \"prawn\", \"prawn\", \"prawn\", \"pretty\", \"pretty\", \"pretty\", \"ptt\", \"ptt\", \"ptt\", \"puff\", \"puff\", \"puff\", \"quite\", \"quite\", \"quite\", \"ribeye\", \"ribeye\", \"ribeye\", \"rice\", \"rice\", \"rice\", \"rich\", \"rich\", \"rich\", \"risotto\", \"risotto\", \"risotto\", \"s43\", \"salmon\", \"salmon\", \"salmon\", \"salvia\", \"sancere\", \"sancere\", \"sanuki\", \"sanuki\", \"sanuki\", \"sashimilike\", \"sauce\", \"sauce\", \"sauce\", \"savoury\", \"savoury\", \"savoury\", \"serve\", \"serve\", \"serve\", \"service\", \"service\", \"service\", \"set\", \"set\", \"set\", \"shackmeistertrade_mark\", \"shackmeistertrade_mark\", \"shackmeistertrade_mark\", \"shizuoka\", \"sid\", \"side\", \"side\", \"side\", \"singapore\", \"singapore\", \"singapore\", \"skewer\", \"skewer\", \"skewer\", \"skin\", \"skin\", \"skin\", \"soba\", \"soba\", \"soba\", \"sorbet\", \"sorbet\", \"sorbet\", \"soup\", \"soup\", \"soup\", \"sour\", \"sour\", \"sour\", \"sourdough\", \"sourdough\", \"sourdough\", \"soyyuja\", \"soyyuja\", \"soyyuja\", \"sparklesdon\", \"sparklesdon\", \"sparklesdon\", \"sparklessparklessparklessparkles\", \"spicy\", \"spicy\", \"spicy\", \"steak\", \"steak\", \"steak\", \"strawberry\", \"strawberry\", \"strawberry\", \"succulent\", \"succulent\", \"succulent\", \"sugar\", \"sugar\", \"sugar\", \"sunagimo\", \"suppli\", \"suppli\", \"sweet\", \"sweet\", \"sweet\", \"swensens\", \"swensens\", \"swensens\", \"taciturn\", \"taciturn\", \"taciturn\", \"take\", \"take\", \"take\", \"tamoya\", \"tamoya\", \"tamoya\", \"taste\", \"taste\", \"taste\", \"tasty\", \"tasty\", \"tasty\", \"tea\", \"tea\", \"tea\", \"teateapot\", \"tempura\", \"tempura\", \"tempura\", \"tender\", \"tender\", \"tender\", \"tendon\", \"tendon\", \"tendon\", \"tenshinhan\", \"though\", \"though\", \"though\", \"thoughearthy\", \"thumbs_upthumbs_upthumbs_up\", \"thumbs_upthumbs_upthumbs_up\", \"thumbs_upthumbs_upthumbs_up\", \"time\", \"time\", \"time\", \"tingzieeats\", \"tingzieeats\", \"tingzieeats\", \"tiramiso\", \"truffle\", \"truffle\", \"truffle\", \"truffly\", \"truffly\", \"try\", \"try\", \"try\", \"turkishmiddle\", \"turkishmiddle\", \"turkishmiddle\", \"typhoon\", \"udon\", \"udon\", \"udon\", \"w\", \"w\", \"w\", \"watermelon\", \"watermelon\", \"watermelon\", \"whiteish\", \"wine\", \"wine\", \"wine\", \"yogurt\", \"yogurt\", \"yogurt\", \"yogurtheart_hands_light_skin_toneheart_hands_light_skin_toneheart_hands_light_skin_tone\", \"yogurtheart_hands_light_skin_toneheart_hands_light_skin_toneheart_hands_light_skin_tone\", \"yotea\", \"yotea\", \"yotea\", \"zoidberg\", \"zoidberg\", \"zoidberg\", \"zucca\", \"\\u8001\\u5a46\\u9905\"]}, \"R\": 30, \"lambda.step\": 0.01, \"plot.opts\": {\"xlab\": \"PC1\", \"ylab\": \"PC2\"}, \"topic.order\": [3, 1, 2]};\n",
       "\n",
       "function LDAvis_load_lib(url, callback){\n",
       "  var s = document.createElement('script');\n",
       "  s.src = url;\n",
       "  s.async = true;\n",
       "  s.onreadystatechange = s.onload = callback;\n",
       "  s.onerror = function(){console.warn(\"failed to load library \" + url);};\n",
       "  document.getElementsByTagName(\"head\")[0].appendChild(s);\n",
       "}\n",
       "\n",
       "if(typeof(LDAvis) !== \"undefined\"){\n",
       "   // already loaded: just create the visualization\n",
       "   !function(LDAvis){\n",
       "       new LDAvis(\"#\" + \"ldavis_el547271401551804352649551237440\", ldavis_el547271401551804352649551237440_data);\n",
       "   }(LDAvis);\n",
       "}else if(typeof define === \"function\" && define.amd){\n",
       "   // require.js is available: use it to load d3/LDAvis\n",
       "   require.config({paths: {d3: \"https://cdnjs.cloudflare.com/ajax/libs/d3/3.5.5/d3.min\"}});\n",
       "   require([\"d3\"], function(d3){\n",
       "      window.d3 = d3;\n",
       "      LDAvis_load_lib(\"https://cdn.rawgit.com/bmabey/pyLDAvis/files/ldavis.v1.0.0.js\", function(){\n",
       "        new LDAvis(\"#\" + \"ldavis_el547271401551804352649551237440\", ldavis_el547271401551804352649551237440_data);\n",
       "      });\n",
       "    });\n",
       "}else{\n",
       "    // require.js not available: dynamically load d3 & LDAvis\n",
       "    LDAvis_load_lib(\"https://cdnjs.cloudflare.com/ajax/libs/d3/3.5.5/d3.min.js\", function(){\n",
       "         LDAvis_load_lib(\"https://cdn.rawgit.com/bmabey/pyLDAvis/files/ldavis.v1.0.0.js\", function(){\n",
       "                 new LDAvis(\"#\" + \"ldavis_el547271401551804352649551237440\", ldavis_el547271401551804352649551237440_data);\n",
       "            })\n",
       "         });\n",
       "}\n",
       "</script>"
      ],
      "text/plain": [
       "PreparedData(topic_coordinates=              x         y  topics  cluster       Freq\n",
       "topic                                                \n",
       "2     -0.005221  0.010054       1        1  38.799264\n",
       "0     -0.006620 -0.009293       2        1  35.383165\n",
       "1      0.011841 -0.000762       3        1  25.817571, topic_info=        Term         Freq        Total Category  logprob  loglift\n",
       "168     dish  6943.000000  6943.000000  Default  30.0000  30.0000\n",
       "866   cheese  4106.000000  4106.000000  Default  29.0000  29.0000\n",
       "831    cream  4419.000000  4419.000000  Default  28.0000  28.0000\n",
       "1049     set  2770.000000  2770.000000  Default  27.0000  27.0000\n",
       "226     food  5351.000000  5351.000000  Default  26.0000  26.0000\n",
       "...      ...          ...          ...      ...      ...      ...\n",
       "6       cake   805.656804  2994.658933   Topic3  -5.9964   0.0412\n",
       "74     quite   799.177468  3544.463611   Topic3  -6.0045  -0.1354\n",
       "415    place   784.378825  3254.786141   Topic3  -6.0231  -0.0689\n",
       "323     nice   755.883471  3064.571583   Topic3  -6.0602  -0.0457\n",
       "666     rice   766.691739  4990.557989   Topic3  -6.0460  -0.5191\n",
       "\n",
       "[304 rows x 6 columns], token_table=       Topic      Freq                     Term\n",
       "term                                           \n",
       "2667       1  0.849743                     1340\n",
       "2667       2  0.212436                     1340\n",
       "4659       1  0.834366  1smiling_face_with_halo\n",
       "1088       1  0.884219                   26nett\n",
       "4599       1  0.861831                      5ea\n",
       "...      ...       ...                      ...\n",
       "21244      1  0.137190                 zoidberg\n",
       "21244      2  0.137190                 zoidberg\n",
       "21244      3  0.685951                 zoidberg\n",
       "17657      3  0.858211                    zucca\n",
       "40596      3  0.666545                      老婆餅\n",
       "\n",
       "[544 rows x 3 columns], R=30, lambda_step=0.01, plot_opts={'xlab': 'PC1', 'ylab': 'PC2'}, topic_order=[3, 1, 2])"
      ]
     },
     "execution_count": 82,
     "metadata": {},
     "output_type": "execute_result"
    }
   ],
   "source": [
    "# Visualize the topics\n",
    "pyLDAvis.enable_notebook()\n",
    "LDAvis_data_filepath = os.path.join('ldavis_prepared_'+str(num_topics))\n",
    "# # this is a bit time consuming - make the if statement True\n",
    "# # if you want to execute visualization prep yourself\n",
    "if 1 == 1:\n",
    "    LDAvis_prepared = pyLDAvis.gensim.prepare(lda_model, bow_corpus, dictionary)\n",
    "    with open(LDAvis_data_filepath, 'wb') as f:\n",
    "        pickle.dump(LDAvis_prepared, f)\n",
    "# load the pre-prepared pyLDAvis data from disk\n",
    "with open(LDAvis_data_filepath, 'rb') as f:\n",
    "    LDAvis_prepared = pickle.load(f)\n",
    "pyLDAvis.save_html(LDAvis_prepared, 'ldavis_prepared_'+ str(num_topics) +'.html')\n",
    "LDAvis_prepared"
   ]
  },
  {
   "cell_type": "markdown",
   "metadata": {},
   "source": []
  }
 ],
 "metadata": {
  "kernelspec": {
   "display_name": "tensorflow_env",
   "language": "python",
   "name": "python3"
  },
  "language_info": {
   "codemirror_mode": {
    "name": "ipython",
    "version": 3
   },
   "file_extension": ".py",
   "mimetype": "text/x-python",
   "name": "python",
   "nbconvert_exporter": "python",
   "pygments_lexer": "ipython3",
   "version": "3.9.16"
  },
  "orig_nbformat": 4
 },
 "nbformat": 4,
 "nbformat_minor": 2
}
