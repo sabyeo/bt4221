{
 "cells": [
  {
   "cell_type": "code",
   "execution_count": 1,
   "metadata": {},
   "outputs": [],
   "source": [
    "import os\n",
    "import requests\n",
    "import datetime\n",
    "import time\n",
    "import numpy as np\n",
    "import pandas as pd\n",
    "from bs4 import BeautifulSoup\n",
    "from selenium.webdriver import Chrome\n",
    "from selenium.webdriver.chrome.options import Options\n",
    "from selenium.webdriver.common.action_chains import ActionChains\n",
    "from webdriver_manager.chrome import ChromeDriverManager"
   ]
  },
  {
   "cell_type": "code",
   "execution_count": 2,
   "metadata": {},
   "outputs": [
    {
     "name": "stderr",
     "output_type": "stream",
     "text": [
      "[WDM] - ====== WebDriver manager ======\n",
      "[WDM] - Current google-chrome version is 110.0.5481\n",
      "[WDM] - Get LATEST driver version for 110.0.5481\n"
     ]
    },
    {
     "name": "stdout",
     "output_type": "stream",
     "text": [
      "\n",
      "\n"
     ]
    },
    {
     "name": "stderr",
     "output_type": "stream",
     "text": [
      "[WDM] - Driver [/Users/natalie/.wdm/drivers/chromedriver/mac64/110.0.5481.77/chromedriver] found in cache\n"
     ]
    }
   ],
   "source": [
    "options = Options()\n",
    "browser = Chrome(ChromeDriverManager().install(), options=options)"
   ]
  },
  {
   "attachments": {},
   "cell_type": "markdown",
   "metadata": {},
   "source": [
    "## Collect All Reviews for a Reviewer"
   ]
  },
  {
   "cell_type": "code",
   "execution_count": null,
   "metadata": {},
   "outputs": [],
   "source": [
    "userhandle = \"DanielFoodDiary\" ### TO CHANGE HERE\n",
    "URL = \"https://www.burpple.com/@\" + userhandle + \"/timeline\""
   ]
  },
  {
   "cell_type": "code",
   "execution_count": null,
   "metadata": {},
   "outputs": [],
   "source": [
    "browser.get(URL)"
   ]
  },
  {
   "cell_type": "code",
   "execution_count": null,
   "metadata": {},
   "outputs": [],
   "source": [
    "load_more = True\n",
    "while load_more:\n",
    "    try:\n",
    "        browser.execute_script(\"window.scrollTo(0, document.body.scrollHeight);\")\n",
    "        more_reviews = browser.find_element_by_id(\"masonryViewMore-btn\")\n",
    "        time.sleep(1)\n",
    "        more_reviews.click()\n",
    "        time.sleep(1)\n",
    "    except:\n",
    "        load_more = False"
   ]
  },
  {
   "cell_type": "code",
   "execution_count": null,
   "metadata": {},
   "outputs": [],
   "source": [
    "# find all reviews by a given revier\n",
    "page_html = BeautifulSoup(browser.page_source, \"html.parser\")\n",
    "all_reviews = page_html.findAll(class_=\"food card feed-item\")"
   ]
  },
  {
   "cell_type": "code",
   "execution_count": null,
   "metadata": {},
   "outputs": [],
   "source": [
    "reviews_by_reviewer = []\n",
    "for review_listing in all_reviews:\n",
    "    # name and address\n",
    "    header = review_listing.find(class_=\"food-place card-item card-item--header\")\n",
    "    try: \n",
    "        name = header.find(class_=\"card-item-set--link-title\").text\n",
    "        name = name.replace('\\n', '')\n",
    "\n",
    "        address = review_listing.find(class_=\"card-item-set--link-subtitle\").text\n",
    "        address = address.replace('\\n', '')\n",
    "    except:\n",
    "        name = None\n",
    "        address = None\n",
    "\n",
    "    # review\n",
    "    review = review_listing.find(class_=\"food-description\").text\n",
    "\n",
    "    # date\n",
    "    user_card = review_listing.find(class_=\"food-user card-item\")\n",
    "    try:\n",
    "        date = user_card.find(class_=\"card-item-set--link-subtitle\").text\n",
    "        date = date.replace('\\n', '')\n",
    "    except:\n",
    "        date = None\n",
    "\n",
    "    # restaurant listing link\n",
    "    link = review_listing.find_all(\"a\", href=True)[0]['href']\n",
    "    link = 'https://www.burpple.com' + link\n",
    "\n",
    "    reviews_by_reviewer.append([name, address, review, date, link])"
   ]
  },
  {
   "cell_type": "code",
   "execution_count": null,
   "metadata": {},
   "outputs": [],
   "source": [
    "reviews_by_reviewer_df = pd.DataFrame(reviews_by_reviewer, columns=['name', 'address', 'review', 'date', 'link'])"
   ]
  },
  {
   "cell_type": "code",
   "execution_count": null,
   "metadata": {},
   "outputs": [],
   "source": [
    "reviews_by_reviewer_df.head(3)"
   ]
  },
  {
   "cell_type": "code",
   "execution_count": null,
   "metadata": {},
   "outputs": [],
   "source": [
    "reviews_by_reviewer_df.to_csv(\"reviewer-data/\" + userhandle + \"_reviews.csv\")"
   ]
  }
 ],
 "metadata": {
  "kernelspec": {
   "display_name": "Python 3",
   "language": "python",
   "name": "python3"
  },
  "language_info": {
   "codemirror_mode": {
    "name": "ipython",
    "version": 3
   },
   "file_extension": ".py",
   "mimetype": "text/x-python",
   "name": "python",
   "nbconvert_exporter": "python",
   "pygments_lexer": "ipython3",
   "version": "3.7.4"
  },
  "orig_nbformat": 4,
  "vscode": {
   "interpreter": {
    "hash": "aee8b7b246df8f9039afb4144a1f6fd8d2ca17a180786b69acc140d282b71a49"
   }
  }
 },
 "nbformat": 4,
 "nbformat_minor": 2
}
