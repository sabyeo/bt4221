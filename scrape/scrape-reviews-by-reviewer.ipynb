{
 "cells": [
  {
   "cell_type": "code",
   "execution_count": 1,
   "metadata": {},
   "outputs": [],
   "source": [
    "import os\n",
    "import requests\n",
    "import datetime\n",
    "import time\n",
    "import numpy as np\n",
    "import pandas as pd\n",
    "from bs4 import BeautifulSoup\n",
    "from selenium.webdriver import Chrome\n",
    "from selenium.webdriver.chrome.options import Options\n",
    "from selenium.webdriver.common.action_chains import ActionChains\n",
    "from webdriver_manager.chrome import ChromeDriverManager\n",
    "from selenium.webdriver.common.by import By\n",
    "from selenium.webdriver.support.ui import WebDriverWait\n",
    "from selenium.webdriver.support import expected_conditions as EC\n",
    "from selenium.webdriver.common.keys import Keys"
   ]
  },
  {
   "cell_type": "code",
   "execution_count": 2,
   "metadata": {},
   "outputs": [
    {
     "name": "stderr",
     "output_type": "stream",
     "text": [
      "[WDM] - ====== WebDriver manager ======\n",
      "[WDM] - Current google-chrome version is 110.0.5481\n",
      "[WDM] - Get LATEST driver version for 110.0.5481\n",
      "[WDM] - Driver [/Users/natalie/.wdm/drivers/chromedriver/mac64/110.0.5481.77/chromedriver] found in cache\n"
     ]
    },
    {
     "name": "stdout",
     "output_type": "stream",
     "text": [
      "\n",
      "\n"
     ]
    }
   ],
   "source": [
    "options = Options()\n",
    "browser = Chrome(ChromeDriverManager().install(), options=options)"
   ]
  },
  {
   "cell_type": "code",
   "execution_count": 3,
   "metadata": {},
   "outputs": [],
   "source": [
    "browser.maximize_window()\n",
    "time.sleep(5)"
   ]
  },
  {
   "attachments": {},
   "cell_type": "markdown",
   "metadata": {},
   "source": [
    "## Collect All Reviews for a Reviewer"
   ]
  },
  {
   "cell_type": "code",
   "execution_count": 4,
   "metadata": {},
   "outputs": [],
   "source": [
    "userhandle = \"the_xw\" ### TO CHANGE HERE\n",
    "URL = \"https://www.burpple.com/@\" + userhandle + \"/timeline\""
   ]
  },
  {
   "cell_type": "code",
   "execution_count": 5,
   "metadata": {},
   "outputs": [],
   "source": [
    "browser.get(URL)"
   ]
  },
  {
   "cell_type": "code",
   "execution_count": 6,
   "metadata": {},
   "outputs": [
    {
     "name": "stdout",
     "output_type": "stream",
     "text": [
      "0\n",
      "100\n",
      "200\n",
      "300\n",
      "400\n",
      "Message: \n",
      "\n"
     ]
    }
   ],
   "source": [
    "load_more = True\n",
    "page_count = 0\n",
    "while load_more:\n",
    "    if (page_count % 100 == 0):\n",
    "        print(page_count)\n",
    "    try:\n",
    "        browser.execute_script(\"window.scrollTo(0, document.body.scrollHeight);\")\n",
    "        more_reviews = WebDriverWait(browser, 15).until(\n",
    "            EC.element_to_be_clickable((By.ID, \"masonryViewMore-btn\")))\n",
    "        more_reviews.send_keys(Keys.ENTER)\n",
    "        time.sleep(3)\n",
    "        page_count +=1\n",
    "    except Exception as e:\n",
    "        load_more = False\n",
    "        print(e)"
   ]
  },
  {
   "cell_type": "code",
   "execution_count": 7,
   "metadata": {},
   "outputs": [],
   "source": [
    "# find all reviews by a given revier\n",
    "page_html = BeautifulSoup(browser.page_source, \"html.parser\")\n",
    "all_reviews = page_html.findAll(class_=\"food card feed-item\")"
   ]
  },
  {
   "cell_type": "code",
   "execution_count": 14,
   "metadata": {},
   "outputs": [
    {
     "data": {
      "text/plain": [
       "1"
      ]
     },
     "execution_count": 14,
     "metadata": {},
     "output_type": "execute_result"
    }
   ],
   "source": [
    "len(all_reviews)"
   ]
  },
  {
   "cell_type": "code",
   "execution_count": 9,
   "metadata": {},
   "outputs": [],
   "source": [
    "reviews_by_reviewer = []\n",
    "for review_listing in all_reviews:\n",
    "    # name and address\n",
    "    header = review_listing.find(class_=\"food-place card-item card-item--header\")\n",
    "    try: \n",
    "        name = header.find(class_=\"card-item-set--link-title\").text\n",
    "        name = name.replace('\\n', '')\n",
    "\n",
    "        address = review_listing.find(class_=\"card-item-set--link-subtitle\").text\n",
    "        address = address.replace('\\n', '')\n",
    "    except:\n",
    "        name = None\n",
    "        address = None\n",
    "\n",
    "    # review\n",
    "    review = review_listing.find(class_=\"food-description\").text\n",
    "\n",
    "    # date\n",
    "    user_card = review_listing.find(class_=\"food-user card-item\")\n",
    "    try:\n",
    "        date = user_card.find(class_=\"card-item-set--link-subtitle\").text\n",
    "        date = date.replace('\\n', '')\n",
    "    except:\n",
    "        date = None\n",
    "\n",
    "    # restaurant listing link\n",
    "    link = review_listing.find_all(\"a\", href=True)[0]['href']\n",
    "    link = 'https://www.burpple.com' + link\n",
    "\n",
    "    reviews_by_reviewer.append([name, address, review, date, link])"
   ]
  },
  {
   "cell_type": "code",
   "execution_count": 10,
   "metadata": {},
   "outputs": [],
   "source": [
    "reviews_by_reviewer_df = pd.DataFrame(reviews_by_reviewer, columns=['name', 'address', 'review', 'date', 'link'])"
   ]
  },
  {
   "cell_type": "code",
   "execution_count": 11,
   "metadata": {},
   "outputs": [
    {
     "data": {
      "text/html": [
       "<div>\n",
       "<style scoped>\n",
       "    .dataframe tbody tr th:only-of-type {\n",
       "        vertical-align: middle;\n",
       "    }\n",
       "\n",
       "    .dataframe tbody tr th {\n",
       "        vertical-align: top;\n",
       "    }\n",
       "\n",
       "    .dataframe thead th {\n",
       "        text-align: right;\n",
       "    }\n",
       "</style>\n",
       "<table border=\"1\" class=\"dataframe\">\n",
       "  <thead>\n",
       "    <tr style=\"text-align: right;\">\n",
       "      <th></th>\n",
       "      <th>name</th>\n",
       "      <th>address</th>\n",
       "      <th>review</th>\n",
       "      <th>date</th>\n",
       "      <th>link</th>\n",
       "    </tr>\n",
       "  </thead>\n",
       "  <tbody>\n",
       "    <tr>\n",
       "      <th>0</th>\n",
       "      <td>The Cold Pantry</td>\n",
       "      <td>88 Rangoon Road, Singapore</td>\n",
       "      <td>\\nCookies &amp; Cream Waffle with Cookie Monster s...</td>\n",
       "      <td>May 18, 2015</td>\n",
       "      <td>https://www.burpple.com/the-cold-pantry?bp_ref...</td>\n",
       "    </tr>\n",
       "  </tbody>\n",
       "</table>\n",
       "</div>"
      ],
      "text/plain": [
       "              name                     address  \\\n",
       "0  The Cold Pantry  88 Rangoon Road, Singapore   \n",
       "\n",
       "                                              review          date  \\\n",
       "0  \\nCookies & Cream Waffle with Cookie Monster s...  May 18, 2015   \n",
       "\n",
       "                                                link  \n",
       "0  https://www.burpple.com/the-cold-pantry?bp_ref...  "
      ]
     },
     "execution_count": 11,
     "metadata": {},
     "output_type": "execute_result"
    }
   ],
   "source": [
    "reviews_by_reviewer_df"
   ]
  },
  {
   "cell_type": "code",
   "execution_count": 12,
   "metadata": {},
   "outputs": [],
   "source": [
    "reviews_by_reviewer_df.to_csv(\"reviewer-data/\" + userhandle + \"_reviews.csv\")"
   ]
  }
 ],
 "metadata": {
  "kernelspec": {
   "display_name": "Python 3",
   "language": "python",
   "name": "python3"
  },
  "language_info": {
   "codemirror_mode": {
    "name": "ipython",
    "version": 3
   },
   "file_extension": ".py",
   "mimetype": "text/x-python",
   "name": "python",
   "nbconvert_exporter": "python",
   "pygments_lexer": "ipython3",
   "version": "3.7.4"
  },
  "orig_nbformat": 4,
  "vscode": {
   "interpreter": {
    "hash": "aee8b7b246df8f9039afb4144a1f6fd8d2ca17a180786b69acc140d282b71a49"
   }
  }
 },
 "nbformat": 4,
 "nbformat_minor": 2
}
