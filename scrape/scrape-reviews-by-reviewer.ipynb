{
 "cells": [
  {
   "cell_type": "code",
   "execution_count": 89,
   "metadata": {},
   "outputs": [],
   "source": [
    "import os\n",
    "import requests\n",
    "import datetime\n",
    "import time\n",
    "import numpy as np\n",
    "import pandas as pd\n",
    "from bs4 import BeautifulSoup\n",
    "from selenium.webdriver import Chrome\n",
    "from selenium.webdriver.chrome.options import Options\n",
    "from selenium.webdriver.common.action_chains import ActionChains\n",
    "from webdriver_manager.chrome import ChromeDriverManager\n",
    "from selenium.webdriver.common.by import By\n",
    "from selenium.webdriver.support.ui import WebDriverWait\n",
    "from selenium.webdriver.support import expected_conditions as EC\n",
    "from selenium.webdriver.common.keys import Keys"
   ]
  },
  {
   "cell_type": "code",
   "execution_count": 90,
   "metadata": {},
   "outputs": [
    {
     "name": "stderr",
     "output_type": "stream",
     "text": [
      "/var/folders/74/n55gd6gs38n5wj2k6hwrc_yc0000gn/T/ipykernel_46043/748855775.py:2: DeprecationWarning: executable_path has been deprecated, please pass in a Service object\n",
      "  browser = Chrome(ChromeDriverManager().install(), options=options)\n"
     ]
    }
   ],
   "source": [
    "options = Options()\n",
    "browser = Chrome(ChromeDriverManager().install(), options=options)"
   ]
  },
  {
   "cell_type": "code",
   "execution_count": 91,
   "metadata": {},
   "outputs": [],
   "source": [
    "browser.maximize_window()\n",
    "time.sleep(5)"
   ]
  },
  {
   "attachments": {},
   "cell_type": "markdown",
   "metadata": {},
   "source": [
    "## Collect All Reviews for a Reviewer"
   ]
  },
  {
   "cell_type": "code",
   "execution_count": 92,
   "metadata": {},
   "outputs": [],
   "source": [
<<<<<<< HEAD
    "userhandle = \"thiampeng\" ### TO CHANGE HERE\n",
=======
    "userhandle = \"the_xw\" ### TO CHANGE HERE\n",
>>>>>>> 39f3193566424503f88d35fd807f70f3f6a7a5bb
    "URL = \"https://www.burpple.com/@\" + userhandle + \"/timeline\""
   ]
  },
  {
   "cell_type": "code",
   "execution_count": 93,
   "metadata": {},
   "outputs": [],
   "source": [
    "browser.get(URL)"
   ]
  },
  {
   "cell_type": "code",
   "execution_count": 94,
   "metadata": {},
   "outputs": [
    {
     "name": "stdout",
     "output_type": "stream",
     "text": [
      "0\n",
      "100\n",
      "200\n",
      "300\n",
      "400\n",
      "Message: \n",
<<<<<<< HEAD
      "Stacktrace:\n",
      "0   chromedriver                        0x0000000105438138 chromedriver + 4923704\n",
      "1   chromedriver                        0x00000001053b09d3 chromedriver + 4368851\n",
      "2   chromedriver                        0x0000000104ff9787 chromedriver + 472967\n",
      "3   chromedriver                        0x000000010503dba3 chromedriver + 752547\n",
      "4   chromedriver                        0x000000010503ddf1 chromedriver + 753137\n",
      "5   chromedriver                        0x0000000105084734 chromedriver + 1042228\n",
      "6   chromedriver                        0x0000000105066fdd chromedriver + 921565\n",
      "7   chromedriver                        0x0000000105081c0f chromedriver + 1031183\n",
      "8   chromedriver                        0x0000000105066d23 chromedriver + 920867\n",
      "9   chromedriver                        0x000000010502da4b chromedriver + 686667\n",
      "10  chromedriver                        0x000000010502f044 chromedriver + 692292\n",
      "11  chromedriver                        0x00000001054038fe chromedriver + 4708606\n",
      "12  chromedriver                        0x0000000105408e22 chromedriver + 4730402\n",
      "13  chromedriver                        0x00000001054116bf chromedriver + 4765375\n",
      "14  chromedriver                        0x0000000105409e80 chromedriver + 4734592\n",
      "15  chromedriver                        0x00000001053da975 chromedriver + 4540789\n",
      "16  chromedriver                        0x000000010542be78 chromedriver + 4873848\n",
      "17  chromedriver                        0x000000010542bff5 chromedriver + 4874229\n",
      "18  chromedriver                        0x00000001054406de chromedriver + 4957918\n",
      "19  libsystem_pthread.dylib             0x00007ff813c8d4e1 _pthread_start + 125\n",
      "20  libsystem_pthread.dylib             0x00007ff813c88f6b thread_start + 15\n",
=======
>>>>>>> 39f3193566424503f88d35fd807f70f3f6a7a5bb
      "\n"
     ]
    }
   ],
   "source": [
    "load_more = True\n",
    "page_count = 0\n",
    "while load_more:\n",
    "    if (page_count % 100 == 0):\n",
    "        print(page_count)\n",
    "    try:\n",
    "        browser.execute_script(\"window.scrollTo(0, document.body.scrollHeight);\")\n",
    "        more_reviews = WebDriverWait(browser, 15).until(\n",
    "            EC.element_to_be_clickable((By.ID, \"masonryViewMore-btn\")))\n",
    "        more_reviews.send_keys(Keys.ENTER)\n",
    "        time.sleep(3)\n",
    "        page_count +=1\n",
    "    except Exception as e:\n",
    "        load_more = False\n",
    "        print(e)"
   ]
  },
  {
   "cell_type": "code",
<<<<<<< HEAD
   "execution_count": 95,
=======
   "execution_count": 7,
>>>>>>> 39f3193566424503f88d35fd807f70f3f6a7a5bb
   "metadata": {},
   "outputs": [],
   "source": [
    "# find all reviews by a given revier\n",
    "page_html = BeautifulSoup(browser.page_source, \"html.parser\")\n",
    "all_reviews = page_html.findAll(class_=\"food card feed-item\")"
   ]
  },
  {
   "cell_type": "code",
<<<<<<< HEAD
   "execution_count": 96,
=======
   "execution_count": 14,
>>>>>>> 39f3193566424503f88d35fd807f70f3f6a7a5bb
   "metadata": {},
   "outputs": [
    {
     "data": {
      "text/plain": [
<<<<<<< HEAD
       "5086"
      ]
     },
     "execution_count": 96,
=======
       "1"
      ]
     },
     "execution_count": 14,
>>>>>>> 39f3193566424503f88d35fd807f70f3f6a7a5bb
     "metadata": {},
     "output_type": "execute_result"
    }
   ],
   "source": [
    "len(all_reviews)"
   ]
  },
  {
   "cell_type": "code",
<<<<<<< HEAD
   "execution_count": 97,
=======
   "execution_count": 9,
>>>>>>> 39f3193566424503f88d35fd807f70f3f6a7a5bb
   "metadata": {},
   "outputs": [],
   "source": [
    "reviews_by_reviewer = []\n",
    "for review_listing in all_reviews:\n",
    "    # name and address\n",
    "    header = review_listing.find(class_=\"food-place card-item card-item--header\")\n",
    "    try: \n",
    "        name = header.find(class_=\"card-item-set--link-title\").text\n",
    "        name = name.replace('\\n', '')\n",
    "\n",
    "        address = review_listing.find(class_=\"card-item-set--link-subtitle\").text\n",
    "        address = address.replace('\\n', '')\n",
    "    except:\n",
    "        name = None\n",
    "        address = None\n",
    "\n",
    "    # review\n",
    "    review = review_listing.find(class_=\"food-description\").text\n",
    "\n",
    "    # date\n",
    "    user_card = review_listing.find(class_=\"food-user card-item\")\n",
    "    try:\n",
    "        date = user_card.find(class_=\"card-item-set--link-subtitle\").text\n",
    "        date = date.replace('\\n', '')\n",
    "    except:\n",
    "        date = None\n",
    "\n",
    "    # restaurant listing link\n",
    "    link = review_listing.find_all(\"a\", href=True)[0]['href']\n",
    "    link = 'https://www.burpple.com' + link\n",
    "\n",
    "    reviews_by_reviewer.append([name, address, review, date, link])"
   ]
  },
  {
   "cell_type": "code",
<<<<<<< HEAD
   "execution_count": 98,
=======
   "execution_count": 10,
>>>>>>> 39f3193566424503f88d35fd807f70f3f6a7a5bb
   "metadata": {},
   "outputs": [],
   "source": [
    "reviews_by_reviewer_df = pd.DataFrame(reviews_by_reviewer, columns=['name', 'address', 'review', 'date', 'link'])"
   ]
  },
  {
   "cell_type": "code",
<<<<<<< HEAD
   "execution_count": 99,
=======
   "execution_count": 11,
>>>>>>> 39f3193566424503f88d35fd807f70f3f6a7a5bb
   "metadata": {},
   "outputs": [
    {
     "data": {
      "text/html": [
       "<div>\n",
       "<style scoped>\n",
       "    .dataframe tbody tr th:only-of-type {\n",
       "        vertical-align: middle;\n",
       "    }\n",
       "\n",
       "    .dataframe tbody tr th {\n",
       "        vertical-align: top;\n",
       "    }\n",
       "\n",
       "    .dataframe thead th {\n",
       "        text-align: right;\n",
       "    }\n",
       "</style>\n",
       "<table border=\"1\" class=\"dataframe\">\n",
       "  <thead>\n",
       "    <tr style=\"text-align: right;\">\n",
       "      <th></th>\n",
       "      <th>name</th>\n",
       "      <th>address</th>\n",
       "      <th>review</th>\n",
       "      <th>date</th>\n",
       "      <th>link</th>\n",
       "    </tr>\n",
       "  </thead>\n",
       "  <tbody>\n",
       "    <tr>\n",
       "      <th>0</th>\n",
<<<<<<< HEAD
       "      <td>Estate</td>\n",
       "      <td>333 Orchard Road, Singapore</td>\n",
       "      <td>\\nChee Cheong Fun\\nHong Kong style but plain. ...</td>\n",
       "      <td>18h ago</td>\n",
       "      <td>https://www.burpple.com/estate-1?bp_ref=%2Ff%2...</td>\n",
       "    </tr>\n",
       "    <tr>\n",
       "      <th>1</th>\n",
       "      <td>Estate</td>\n",
       "      <td>333 Orchard Road, Singapore</td>\n",
       "      <td>\\nPrawn Mee\\nFrom a live cooking station. It's...</td>\n",
       "      <td>18h ago</td>\n",
       "      <td>https://www.burpple.com/estate-1?bp_ref=%2Ff%2...</td>\n",
       "    </tr>\n",
       "    <tr>\n",
       "      <th>2</th>\n",
       "      <td>Estate</td>\n",
       "      <td>333 Orchard Road, Singapore</td>\n",
       "      <td>\\nAsian breakfast\\nLol I don't excuse Asian ho...</td>\n",
       "      <td>2d ago</td>\n",
       "      <td>https://www.burpple.com/estate-1?bp_ref=%2Ff%2...</td>\n",
       "    </tr>\n",
       "    <tr>\n",
       "      <th>3</th>\n",
       "      <td>Estate</td>\n",
       "      <td>333 Orchard Road, Singapore</td>\n",
       "      <td>\\nBreakfast\\nFour kinds of eggs hahaha - omele...</td>\n",
       "      <td>2d ago</td>\n",
       "      <td>https://www.burpple.com/estate-1?bp_ref=%2Ff%2...</td>\n",
       "    </tr>\n",
       "    <tr>\n",
       "      <th>4</th>\n",
       "      <td>Hansik Korean Family Restaurant (Heartland Mall)</td>\n",
       "      <td>205 Hougang Street 21, Singapore</td>\n",
       "      <td>\\nJjamppong\\nQuite disappointing. A good jjamp...</td>\n",
       "      <td>3d ago</td>\n",
       "      <td>https://www.burpple.com/hansik-korean-restaura...</td>\n",
       "    </tr>\n",
       "    <tr>\n",
       "      <th>...</th>\n",
       "      <td>...</td>\n",
       "      <td>...</td>\n",
       "      <td>...</td>\n",
       "      <td>...</td>\n",
       "      <td>...</td>\n",
       "    </tr>\n",
       "    <tr>\n",
       "      <th>5081</th>\n",
       "      <td>Chen's Mapo Tofu (Downtown Galle...</td>\n",
       "      <td>6A Shenton Way, Singapore       ...</td>\n",
       "      <td>\\nMichelin Mapo Tofu\\nCan tell why this earned...</td>\n",
       "      <td>May 4, 2018</td>\n",
       "      <td>https://www.burpple.com/chens-mapo-tofu?bp_ref...</td>\n",
       "    </tr>\n",
       "    <tr>\n",
       "      <th>5082</th>\n",
       "      <td>Spuds &amp; Aprons</td>\n",
       "      <td>109 Mount Faber Road, Singapore ...</td>\n",
       "      <td>\\nCrab Tian With Oyster\\nGood.\\n</td>\n",
       "      <td>May 3, 2018</td>\n",
       "      <td>https://www.burpple.com/spuds-aprons?bp_ref=%2...</td>\n",
       "    </tr>\n",
       "    <tr>\n",
       "      <th>5083</th>\n",
       "      <td>JB Ah Meng</td>\n",
       "      <td>534 Geylang Road, Singapore     ...</td>\n",
       "      <td>\\nGreen Dragon Vegetable\\nThe not-so-common Ma...</td>\n",
       "      <td>May 3, 2018</td>\n",
       "      <td>https://www.burpple.com/jb-ahmeng?bp_ref=%2Ff%...</td>\n",
       "    </tr>\n",
       "    <tr>\n",
       "      <th>5084</th>\n",
       "      <td>Laffio</td>\n",
       "      <td>337 Beach Road, Singapore       ...</td>\n",
       "      <td>\\nMeatball Carbonara\\nShiok but small.\\n</td>\n",
       "      <td>May 3, 2018</td>\n",
       "      <td>https://www.burpple.com/laffio?bp_ref=%2Ff%2FK...</td>\n",
       "    </tr>\n",
       "    <tr>\n",
       "      <th>5085</th>\n",
       "      <td>Arbite</td>\n",
       "      <td>66A Serangoon Garden Way, Singap...</td>\n",
       "      <td>\\nPappardelle With Parma Ham\\n...and some wrap...</td>\n",
       "      <td>May 3, 2018</td>\n",
       "      <td>https://www.burpple.com/arbite?bp_ref=%2Ff%2FU...</td>\n",
       "    </tr>\n",
       "  </tbody>\n",
       "</table>\n",
       "<p>5086 rows × 5 columns</p>\n",
       "</div>"
      ],
      "text/plain": [
       "                                                   name  \\\n",
       "0                                                Estate   \n",
       "1                                                Estate   \n",
       "2                                                Estate   \n",
       "3                                                Estate   \n",
       "4      Hansik Korean Family Restaurant (Heartland Mall)   \n",
       "...                                                 ...   \n",
       "5081                Chen's Mapo Tofu (Downtown Galle...   \n",
       "5082                         Spuds & Aprons               \n",
       "5083                             JB Ah Meng               \n",
       "5084                                 Laffio               \n",
       "5085                                 Arbite               \n",
       "\n",
       "                                                address  \\\n",
       "0                           333 Orchard Road, Singapore   \n",
       "1                           333 Orchard Road, Singapore   \n",
       "2                           333 Orchard Road, Singapore   \n",
       "3                           333 Orchard Road, Singapore   \n",
       "4                      205 Hougang Street 21, Singapore   \n",
       "...                                                 ...   \n",
       "5081                6A Shenton Way, Singapore       ...   \n",
       "5082                109 Mount Faber Road, Singapore ...   \n",
       "5083                534 Geylang Road, Singapore     ...   \n",
       "5084                337 Beach Road, Singapore       ...   \n",
       "5085                66A Serangoon Garden Way, Singap...   \n",
       "\n",
       "                                                 review  \\\n",
       "0     \\nChee Cheong Fun\\nHong Kong style but plain. ...   \n",
       "1     \\nPrawn Mee\\nFrom a live cooking station. It's...   \n",
       "2     \\nAsian breakfast\\nLol I don't excuse Asian ho...   \n",
       "3     \\nBreakfast\\nFour kinds of eggs hahaha - omele...   \n",
       "4     \\nJjamppong\\nQuite disappointing. A good jjamp...   \n",
       "...                                                 ...   \n",
       "5081  \\nMichelin Mapo Tofu\\nCan tell why this earned...   \n",
       "5082                   \\nCrab Tian With Oyster\\nGood.\\n   \n",
       "5083  \\nGreen Dragon Vegetable\\nThe not-so-common Ma...   \n",
       "5084           \\nMeatball Carbonara\\nShiok but small.\\n   \n",
       "5085  \\nPappardelle With Parma Ham\\n...and some wrap...   \n",
       "\n",
       "                                       date  \\\n",
       "0                                   18h ago   \n",
       "1                                   18h ago   \n",
       "2                                    2d ago   \n",
       "3                                    2d ago   \n",
       "4                                    3d ago   \n",
       "...                                     ...   \n",
       "5081                May 4, 2018               \n",
       "5082                May 3, 2018               \n",
       "5083                May 3, 2018               \n",
       "5084                May 3, 2018               \n",
       "5085                May 3, 2018               \n",
       "\n",
       "                                                   link  \n",
       "0     https://www.burpple.com/estate-1?bp_ref=%2Ff%2...  \n",
       "1     https://www.burpple.com/estate-1?bp_ref=%2Ff%2...  \n",
       "2     https://www.burpple.com/estate-1?bp_ref=%2Ff%2...  \n",
       "3     https://www.burpple.com/estate-1?bp_ref=%2Ff%2...  \n",
       "4     https://www.burpple.com/hansik-korean-restaura...  \n",
       "...                                                 ...  \n",
       "5081  https://www.burpple.com/chens-mapo-tofu?bp_ref...  \n",
       "5082  https://www.burpple.com/spuds-aprons?bp_ref=%2...  \n",
       "5083  https://www.burpple.com/jb-ahmeng?bp_ref=%2Ff%...  \n",
       "5084  https://www.burpple.com/laffio?bp_ref=%2Ff%2FK...  \n",
       "5085  https://www.burpple.com/arbite?bp_ref=%2Ff%2FU...  \n",
       "\n",
       "[5086 rows x 5 columns]"
      ]
     },
     "execution_count": 99,
=======
       "      <td>The Cold Pantry</td>\n",
       "      <td>88 Rangoon Road, Singapore</td>\n",
       "      <td>\\nCookies &amp; Cream Waffle with Cookie Monster s...</td>\n",
       "      <td>May 18, 2015</td>\n",
       "      <td>https://www.burpple.com/the-cold-pantry?bp_ref...</td>\n",
       "    </tr>\n",
       "  </tbody>\n",
       "</table>\n",
       "</div>"
      ],
      "text/plain": [
       "              name                     address  \\\n",
       "0  The Cold Pantry  88 Rangoon Road, Singapore   \n",
       "\n",
       "                                              review          date  \\\n",
       "0  \\nCookies & Cream Waffle with Cookie Monster s...  May 18, 2015   \n",
       "\n",
       "                                                link  \n",
       "0  https://www.burpple.com/the-cold-pantry?bp_ref...  "
      ]
     },
     "execution_count": 11,
>>>>>>> 39f3193566424503f88d35fd807f70f3f6a7a5bb
     "metadata": {},
     "output_type": "execute_result"
    }
   ],
   "source": [
    "reviews_by_reviewer_df"
   ]
  },
  {
   "cell_type": "code",
<<<<<<< HEAD
   "execution_count": 100,
=======
   "execution_count": 12,
>>>>>>> 39f3193566424503f88d35fd807f70f3f6a7a5bb
   "metadata": {},
   "outputs": [],
   "source": [
    "reviews_by_reviewer_df.to_csv(\"reviewer-data/\" + userhandle + \"_reviews.csv\")"
   ]
  }
 ],
 "metadata": {
  "kernelspec": {
   "display_name": "Python 3",
   "language": "python",
   "name": "python3"
  },
  "language_info": {
   "codemirror_mode": {
    "name": "ipython",
    "version": 3
   },
   "file_extension": ".py",
   "mimetype": "text/x-python",
   "name": "python",
   "nbconvert_exporter": "python",
   "pygments_lexer": "ipython3",
   "version": "3.7.4"
  },
  "orig_nbformat": 4,
  "vscode": {
   "interpreter": {
    "hash": "aee8b7b246df8f9039afb4144a1f6fd8d2ca17a180786b69acc140d282b71a49"
   }
  }
 },
 "nbformat": 4,
 "nbformat_minor": 2
}
