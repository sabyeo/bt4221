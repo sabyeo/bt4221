{
 "cells": [
  {
   "cell_type": "code",
   "execution_count": 1,
   "metadata": {},
   "outputs": [],
   "source": [
    "import os\n",
    "import requests\n",
    "import datetime\n",
    "import time\n",
    "import numpy as np\n",
    "import pandas as pd\n",
    "from bs4 import BeautifulSoup\n",
    "from selenium.webdriver import Chrome\n",
    "from selenium.webdriver.chrome.options import Options\n",
    "from selenium.webdriver.common.action_chains import ActionChains\n",
    "from webdriver_manager.chrome import ChromeDriverManager"
   ]
  },
  {
   "cell_type": "code",
   "execution_count": 2,
   "metadata": {},
   "outputs": [
    {
     "name": "stderr",
     "output_type": "stream",
     "text": [
      "/var/folders/74/n55gd6gs38n5wj2k6hwrc_yc0000gn/T/ipykernel_46043/748855775.py:2: DeprecationWarning: executable_path has been deprecated, please pass in a Service object\n",
      "  browser = Chrome(ChromeDriverManager().install(), options=options)\n"
     ]
    }
   ],
   "source": [
    "options = Options()\n",
    "browser = Chrome(ChromeDriverManager().install(), options=options)"
   ]
  },
  {
   "attachments": {},
   "cell_type": "markdown",
   "metadata": {},
   "source": [
    "## Collect All Reviews for a Reviewer"
   ]
  },
  {
   "cell_type": "code",
   "execution_count": 12,
   "metadata": {},
   "outputs": [],
   "source": [
    "userhandle = \"alamakgirl\" ### TO CHANGE HERE\n",
    "URL = \"https://www.burpple.com/@\" + userhandle + \"/timeline\""
   ]
  },
  {
   "cell_type": "code",
   "execution_count": 13,
   "metadata": {},
   "outputs": [],
   "source": [
    "browser.get(URL)"
   ]
  },
  {
   "cell_type": "code",
   "execution_count": 14,
   "metadata": {},
   "outputs": [],
   "source": [
    "load_more = True\n",
    "while load_more:\n",
    "    try:\n",
    "        browser.execute_script(\"window.scrollTo(0, document.body.scrollHeight);\")\n",
    "        more_reviews = browser.find_element(\"id\", \"masonryViewMore-btn\")\n",
    "        time.sleep(1)\n",
    "        more_reviews.click()\n",
    "        time.sleep(1)\n",
    "    except Exception as e:\n",
    "        load_more = False\n",
    "        print(e)\n",
    "        "
   ]
  },
  {
   "cell_type": "code",
   "execution_count": 15,
   "metadata": {},
   "outputs": [],
   "source": [
    "# find all reviews by a given revier\n",
    "page_html = BeautifulSoup(browser.page_source, \"html.parser\")\n",
    "all_reviews = page_html.findAll(class_=\"food card feed-item\")"
   ]
  },
  {
   "cell_type": "code",
   "execution_count": 16,
   "metadata": {},
   "outputs": [],
   "source": [
    "reviews_by_reviewer = []\n",
    "for review_listing in all_reviews:\n",
    "    # name and address\n",
    "    header = review_listing.find(class_=\"food-place card-item card-item--header\")\n",
    "    try: \n",
    "        name = header.find(class_=\"card-item-set--link-title\").text\n",
    "        name = name.replace('\\n', '')\n",
    "\n",
    "        address = review_listing.find(class_=\"card-item-set--link-subtitle\").text\n",
    "        address = address.replace('\\n', '')\n",
    "    except:\n",
    "        name = None\n",
    "        address = None\n",
    "\n",
    "    # review\n",
    "    review = review_listing.find(class_=\"food-description\").text\n",
    "\n",
    "    # date\n",
    "    user_card = review_listing.find(class_=\"food-user card-item\")\n",
    "    try:\n",
    "        date = user_card.find(class_=\"card-item-set--link-subtitle\").text\n",
    "        date = date.replace('\\n', '')\n",
    "    except:\n",
    "        date = None\n",
    "\n",
    "    # restaurant listing link\n",
    "    link = review_listing.find_all(\"a\", href=True)[0]['href']\n",
    "    link = 'https://www.burpple.com' + link\n",
    "\n",
    "    reviews_by_reviewer.append([name, address, review, date, link])"
   ]
  },
  {
   "cell_type": "code",
   "execution_count": 17,
   "metadata": {},
   "outputs": [],
   "source": [
    "reviews_by_reviewer_df = pd.DataFrame(reviews_by_reviewer, columns=['name', 'address', 'review', 'date', 'link'])"
   ]
  },
  {
   "cell_type": "code",
   "execution_count": 18,
   "metadata": {},
   "outputs": [
    {
     "data": {
      "text/html": [
       "<div>\n",
       "<style scoped>\n",
       "    .dataframe tbody tr th:only-of-type {\n",
       "        vertical-align: middle;\n",
       "    }\n",
       "\n",
       "    .dataframe tbody tr th {\n",
       "        vertical-align: top;\n",
       "    }\n",
       "\n",
       "    .dataframe thead th {\n",
       "        text-align: right;\n",
       "    }\n",
       "</style>\n",
       "<table border=\"1\" class=\"dataframe\">\n",
       "  <thead>\n",
       "    <tr style=\"text-align: right;\">\n",
       "      <th></th>\n",
       "      <th>name</th>\n",
       "      <th>address</th>\n",
       "      <th>review</th>\n",
       "      <th>date</th>\n",
       "      <th>link</th>\n",
       "    </tr>\n",
       "  </thead>\n",
       "  <tbody>\n",
       "    <tr>\n",
       "      <th>0</th>\n",
       "      <td>Ya Kun Kaya Toast</td>\n",
       "      <td>2 Tampines Central 5, Singapore</td>\n",
       "      <td>\\nBreakfast \\nSet A (S$5.60)\\nKaya butter toas...</td>\n",
       "      <td>1h ago</td>\n",
       "      <td>https://www.burpple.com/ya-kun-kaya-toast-66?b...</td>\n",
       "    </tr>\n",
       "    <tr>\n",
       "      <th>1</th>\n",
       "      <td>511 Lor Mee</td>\n",
       "      <td>509 Bedok North Street 3, Singapore</td>\n",
       "      <td>\\nLunch\\nLor Mee (S$4.50)\\nKueh tiao topped wi...</td>\n",
       "      <td>3h ago</td>\n",
       "      <td>https://www.burpple.com/511-lor-mee?bp_ref=%2F...</td>\n",
       "    </tr>\n",
       "    <tr>\n",
       "      <th>2</th>\n",
       "      <td>McDonald's</td>\n",
       "      <td>60 Yishun Avenue 4, Yishun</td>\n",
       "      <td>\\nSupper\\nQuarter Pounder with Cheese Meal (S$...</td>\n",
       "      <td>18h ago</td>\n",
       "      <td>https://www.burpple.com/mcdonalds-555?bp_ref=%...</td>\n",
       "    </tr>\n",
       "    <tr>\n",
       "      <th>3</th>\n",
       "      <td>Tian Yu Tian Fish Head Steamboat</td>\n",
       "      <td>537 Bedok North Street 3, Singapore</td>\n",
       "      <td>\\nZi Char\\nCrispy Noodles (S$4.50)\\n</td>\n",
       "      <td>1d ago</td>\n",
       "      <td>https://www.burpple.com/tian-yu-tian-fish-head...</td>\n",
       "    </tr>\n",
       "    <tr>\n",
       "      <th>4</th>\n",
       "      <td>Kiroi Freshly Baked Cheese Cake</td>\n",
       "      <td>123 Bukit Merah Lane 1, Singapore</td>\n",
       "      <td>\\nCake\\nOriginal (S$9)\\nSoft and pillowy. Japa...</td>\n",
       "      <td>1d ago</td>\n",
       "      <td>https://www.burpple.com/kiroi-freshly-baked-ch...</td>\n",
       "    </tr>\n",
       "    <tr>\n",
       "      <th>...</th>\n",
       "      <td>...</td>\n",
       "      <td>...</td>\n",
       "      <td>...</td>\n",
       "      <td>...</td>\n",
       "      <td>...</td>\n",
       "    </tr>\n",
       "    <tr>\n",
       "      <th>67</th>\n",
       "      <td>Traditional Haig Road Putu Pirin...</td>\n",
       "      <td>930 Yishun Avenue 2, Singapore  ...</td>\n",
       "      <td>\\nSeasonal Item\\nRed Velvet &amp; Nutella Putu Pir...</td>\n",
       "      <td>Feb 13 at 11:17am</td>\n",
       "      <td>https://www.burpple.com/haig-road-putu-piring?...</td>\n",
       "    </tr>\n",
       "    <tr>\n",
       "      <th>68</th>\n",
       "      <td>Sushi-GO (AMK Hub)</td>\n",
       "      <td>53 Ang Mo Kio Avenue 3, Singapor...</td>\n",
       "      <td>\\nBirthday Treat\\n&lt;&gt;\\nDouble stamp during birt...</td>\n",
       "      <td>Feb 13 at 9:40am</td>\n",
       "      <td>https://www.burpple.com/sushi-go-amk-hub?bp_re...</td>\n",
       "    </tr>\n",
       "    <tr>\n",
       "      <th>69</th>\n",
       "      <td>Sweetlands Bread &amp; Bakery       ...</td>\n",
       "      <td>10/12 Kim Keat Lane, Singapore  ...</td>\n",
       "      <td>\\nCake\\nCempedak Cake (S$15)\\nPrice increased ...</td>\n",
       "      <td>Feb 12 at 11:39pm</td>\n",
       "      <td>https://www.burpple.com/sweetlands-confectiona...</td>\n",
       "    </tr>\n",
       "    <tr>\n",
       "      <th>70</th>\n",
       "      <td>The Coffee Bean &amp; Tea Leaf (Nort...</td>\n",
       "      <td>1 Northpoint Drive, Singapore   ...</td>\n",
       "      <td>\\nBirthday Treat\\n&lt;&gt;\\nFree slice of cake\\nFor ...</td>\n",
       "      <td>Feb 12 at 11:25pm</td>\n",
       "      <td>https://www.burpple.com/the-coffee-bean-tea-le...</td>\n",
       "    </tr>\n",
       "    <tr>\n",
       "      <th>71</th>\n",
       "      <td>Starbucks (Northpoint City)     ...</td>\n",
       "      <td>930 Yishun Avenue 2, Singapore  ...</td>\n",
       "      <td>\\nBirthday Treat\\n&lt;&gt;\\nFree slice of cake with ...</td>\n",
       "      <td>Feb 12 at 11:04pm</td>\n",
       "      <td>https://www.burpple.com/starbucks-76?bp_ref=%2...</td>\n",
       "    </tr>\n",
       "  </tbody>\n",
       "</table>\n",
       "<p>72 rows × 5 columns</p>\n",
       "</div>"
      ],
      "text/plain": [
       "                                                 name  \\\n",
       "0                                   Ya Kun Kaya Toast   \n",
       "1                                         511 Lor Mee   \n",
       "2                                          McDonald's   \n",
       "3                    Tian Yu Tian Fish Head Steamboat   \n",
       "4                     Kiroi Freshly Baked Cheese Cake   \n",
       "..                                                ...   \n",
       "67                Traditional Haig Road Putu Pirin...   \n",
       "68                     Sushi-GO (AMK Hub)               \n",
       "69                Sweetlands Bread & Bakery       ...   \n",
       "70                The Coffee Bean & Tea Leaf (Nort...   \n",
       "71                Starbucks (Northpoint City)     ...   \n",
       "\n",
       "                                              address  \\\n",
       "0                     2 Tampines Central 5, Singapore   \n",
       "1                 509 Bedok North Street 3, Singapore   \n",
       "2                          60 Yishun Avenue 4, Yishun   \n",
       "3                 537 Bedok North Street 3, Singapore   \n",
       "4                   123 Bukit Merah Lane 1, Singapore   \n",
       "..                                                ...   \n",
       "67                930 Yishun Avenue 2, Singapore  ...   \n",
       "68                53 Ang Mo Kio Avenue 3, Singapor...   \n",
       "69                10/12 Kim Keat Lane, Singapore  ...   \n",
       "70                1 Northpoint Drive, Singapore   ...   \n",
       "71                930 Yishun Avenue 2, Singapore  ...   \n",
       "\n",
       "                                               review  \\\n",
       "0   \\nBreakfast \\nSet A (S$5.60)\\nKaya butter toas...   \n",
       "1   \\nLunch\\nLor Mee (S$4.50)\\nKueh tiao topped wi...   \n",
       "2   \\nSupper\\nQuarter Pounder with Cheese Meal (S$...   \n",
       "3                \\nZi Char\\nCrispy Noodles (S$4.50)\\n   \n",
       "4   \\nCake\\nOriginal (S$9)\\nSoft and pillowy. Japa...   \n",
       "..                                                ...   \n",
       "67  \\nSeasonal Item\\nRed Velvet & Nutella Putu Pir...   \n",
       "68  \\nBirthday Treat\\n<>\\nDouble stamp during birt...   \n",
       "69  \\nCake\\nCempedak Cake (S$15)\\nPrice increased ...   \n",
       "70  \\nBirthday Treat\\n<>\\nFree slice of cake\\nFor ...   \n",
       "71  \\nBirthday Treat\\n<>\\nFree slice of cake with ...   \n",
       "\n",
       "                                           date  \\\n",
       "0                                        1h ago   \n",
       "1                                        3h ago   \n",
       "2                                       18h ago   \n",
       "3                                        1d ago   \n",
       "4                                        1d ago   \n",
       "..                                          ...   \n",
       "67                Feb 13 at 11:17am               \n",
       "68                 Feb 13 at 9:40am               \n",
       "69                Feb 12 at 11:39pm               \n",
       "70                Feb 12 at 11:25pm               \n",
       "71                Feb 12 at 11:04pm               \n",
       "\n",
       "                                                 link  \n",
       "0   https://www.burpple.com/ya-kun-kaya-toast-66?b...  \n",
       "1   https://www.burpple.com/511-lor-mee?bp_ref=%2F...  \n",
       "2   https://www.burpple.com/mcdonalds-555?bp_ref=%...  \n",
       "3   https://www.burpple.com/tian-yu-tian-fish-head...  \n",
       "4   https://www.burpple.com/kiroi-freshly-baked-ch...  \n",
       "..                                                ...  \n",
       "67  https://www.burpple.com/haig-road-putu-piring?...  \n",
       "68  https://www.burpple.com/sushi-go-amk-hub?bp_re...  \n",
       "69  https://www.burpple.com/sweetlands-confectiona...  \n",
       "70  https://www.burpple.com/the-coffee-bean-tea-le...  \n",
       "71  https://www.burpple.com/starbucks-76?bp_ref=%2...  \n",
       "\n",
       "[72 rows x 5 columns]"
      ]
     },
     "execution_count": 18,
     "metadata": {},
     "output_type": "execute_result"
    }
   ],
   "source": [
    "reviews_by_reviewer_df"
   ]
  },
  {
   "cell_type": "code",
   "execution_count": null,
   "metadata": {},
   "outputs": [],
   "source": [
    "reviews_by_reviewer_df.to_csv(\"reviewer-data/\" + userhandle + \"_reviews.csv\")"
   ]
  }
 ],
 "metadata": {
  "kernelspec": {
   "display_name": "Python 3",
   "language": "python",
   "name": "python3"
  },
  "language_info": {
   "codemirror_mode": {
    "name": "ipython",
    "version": 3
   },
   "file_extension": ".py",
   "mimetype": "text/x-python",
   "name": "python",
   "nbconvert_exporter": "python",
   "pygments_lexer": "ipython3",
   "version": "3.7.4"
  },
  "orig_nbformat": 4,
  "vscode": {
   "interpreter": {
    "hash": "aee8b7b246df8f9039afb4144a1f6fd8d2ca17a180786b69acc140d282b71a49"
   }
  }
 },
 "nbformat": 4,
 "nbformat_minor": 2
}
