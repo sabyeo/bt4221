{
 "cells": [
  {
   "cell_type": "code",
   "execution_count": 1,
   "metadata": {},
   "outputs": [],
   "source": [
    "import pandas as pd\n",
    "import os\n",
    "import glob"
   ]
  },
  {
   "attachments": {},
   "cell_type": "markdown",
   "metadata": {},
   "source": [
    "### Get list of restaurants to scrape data on"
   ]
  },
  {
   "cell_type": "code",
   "execution_count": 2,
   "metadata": {},
   "outputs": [],
   "source": [
    "reviewer_files = glob.glob(os.path.join(\"reviewer-data\", \"*.csv\"))"
   ]
  },
  {
   "cell_type": "code",
   "execution_count": 3,
   "metadata": {},
   "outputs": [],
   "source": [
    "links = list()\n",
    "for file in reviewer_files:\n",
    "    reviewer_csv = pd.read_csv(file, index_col=0)\n",
    "    links.extend(reviewer_csv['link'])\n",
    "\n",
    "unique_links = list(set(links))"
   ]
  },
  {
   "cell_type": "code",
   "execution_count": 4,
   "metadata": {},
   "outputs": [],
   "source": [
    "all_restaurant_links = pd.DataFrame(unique_links, columns=['links'])\n",
    "all_restaurant_links.to_csv('all_restaurant_links.csv')"
   ]
  },
  {
   "cell_type": "code",
   "execution_count": 5,
   "metadata": {},
   "outputs": [
    {
     "name": "stdout",
     "output_type": "stream",
     "text": [
      "total: 3218\n",
      "0: 643\n",
      "1: 643\n",
      "2: 643\n",
      "3: 643\n",
      "4: 646\n"
     ]
    }
   ],
   "source": [
    "# split to 5\n",
    "num_links = len(all_restaurant_links)\n",
    "number_each = num_links//5\n",
    "print('total: ' + str(num_links))\n",
    "\n",
    "for i in range(0, 4):\n",
    "    portion = all_restaurant_links.iloc[i*number_each : (i+1)*number_each]\n",
    "    print(str(i) + ': ' + str(len(portion)))\n",
    "    portion.to_csv('restaurant_links_' + str(i) + '.csv')\n",
    "\n",
    "# last person do the rest\n",
    "portion = all_restaurant_links.iloc[4*number_each : ]\n",
    "print(str(4) + ': ' + str(len(portion)))\n",
    "portion.to_csv('restaurant_links_4.csv')"
   ]
  }
 ],
 "metadata": {
  "kernelspec": {
   "display_name": "Python 3",
   "language": "python",
   "name": "python3"
  },
  "language_info": {
   "codemirror_mode": {
    "name": "ipython",
    "version": 3
   },
   "file_extension": ".py",
   "mimetype": "text/x-python",
   "name": "python",
   "nbconvert_exporter": "python",
   "pygments_lexer": "ipython3",
   "version": "3.7.4"
  },
  "orig_nbformat": 4,
  "vscode": {
   "interpreter": {
    "hash": "aee8b7b246df8f9039afb4144a1f6fd8d2ca17a180786b69acc140d282b71a49"
   }
  }
 },
 "nbformat": 4,
 "nbformat_minor": 2
}
