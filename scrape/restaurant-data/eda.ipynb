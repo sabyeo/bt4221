{
 "cells": [
  {
   "cell_type": "code",
   "execution_count": 2,
   "metadata": {},
   "outputs": [],
   "source": [
    "import pandas as pd\n",
    "import os"
   ]
  },
  {
   "cell_type": "code",
   "execution_count": 3,
   "metadata": {},
   "outputs": [],
   "source": [
    "def read_file():\n",
    "    full_data = pd.DataFrame()\n",
    "    for file in os.listdir():\n",
    "        if 'compiled' in file:\n",
    "            data = pd.read_csv(file, index_col = 0)\n",
    "            full_data = full_data.append(data)\n",
    "    return full_data\n"
   ]
  },
  {
   "cell_type": "code",
   "execution_count": 5,
   "metadata": {},
   "outputs": [
    {
     "name": "stderr",
     "output_type": "stream",
     "text": [
      "/var/folders/74/n55gd6gs38n5wj2k6hwrc_yc0000gn/T/ipykernel_83963/497571254.py:6: FutureWarning: The frame.append method is deprecated and will be removed from pandas in a future version. Use pandas.concat instead.\n",
      "  full_data = full_data.append(data)\n",
      "/var/folders/74/n55gd6gs38n5wj2k6hwrc_yc0000gn/T/ipykernel_83963/497571254.py:6: FutureWarning: The frame.append method is deprecated and will be removed from pandas in a future version. Use pandas.concat instead.\n",
      "  full_data = full_data.append(data)\n",
      "/var/folders/74/n55gd6gs38n5wj2k6hwrc_yc0000gn/T/ipykernel_83963/497571254.py:6: FutureWarning: The frame.append method is deprecated and will be removed from pandas in a future version. Use pandas.concat instead.\n",
      "  full_data = full_data.append(data)\n",
      "/var/folders/74/n55gd6gs38n5wj2k6hwrc_yc0000gn/T/ipykernel_83963/497571254.py:6: FutureWarning: The frame.append method is deprecated and will be removed from pandas in a future version. Use pandas.concat instead.\n",
      "  full_data = full_data.append(data)\n",
      "/var/folders/74/n55gd6gs38n5wj2k6hwrc_yc0000gn/T/ipykernel_83963/497571254.py:6: FutureWarning: The frame.append method is deprecated and will be removed from pandas in a future version. Use pandas.concat instead.\n",
      "  full_data = full_data.append(data)\n"
     ]
    }
   ],
   "source": [
    "data = read_file()"
   ]
  },
  {
   "cell_type": "code",
   "execution_count": null,
   "metadata": {},
   "outputs": [],
   "source": []
  }
 ],
 "metadata": {
  "kernelspec": {
   "display_name": "base",
   "language": "python",
   "name": "python3"
  },
  "language_info": {
   "codemirror_mode": {
    "name": "ipython",
    "version": 3
   },
   "file_extension": ".py",
   "mimetype": "text/x-python",
   "name": "python",
   "nbconvert_exporter": "python",
   "pygments_lexer": "ipython3",
   "version": "3.9.12"
  },
  "orig_nbformat": 4
 },
 "nbformat": 4,
 "nbformat_minor": 2
}
