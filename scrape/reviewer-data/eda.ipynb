{
 "cells": [
  {
   "cell_type": "code",
   "execution_count": 43,
   "metadata": {},
   "outputs": [],
   "source": [
    "import pandas as pd\n",
    "import os"
   ]
  },
  {
   "cell_type": "code",
   "execution_count": 44,
   "metadata": {},
   "outputs": [],
   "source": [
    "reviewer_reviews = pd.read_csv('all_reviewer_reviews.csv', index_col=0)\n",
    "restaurant_reviews = pd.read_csv('../restaurant-data/all_restaurant_reviews.csv', index_col = 0)"
   ]
  },
  {
   "cell_type": "code",
   "execution_count": 37,
   "metadata": {},
   "outputs": [],
   "source": [
    "# remove restaurants that are not in available in all_restaurant_reviews \n",
    "unique_restaurants = restaurant_reviews['url'].unique()\n",
    "reviews_available = reviewer_reviews[reviewer_reviews['link'].isin(unique_restaurants)]"
   ]
  },
  {
   "cell_type": "code",
   "execution_count": 41,
   "metadata": {},
   "outputs": [
    {
     "data": {
      "text/html": [
       "<div>\n",
       "<style scoped>\n",
       "    .dataframe tbody tr th:only-of-type {\n",
       "        vertical-align: middle;\n",
       "    }\n",
       "\n",
       "    .dataframe tbody tr th {\n",
       "        vertical-align: top;\n",
       "    }\n",
       "\n",
       "    .dataframe thead th {\n",
       "        text-align: right;\n",
       "    }\n",
       "</style>\n",
       "<table border=\"1\" class=\"dataframe\">\n",
       "  <thead>\n",
       "    <tr style=\"text-align: right;\">\n",
       "      <th></th>\n",
       "      <th>reviewer</th>\n",
       "      <th>num_reviews_before</th>\n",
       "      <th>num_reviews_available</th>\n",
       "    </tr>\n",
       "  </thead>\n",
       "  <tbody>\n",
       "    <tr>\n",
       "      <th>0</th>\n",
       "      <td>DanielFoodDiary</td>\n",
       "      <td>122</td>\n",
       "      <td>26</td>\n",
       "    </tr>\n",
       "    <tr>\n",
       "      <th>1</th>\n",
       "      <td>Eatravel</td>\n",
       "      <td>1796</td>\n",
       "      <td>637</td>\n",
       "    </tr>\n",
       "    <tr>\n",
       "      <th>2</th>\n",
       "      <td>MightyFoodie</td>\n",
       "      <td>1636</td>\n",
       "      <td>480</td>\n",
       "    </tr>\n",
       "    <tr>\n",
       "      <th>3</th>\n",
       "      <td>Vanessa_Kou</td>\n",
       "      <td>1028</td>\n",
       "      <td>327</td>\n",
       "    </tr>\n",
       "    <tr>\n",
       "      <th>4</th>\n",
       "      <td>alamakgirl</td>\n",
       "      <td>3173</td>\n",
       "      <td>624</td>\n",
       "    </tr>\n",
       "    <tr>\n",
       "      <th>5</th>\n",
       "      <td>iSteven</td>\n",
       "      <td>46</td>\n",
       "      <td>16</td>\n",
       "    </tr>\n",
       "    <tr>\n",
       "      <th>6</th>\n",
       "      <td>juliuslim</td>\n",
       "      <td>1448</td>\n",
       "      <td>439</td>\n",
       "    </tr>\n",
       "    <tr>\n",
       "      <th>7</th>\n",
       "      <td>thefoodcompendium</td>\n",
       "      <td>4484</td>\n",
       "      <td>1792</td>\n",
       "    </tr>\n",
       "    <tr>\n",
       "      <th>8</th>\n",
       "      <td>thiampeng</td>\n",
       "      <td>3134</td>\n",
       "      <td>821</td>\n",
       "    </tr>\n",
       "    <tr>\n",
       "      <th>9</th>\n",
       "      <td>veronicaphua</td>\n",
       "      <td>906</td>\n",
       "      <td>437</td>\n",
       "    </tr>\n",
       "  </tbody>\n",
       "</table>\n",
       "</div>"
      ],
      "text/plain": [
       "            reviewer  num_reviews_before  num_reviews_available\n",
       "0    DanielFoodDiary                 122                     26\n",
       "1           Eatravel                1796                    637\n",
       "2       MightyFoodie                1636                    480\n",
       "3        Vanessa_Kou                1028                    327\n",
       "4         alamakgirl                3173                    624\n",
       "5            iSteven                  46                     16\n",
       "6          juliuslim                1448                    439\n",
       "7  thefoodcompendium                4484                   1792\n",
       "8          thiampeng                3134                    821\n",
       "9       veronicaphua                 906                    437"
      ]
     },
     "execution_count": 41,
     "metadata": {},
     "output_type": "execute_result"
    }
   ],
   "source": [
    "# change in number of reviews\n",
    "result = reviewer_reviews[['reviewer','link']].groupby('reviewer').count().reset_index()\n",
    "result['num_reviews_available'] = list(reviews_available[['reviewer','link']].groupby('reviewer').count()['link'])\n",
    "result.rename({'link':'num_reviews_before'}, axis = 1)"
   ]
  },
  {
   "cell_type": "code",
   "execution_count": 46,
   "metadata": {},
   "outputs": [
    {
     "data": {
      "text/plain": [
       "reviewer                 DanielFoodDiaryEatravelMightyFoodieVanessa_Kou...\n",
       "link                                                                 17773\n",
       "num_reviews_available                                                 5599\n",
       "dtype: object"
      ]
     },
     "execution_count": 46,
     "metadata": {},
     "output_type": "execute_result"
    }
   ],
   "source": [
    "# total number of reviews \n",
    "result.sum()"
   ]
  },
  {
   "cell_type": "code",
   "execution_count": 50,
   "metadata": {},
   "outputs": [
    {
     "data": {
      "text/html": [
       "<div>\n",
       "<style scoped>\n",
       "    .dataframe tbody tr th:only-of-type {\n",
       "        vertical-align: middle;\n",
       "    }\n",
       "\n",
       "    .dataframe tbody tr th {\n",
       "        vertical-align: top;\n",
       "    }\n",
       "\n",
       "    .dataframe thead th {\n",
       "        text-align: right;\n",
       "    }\n",
       "</style>\n",
       "<table border=\"1\" class=\"dataframe\">\n",
       "  <thead>\n",
       "    <tr style=\"text-align: right;\">\n",
       "      <th></th>\n",
       "      <th>name</th>\n",
       "      <th>address</th>\n",
       "      <th>review</th>\n",
       "      <th>date</th>\n",
       "      <th>link</th>\n",
       "      <th>reviewer</th>\n",
       "      <th>keep</th>\n",
       "    </tr>\n",
       "  </thead>\n",
       "  <tbody>\n",
       "    <tr>\n",
       "      <th>12</th>\n",
       "      <td>Kazoku Japanese Cuisine</td>\n",
       "      <td>1 Goldhill Plaza, Singapore     ...</td>\n",
       "      <td>\\n1-for-1 Don\\nKazoku Chirashi Don (S$29.90++)...</td>\n",
       "      <td>4d ago</td>\n",
       "      <td>https://www.burpple.com/kazoku-japanese-cuisin...</td>\n",
       "      <td>alamakgirl</td>\n",
       "      <td>1</td>\n",
       "    </tr>\n",
       "    <tr>\n",
       "      <th>31</th>\n",
       "      <td>Tigerlily Patisserie</td>\n",
       "      <td>350 Joo Chiat Road, Singapore   ...</td>\n",
       "      <td>\\nBrunch\\nBeehive (S$15+)\\nLemon, thyme and ly...</td>\n",
       "      <td>Feb 26 at 12:44pm</td>\n",
       "      <td>https://www.burpple.com/tigerlily-patisserie?b...</td>\n",
       "      <td>alamakgirl</td>\n",
       "      <td>1</td>\n",
       "    </tr>\n",
       "    <tr>\n",
       "      <th>32</th>\n",
       "      <td>Putien (Northpoint City)        ...</td>\n",
       "      <td>930 Yishun Avenue 2, Singapore  ...</td>\n",
       "      <td>\\nBirthday Treat \\n20% discount \\nValid during...</td>\n",
       "      <td>Feb 24 at 10:47pm</td>\n",
       "      <td>https://www.burpple.com/putien-8?bp_ref=%2Ff%2...</td>\n",
       "      <td>alamakgirl</td>\n",
       "      <td>1</td>\n",
       "    </tr>\n",
       "  </tbody>\n",
       "</table>\n",
       "</div>"
      ],
      "text/plain": [
       "                                                 name  \\\n",
       "12                Kazoku Japanese Cuisine               \n",
       "31                   Tigerlily Patisserie               \n",
       "32                Putien (Northpoint City)        ...   \n",
       "\n",
       "                                              address  \\\n",
       "12                1 Goldhill Plaza, Singapore     ...   \n",
       "31                350 Joo Chiat Road, Singapore   ...   \n",
       "32                930 Yishun Avenue 2, Singapore  ...   \n",
       "\n",
       "                                               review  \\\n",
       "12  \\n1-for-1 Don\\nKazoku Chirashi Don (S$29.90++)...   \n",
       "31  \\nBrunch\\nBeehive (S$15+)\\nLemon, thyme and ly...   \n",
       "32  \\nBirthday Treat \\n20% discount \\nValid during...   \n",
       "\n",
       "                                           date  \\\n",
       "12                           4d ago               \n",
       "31                Feb 26 at 12:44pm               \n",
       "32                Feb 24 at 10:47pm               \n",
       "\n",
       "                                                 link    reviewer  keep  \n",
       "12  https://www.burpple.com/kazoku-japanese-cuisin...  alamakgirl     1  \n",
       "31  https://www.burpple.com/tigerlily-patisserie?b...  alamakgirl     1  \n",
       "32  https://www.burpple.com/putien-8?bp_ref=%2Ff%2...  alamakgirl     1  "
      ]
     },
     "execution_count": 50,
     "metadata": {},
     "output_type": "execute_result"
    }
   ],
   "source": [
    "# drop danielfooddiary and isteven due to lack of reviews\n",
    "reviewers_to_keep = list(result[result['num_reviews_available']>=100]['reviewer'])\n",
    "final_reviews = reviews_available[reviews_available['reviewer'].isin(reviewers_to_keep)]\n",
    "final_reviews.head(3)"
   ]
  }
 ],
 "metadata": {
  "kernelspec": {
   "display_name": "base",
   "language": "python",
   "name": "python3"
  },
  "language_info": {
   "codemirror_mode": {
    "name": "ipython",
    "version": 3
   },
   "file_extension": ".py",
   "mimetype": "text/x-python",
   "name": "python",
   "nbconvert_exporter": "python",
   "pygments_lexer": "ipython3",
   "version": "3.7.4"
  },
  "orig_nbformat": 4
 },
 "nbformat": 4,
 "nbformat_minor": 2
}
