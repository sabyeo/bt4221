{
 "cells": [
  {
   "cell_type": "code",
   "execution_count": 1,
   "metadata": {},
   "outputs": [],
   "source": [
    "import pandas as pd\n",
    "import os"
   ]
  },
  {
   "attachments": {},
   "cell_type": "markdown",
   "metadata": {},
   "source": [
    "#### Combine all reviewer data"
   ]
  },
  {
   "cell_type": "code",
   "execution_count": 2,
   "metadata": {},
   "outputs": [
    {
     "data": {
      "text/html": [
       "<div>\n",
       "<style scoped>\n",
       "    .dataframe tbody tr th:only-of-type {\n",
       "        vertical-align: middle;\n",
       "    }\n",
       "\n",
       "    .dataframe tbody tr th {\n",
       "        vertical-align: top;\n",
       "    }\n",
       "\n",
       "    .dataframe thead th {\n",
       "        text-align: right;\n",
       "    }\n",
       "</style>\n",
       "<table border=\"1\" class=\"dataframe\">\n",
       "  <thead>\n",
       "    <tr style=\"text-align: right;\">\n",
       "      <th></th>\n",
       "      <th>name</th>\n",
       "      <th>address</th>\n",
       "      <th>review</th>\n",
       "      <th>date</th>\n",
       "      <th>link</th>\n",
       "    </tr>\n",
       "  </thead>\n",
       "  <tbody>\n",
       "    <tr>\n",
       "      <th>0</th>\n",
       "      <td>Ya Kun Kaya Toast</td>\n",
       "      <td>2 Tampines Central 5, Singapore</td>\n",
       "      <td>\\nBreakfast \\nSet A (S$5.60)\\nKaya butter toas...</td>\n",
       "      <td>3h ago</td>\n",
       "      <td>https://www.burpple.com/ya-kun-kaya-toast-66?b...</td>\n",
       "    </tr>\n",
       "    <tr>\n",
       "      <th>1</th>\n",
       "      <td>511 Lor Mee</td>\n",
       "      <td>509 Bedok North Street 3, Singapore</td>\n",
       "      <td>\\nLunch\\nLor Mee (S$4.50)\\nKueh tiao topped wi...</td>\n",
       "      <td>5h ago</td>\n",
       "      <td>https://www.burpple.com/511-lor-mee?bp_ref=%2F...</td>\n",
       "    </tr>\n",
       "    <tr>\n",
       "      <th>2</th>\n",
       "      <td>McDonald's</td>\n",
       "      <td>60 Yishun Avenue 4, Yishun</td>\n",
       "      <td>\\nSupper\\nQuarter Pounder with Cheese Meal (S$...</td>\n",
       "      <td>19h ago</td>\n",
       "      <td>https://www.burpple.com/mcdonalds-555?bp_ref=%...</td>\n",
       "    </tr>\n",
       "  </tbody>\n",
       "</table>\n",
       "</div>"
      ],
      "text/plain": [
       "                name                              address  \\\n",
       "0  Ya Kun Kaya Toast      2 Tampines Central 5, Singapore   \n",
       "1        511 Lor Mee  509 Bedok North Street 3, Singapore   \n",
       "2         McDonald's           60 Yishun Avenue 4, Yishun   \n",
       "\n",
       "                                              review     date  \\\n",
       "0  \\nBreakfast \\nSet A (S$5.60)\\nKaya butter toas...   3h ago   \n",
       "1  \\nLunch\\nLor Mee (S$4.50)\\nKueh tiao topped wi...   5h ago   \n",
       "2  \\nSupper\\nQuarter Pounder with Cheese Meal (S$...  19h ago   \n",
       "\n",
       "                                                link  \n",
       "0  https://www.burpple.com/ya-kun-kaya-toast-66?b...  \n",
       "1  https://www.burpple.com/511-lor-mee?bp_ref=%2F...  \n",
       "2  https://www.burpple.com/mcdonalds-555?bp_ref=%...  "
      ]
     },
     "execution_count": 2,
     "metadata": {},
     "output_type": "execute_result"
    }
   ],
   "source": [
    "data_all_reviewers = pd.DataFrame()\n",
    "for file in os.listdir('reviewer-data'):\n",
    "    if file!='all_reviews.csv':\n",
    "        data = pd.read_csv('reviewer-data/'+ file)\n",
    "        data_all_reviewers = data_all_reviewers.append(data)\n",
    "\n",
    "data_all_reviewers = data_all_reviewers.iloc[:,1:]\n",
    "data_all_reviewers.head(3)"
   ]
  },
  {
   "cell_type": "code",
   "execution_count": 3,
   "metadata": {},
   "outputs": [
    {
     "data": {
      "text/plain": [
       "60470"
      ]
     },
     "execution_count": 3,
     "metadata": {},
     "output_type": "execute_result"
    }
   ],
   "source": [
    "len(data_all_reviewers)"
   ]
  },
  {
   "cell_type": "code",
   "execution_count": 4,
   "metadata": {},
   "outputs": [],
   "source": [
    "data_all_reviewers.to_csv('reviewer-data/all_reviews.csv')"
   ]
  },
  {
   "attachments": {},
   "cell_type": "markdown",
   "metadata": {},
   "source": [
    "#### Find unique restaurants"
   ]
  },
  {
   "cell_type": "code",
   "execution_count": 5,
   "metadata": {},
   "outputs": [],
   "source": [
    "data_all_reviewers['keep'] = data_all_reviewers.apply(lambda x: 1 if 'ago' in x['date'] else 1 if 'at' in x['date'] else 1 if int(x['date'].split(', ')[-1]) >=2020 else 0, axis = 1)"
   ]
  },
  {
   "cell_type": "code",
   "execution_count": 6,
   "metadata": {},
   "outputs": [],
   "source": [
    "from_2020 = data_all_reviewers[data_all_reviewers['keep']==1]\n",
    "unique_restaurants = []\n",
    "links = []\n",
    "for i in from_2020['link'].unique():\n",
    "    name = i.replace('https://www.burpple.com/','')\n",
    "    name = name.split('?')[0]\n",
    "    try:\n",
    "        unique_restaurants.append(name.strip())\n",
    "        links.append(i)\n",
    "    except:\n",
    "        pass"
   ]
  },
  {
   "cell_type": "code",
   "execution_count": 7,
   "metadata": {},
   "outputs": [
    {
     "data": {
      "text/plain": [
       "5761"
      ]
     },
     "execution_count": 7,
     "metadata": {},
     "output_type": "execute_result"
    }
   ],
   "source": [
    "len(unique_restaurants)"
   ]
  },
  {
   "cell_type": "code",
   "execution_count": 8,
   "metadata": {},
   "outputs": [],
   "source": [
    "result = pd.DataFrame()\n",
    "result['name'] = unique_restaurants\n",
    "result['link'] = links"
   ]
  },
  {
   "cell_type": "code",
   "execution_count": 9,
   "metadata": {},
   "outputs": [],
   "source": [
    "pd.DataFrame(result).to_csv('restaurant-data/unique_restaurants.csv')"
   ]
  },
  {
   "cell_type": "code",
   "execution_count": null,
   "metadata": {},
   "outputs": [],
   "source": []
  }
 ],
 "metadata": {
  "kernelspec": {
   "display_name": "base",
   "language": "python",
   "name": "python3"
  },
  "language_info": {
   "codemirror_mode": {
    "name": "ipython",
    "version": 3
   },
   "file_extension": ".py",
   "mimetype": "text/x-python",
   "name": "python",
   "nbconvert_exporter": "python",
   "pygments_lexer": "ipython3",
   "version": "3.9.12"
  },
  "orig_nbformat": 4
 },
 "nbformat": 4,
 "nbformat_minor": 2
}
