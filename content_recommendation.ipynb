{
 "cells": [
  {
   "cell_type": "code",
   "execution_count": null,
   "metadata": {},
   "outputs": [],
   "source": [
    "import pandas as pd\n",
    "import matplotlib.pyplot as plt\n",
    "import numpy as np\n",
    "import pandas as pd\n",
    "import seaborn as sns\n",
    "from sklearn.feature_extraction.text import CountVectorizer\n",
    "from sklearn.cluster import KMeans\n",
    "from sklearn.metrics.pairwise import cosine_similarity\n",
    "from sklearn.decomposition import PCA"
   ]
  },
  {
   "cell_type": "code",
   "execution_count": null,
   "metadata": {},
   "outputs": [],
   "source": [
    "def give_recommendations(index,restaurants, cos_sim_data, print_recommendation = False,print_recommendation_plots= False,print_genres =False):\n",
    "  index_recomm =cos_sim_data.loc[index].sort_values(ascending=False).index.tolist()[1:6]\n",
    "  recos = []\n",
    "  for i in index_recomm:\n",
    "    print(restaurants.iloc[i]['url'])\n",
    "    recos.append(restaurants.iloc[i]['url'])\n",
    "  return recos"
   ]
  },
  {
   "cell_type": "code",
   "execution_count": null,
   "metadata": {},
   "outputs": [],
   "source": [
    "# find similarities between restaurants\n",
    "def generate_similarities(restaurants):\n",
    "    X = np.array(restaurants.iloc[0:, 1:])\n",
    "    cos_sim_data = pd.DataFrame(cosine_similarity(X))\n",
    "    return cos_sim_data"
   ]
  },
  {
   "cell_type": "code",
   "execution_count": null,
   "metadata": {},
   "outputs": [],
   "source": [
    "# plot the distribution of cosine similairty scores\n",
    "# why are the scores so concentrated between 0.88 to 0.95? Might come from nature of input data. Keywords frome each topic is almost the same except hte location of restaurants. How do we deal w this?\n",
    "import seaborn as sns\n",
    "\n",
    "def plot_similarity_distribution(cos_sim_data):\n",
    "    sns.distplot(cos_sim_data[0], hist=True, kde=True, \n",
    "                bins=int(180/5), color = 'darkblue', \n",
    "                hist_kws={'edgecolor':'black'},\n",
    "                kde_kws={'linewidth': 4})"
   ]
  },
  {
   "cell_type": "code",
   "execution_count": null,
   "metadata": {},
   "outputs": [],
   "source": [
    "reviewer_reviews_df = pd.read_csv('cleaning/cleaned_reviewer_reviews.csv', index_col=0).reset_index(drop=True) \n",
    "#reviewer_reviews_df = pd.read_csv('scrape/reviewer-data/all_reviewer_reviews.csv', index_col=0).reset_index(drop=True) ###### TO CHANGE FILE PATH TO THE CORRECT ONE\n",
    "reviewer_reviews_df.head(2)"
   ]
  },
  {
   "attachments": {},
   "cell_type": "markdown",
   "metadata": {},
   "source": [
    "## Doc2Vec Trigram Recommendation Results"
   ]
  },
  {
   "cell_type": "code",
   "execution_count": null,
   "metadata": {},
   "outputs": [],
   "source": [
    "doc2vec = pd.read_csv(\"topic_modelling/doc2vec_labelled_restaurants_model4.csv\", index_col = 0)\n",
    "doc2vec"
   ]
  },
  {
   "cell_type": "code",
   "execution_count": null,
   "metadata": {},
   "outputs": [],
   "source": [
    "cos_sim_data = generate_similarities(doc2vec)"
   ]
  },
  {
   "cell_type": "code",
   "execution_count": null,
   "metadata": {},
   "outputs": [],
   "source": [
    "plot_similarity_distribution(cos_sim_data)"
   ]
  },
  {
   "cell_type": "code",
   "execution_count": null,
   "metadata": {},
   "outputs": [],
   "source": [
    "from random import randrange, seed\n",
    "seed(123)\n",
    "for i in range(5):\n",
    "    gen = randrange(len(doc2vec))\n",
    "    gen_name = doc2vec.iloc[gen]['url']\n",
    "    print(f'Restaurant Passed in: {gen}, {gen_name}')\n",
    "    give_recommendations(gen, doc2vec, cos_sim_data)"
   ]
  },
  {
   "cell_type": "code",
   "execution_count": null,
   "metadata": {},
   "outputs": [],
   "source": [
    "gen = 361\n",
    "gen_name = doc2vec.iloc[gen]['url']\n",
    "print(f'Restaurant Passed in: {gen}, {gen_name}')\n",
    "give_recommendations(gen, doc2vec, cos_sim_data)"
   ]
  },
  {
   "cell_type": "code",
   "execution_count": null,
   "metadata": {},
   "outputs": [],
   "source": [
    "recommendation_list = []\n",
    "for idx, row in reviewer_reviews_df.iterrows():\n",
    "    url = row['link']\n",
    "    i = list(doc2vec['url']).index(url)\n",
    "    recos = give_recommendations(i, doc2vec, cos_sim_data)\n",
    "    recommendation_list.append(recos)"
   ]
  },
  {
   "cell_type": "code",
   "execution_count": null,
   "metadata": {},
   "outputs": [],
   "source": [
    "reviewer_reviews_df['recommendations'] = recommendation_list\n",
    "reviewer_reviews_df.head(5)"
   ]
  },
  {
   "cell_type": "code",
   "execution_count": null,
   "metadata": {},
   "outputs": [],
   "source": [
    "reviewer_reviews_df.to_csv('doc2vec_content_recommendation.csv')"
   ]
  },
  {
   "attachments": {},
   "cell_type": "markdown",
   "metadata": {},
   "source": [
    "## LDA Recommendation Results"
   ]
  },
  {
   "cell_type": "code",
   "execution_count": null,
   "metadata": {},
   "outputs": [],
   "source": [
    "lda = pd.read_csv(\"topic_modelling/lda_labelled_restaurants_4_12apr_final.csv\", index_col = 0)"
   ]
  },
  {
   "cell_type": "code",
   "execution_count": null,
   "metadata": {},
   "outputs": [],
   "source": [
    "cos_sim_data = generate_similarities(lda)"
   ]
  },
  {
   "cell_type": "code",
   "execution_count": null,
   "metadata": {},
   "outputs": [],
   "source": [
    "plot_similarity_distribution(cos_sim_data)"
   ]
  },
  {
   "cell_type": "code",
   "execution_count": null,
   "metadata": {},
   "outputs": [],
   "source": [
    "from random import randrange, seed\n",
    "seed(123)\n",
    "for i in range(5):\n",
    "    gen = randrange(len(doc2vec))\n",
    "    gen_name = doc2vec.iloc[gen]['url']\n",
    "    print(f'Restaurant Passed in: {gen}, {gen_name}')\n",
    "    give_recommendations(gen, lda, cos_sim_data)"
   ]
  },
  {
   "cell_type": "code",
   "execution_count": null,
   "metadata": {},
   "outputs": [],
   "source": []
  }
 ],
 "metadata": {
  "kernelspec": {
   "display_name": "base",
   "language": "python",
   "name": "python3"
  },
  "language_info": {
   "codemirror_mode": {
    "name": "ipython",
    "version": 3
   },
   "file_extension": ".py",
   "mimetype": "text/x-python",
   "name": "python",
   "nbconvert_exporter": "python",
   "pygments_lexer": "ipython3",
   "version": "3.9.12"
  },
  "orig_nbformat": 4
 },
 "nbformat": 4,
 "nbformat_minor": 2
}
